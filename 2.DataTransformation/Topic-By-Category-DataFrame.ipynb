{
 "cells": [
  {
   "cell_type": "code",
   "execution_count": 1,
   "metadata": {
    "collapsed": true,
    "deletable": true,
    "editable": true
   },
   "outputs": [],
   "source": [
    "from pyspark.sql.functions import desc, explode\n",
    "import pandas as pd\n",
    "import datetime\n",
    "import json\n",
    "import itertools\n",
    "import pickle"
   ]
  },
  {
   "cell_type": "code",
   "execution_count": 2,
   "metadata": {
    "collapsed": true,
    "deletable": true,
    "editable": true
   },
   "outputs": [],
   "source": [
    "jsondf = spark.read.json(\"s3a://groupsinfonewsplitter/2017/*/*/*\")"
   ]
  },
  {
   "cell_type": "code",
   "execution_count": 3,
   "metadata": {
    "collapsed": false,
    "deletable": true,
    "editable": true,
    "scrolled": true
   },
   "outputs": [
    {
     "name": "stdout",
     "output_type": "stream",
     "text": [
      "root\n",
      " |-- category: struct (nullable = true)\n",
      " |    |-- id: long (nullable = true)\n",
      " |    |-- name: string (nullable = true)\n",
      " |    |-- shortname: string (nullable = true)\n",
      " |-- city: string (nullable = true)\n",
      " |-- country: string (nullable = true)\n",
      " |-- created: long (nullable = true)\n",
      " |-- description: string (nullable = true)\n",
      " |-- group_photo: struct (nullable = true)\n",
      " |    |-- base_url: string (nullable = true)\n",
      " |    |-- highres_link: string (nullable = true)\n",
      " |    |-- photo_id: long (nullable = true)\n",
      " |    |-- photo_link: string (nullable = true)\n",
      " |    |-- thumb_link: string (nullable = true)\n",
      " |    |-- type: string (nullable = true)\n",
      " |-- id: long (nullable = true)\n",
      " |-- join_mode: string (nullable = true)\n",
      " |-- lat: double (nullable = true)\n",
      " |-- link: string (nullable = true)\n",
      " |-- lon: double (nullable = true)\n",
      " |-- members: long (nullable = true)\n",
      " |-- name: string (nullable = true)\n",
      " |-- organizer: struct (nullable = true)\n",
      " |    |-- member_id: long (nullable = true)\n",
      " |    |-- name: string (nullable = true)\n",
      " |    |-- photo: struct (nullable = true)\n",
      " |    |    |-- base_url: string (nullable = true)\n",
      " |    |    |-- highres_link: string (nullable = true)\n",
      " |    |    |-- photo_id: long (nullable = true)\n",
      " |    |    |-- photo_link: string (nullable = true)\n",
      " |    |    |-- thumb_link: string (nullable = true)\n",
      " |    |    |-- type: string (nullable = true)\n",
      " |-- rating: double (nullable = true)\n",
      " |-- state: string (nullable = true)\n",
      " |-- timezone: string (nullable = true)\n",
      " |-- topics: array (nullable = true)\n",
      " |    |-- element: struct (containsNull = true)\n",
      " |    |    |-- id: long (nullable = true)\n",
      " |    |    |-- name: string (nullable = true)\n",
      " |    |    |-- urlkey: string (nullable = true)\n",
      " |-- urlname: string (nullable = true)\n",
      " |-- utc_offset: long (nullable = true)\n",
      " |-- visibility: string (nullable = true)\n",
      " |-- who: string (nullable = true)\n",
      "\n"
     ]
    }
   ],
   "source": [
    "# jsondf.printSchema()"
   ]
  },
  {
   "cell_type": "code",
   "execution_count": 3,
   "metadata": {
    "collapsed": false,
    "deletable": true,
    "editable": true,
    "scrolled": false
   },
   "outputs": [],
   "source": [
    "selected_features_df = jsondf.select(jsondf['id'],\\\n",
    "                                     jsondf['city'],\\\n",
    "                                     jsondf['category'].alias(\"cat\"),\\\n",
    "                                     jsondf['topics'].alias(\"top\"))"
   ]
  },
  {
   "cell_type": "code",
   "execution_count": 4,
   "metadata": {
    "collapsed": false,
    "deletable": true,
    "editable": true
   },
   "outputs": [],
   "source": [
    "df = selected_features_df.withColumn(\"category\", selected_features_df['cat'].getField(\"name\"))\n",
    "df = df.withColumn(\"topics\", df['top'].getField(\"name\"))"
   ]
  },
  {
   "cell_type": "code",
   "execution_count": 5,
   "metadata": {
    "collapsed": false,
    "deletable": true,
    "editable": true,
    "scrolled": true
   },
   "outputs": [
    {
     "name": "stdout",
     "output_type": "stream",
     "text": [
      "+-------+--------+--------------------+--------------------+-----------------+--------------------+\n",
      "|     id|    city|                 cat|                 top|         category|              topics|\n",
      "+-------+--------+--------------------+--------------------+-----------------+--------------------+\n",
      "|6277092| Houston|[31,socializing,s...|[[2494,Black Prof...|      socializing|[Black Profession...|\n",
      "| 674822| Atlanta|[1,fine arts/cult...|[[542,Arthouse,ar...|fine arts/culture|[Arthouse, Watchi...|\n",
      "|1104060|  Denver|      [34,tech,tech]|[[455,PHP,php], [...|             tech|[PHP, Open Source...|\n",
      "|1153075|San Jose|[3,cars/motorcycl...|[[498,Singles,sin...| cars/motorcycles|[Singles, Honda M...|\n",
      "| 503295| Seattle|      [34,tech,tech]|[[1081,Graphical ...|             tech|[Graphical User I...|\n",
      "+-------+--------+--------------------+--------------------+-----------------+--------------------+\n",
      "only showing top 5 rows\n",
      "\n"
     ]
    }
   ],
   "source": [
    "df.show(5)"
   ]
  },
  {
   "cell_type": "code",
   "execution_count": 6,
   "metadata": {
    "collapsed": false,
    "deletable": true,
    "editable": true
   },
   "outputs": [],
   "source": [
    "df = df.select(df['id'],df['city'],df['category'],df['topics']).distinct()"
   ]
  },
  {
   "cell_type": "code",
   "execution_count": 7,
   "metadata": {
    "collapsed": false,
    "deletable": true,
    "editable": true
   },
   "outputs": [
    {
     "name": "stdout",
     "output_type": "stream",
     "text": [
      "+--------+-------------+--------------------+--------------------+\n",
      "|      id|         city|            category|              topics|\n",
      "+--------+-------------+--------------------+--------------------+\n",
      "|  219419|      Seattle|language/ethnic i...|[Chinese Culture,...|\n",
      "|  219991|     New York|             support|[Social Networkin...|\n",
      "|  349667|      Seattle|    health/wellbeing|[Yoga, Metaphysic...|\n",
      "|12612322|      Houston|  movements/politics|[Feminism, Procho...|\n",
      "|  366695|Mountain View|  outdoors/adventure|[Fitness, Camping...|\n",
      "+--------+-------------+--------------------+--------------------+\n",
      "only showing top 5 rows\n",
      "\n"
     ]
    }
   ],
   "source": [
    "df.show(5)"
   ]
  },
  {
   "cell_type": "code",
   "execution_count": 8,
   "metadata": {
    "collapsed": true,
    "deletable": true,
    "editable": true
   },
   "outputs": [],
   "source": [
    "df.write.parquet(\"s3a://meetupdf/topic_by_category\")"
   ]
  },
  {
   "cell_type": "code",
   "execution_count": null,
   "metadata": {
    "collapsed": true,
    "deletable": true,
    "editable": true
   },
   "outputs": [],
   "source": []
  }
 ],
 "metadata": {
  "kernelspec": {
   "display_name": "Python 2",
   "language": "python",
   "name": "python2"
  },
  "language_info": {
   "codemirror_mode": {
    "name": "ipython",
    "version": 2
   },
   "file_extension": ".py",
   "mimetype": "text/x-python",
   "name": "python",
   "nbconvert_exporter": "python",
   "pygments_lexer": "ipython2",
   "version": "2.7.12"
  }
 },
 "nbformat": 4,
 "nbformat_minor": 2
}
