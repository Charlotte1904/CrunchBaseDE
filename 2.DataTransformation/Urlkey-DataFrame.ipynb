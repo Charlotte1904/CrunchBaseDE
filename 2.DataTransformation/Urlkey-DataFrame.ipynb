{
 "cells": [
  {
   "cell_type": "code",
   "execution_count": 1,
   "metadata": {
    "collapsed": true,
    "deletable": true,
    "editable": true
   },
   "outputs": [],
   "source": [
    "from pyspark.sql.functions import desc, explode\n",
    "from pyspark.sql.functions import UserDefinedFunction\n",
    "from pyspark.sql.types import StringType, IntegerType\n",
    "import time\n",
    "import datetime"
   ]
  },
  {
   "cell_type": "code",
   "execution_count": 2,
   "metadata": {
    "collapsed": true,
    "deletable": true,
    "editable": true
   },
   "outputs": [],
   "source": [
    "df = spark.read.json(\"s3a://meetuprsvpbucket/2017/*/*/*\")"
   ]
  },
  {
   "cell_type": "code",
   "execution_count": 3,
   "metadata": {
    "collapsed": true,
    "deletable": true,
    "editable": true
   },
   "outputs": [],
   "source": [
    "topics = df.select(df['group']['group_id'].alias('group_id'),\\\n",
    "                   df['event']['event_id'].alias('event_id'),\\\n",
    "                   df['group']['group_city'].alias('group_city'), \\\n",
    "                   df['event']['time'].alias('event_time'),\\\n",
    "                   df['group']['group_topics'].alias(\"topic\")).distinct()"
   ]
  },
  {
   "cell_type": "code",
   "execution_count": 4,
   "metadata": {
    "collapsed": true,
    "deletable": true,
    "editable": true
   },
   "outputs": [],
   "source": [
    "urlkey = topics.withColumn(\"urlkey\", topics['topic'].getField(\"urlkey\"))"
   ]
  },
  {
   "cell_type": "code",
   "execution_count": 5,
   "metadata": {
    "collapsed": false,
    "deletable": true,
    "editable": true
   },
   "outputs": [
    {
     "name": "stdout",
     "output_type": "stream",
     "text": [
      "+--------+---------+----------+-------------+--------------------+--------------------+\n",
      "|group_id| event_id|group_city|   event_time|               topic|              urlkey|\n",
      "+--------+---------+----------+-------------+--------------------+--------------------+\n",
      "|18840067|237770081|Shoalhaven|1488672000000|[[Coffee,coffee],...|[coffee, newintow...|\n",
      "|18516260|238052508|    Berlin|1488963600000|[[Literature,lite...|[literature, poet...|\n",
      "| 2745532|238023945|    Berlin|1488565800000|[[Expat,expat], [...|[expat, newintown...|\n",
      "|12307722|237325585|      Troy|1493983800000|[[Singles,singles...|[singles, cruisin...|\n",
      "|18868628|237700461|    Austin|1489532400000|[[Scrum,scrum], [...|[scrum, agile-pro...|\n",
      "+--------+---------+----------+-------------+--------------------+--------------------+\n",
      "only showing top 5 rows\n",
      "\n"
     ]
    }
   ],
   "source": [
    "urlkey.show(5)"
   ]
  },
  {
   "cell_type": "code",
   "execution_count": 6,
   "metadata": {
    "collapsed": true
   },
   "outputs": [],
   "source": [
    "sf_urlkey = urlkey.filter(urlkey['group_city'] ==\"San Francisco\")"
   ]
  },
  {
   "cell_type": "code",
   "execution_count": 7,
   "metadata": {
    "collapsed": false
   },
   "outputs": [
    {
     "name": "stdout",
     "output_type": "stream",
     "text": [
      "+--------+------------+-------------+-------------+--------------------+--------------------+\n",
      "|group_id|    event_id|   group_city|   event_time|               topic|              urlkey|\n",
      "+--------+------------+-------------+-------------+--------------------+--------------------+\n",
      "| 1821111|   237896618|San Francisco|1488508200000|[[Software Develo...|[softwaredev, web...|\n",
      "| 1547173|   234076048|San Francisco|1488157200000|[[zombie survival...|[zombie-survival,...|\n",
      "|  814750|   237232324|San Francisco|1487991600000|[[Artists,boston-...|[boston-artists, ...|\n",
      "| 1060260|dfgsdfywgbnb|San Francisco|1491874200000|[[HTML5,html5], [...|[html5, web-devel...|\n",
      "| 4980082|   236860485|San Francisco|1487910600000|[[Dating and Rela...|[dating-and-relat...|\n",
      "+--------+------------+-------------+-------------+--------------------+--------------------+\n",
      "only showing top 5 rows\n",
      "\n"
     ]
    }
   ],
   "source": [
    "sf_urlkey.show(5)"
   ]
  },
  {
   "cell_type": "code",
   "execution_count": 8,
   "metadata": {
    "collapsed": true,
    "deletable": true,
    "editable": true
   },
   "outputs": [],
   "source": [
    "urlkey.write.parquet(\"s3a://meetupdf/urlkey\")\n",
    "sf_urlkey.write.parquet(\"s3a://meetupdf/sf_urlkey\")"
   ]
  }
 ],
 "metadata": {
  "kernelspec": {
   "display_name": "Python 2",
   "language": "python",
   "name": "python2"
  },
  "language_info": {
   "codemirror_mode": {
    "name": "ipython",
    "version": 2
   },
   "file_extension": ".py",
   "mimetype": "text/x-python",
   "name": "python",
   "nbconvert_exporter": "python",
   "pygments_lexer": "ipython2",
   "version": "2.7.12"
  }
 },
 "nbformat": 4,
 "nbformat_minor": 2
}
