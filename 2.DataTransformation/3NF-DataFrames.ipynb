{
 "cells": [
  {
   "cell_type": "code",
   "execution_count": 1,
   "metadata": {
    "collapsed": true,
    "deletable": true,
    "editable": true
   },
   "outputs": [],
   "source": [
    "from pyspark.sql.functions import desc, explode\n",
    "from pyspark.sql.functions import UserDefinedFunction\n",
    "from pyspark.sql.types import StringType, IntegerType\n",
    "import time\n",
    "import datetime"
   ]
  },
  {
   "cell_type": "code",
   "execution_count": 2,
   "metadata": {
    "collapsed": false,
    "deletable": true,
    "editable": true
   },
   "outputs": [],
   "source": [
    "rsvps = spark.read.json(\"s3a://meetuprsvpbucket/2017/*/*/*\")"
   ]
  },
  {
   "cell_type": "code",
   "execution_count": 3,
   "metadata": {
    "collapsed": true,
    "deletable": true,
    "editable": true
   },
   "outputs": [],
   "source": [
    "# to read df file \n",
    "# df = spark.read.load(\"examples/src/main/resources/users.parquet\")"
   ]
  },
  {
   "cell_type": "code",
   "execution_count": 4,
   "metadata": {
    "collapsed": false,
    "deletable": true,
    "editable": true,
    "scrolled": false
   },
   "outputs": [
    {
     "name": "stdout",
     "output_type": "stream",
     "text": [
      "root\n",
      " |-- _corrupt_record: string (nullable = true)\n",
      " |-- event: struct (nullable = true)\n",
      " |    |-- event_id: string (nullable = true)\n",
      " |    |-- event_name: string (nullable = true)\n",
      " |    |-- event_url: string (nullable = true)\n",
      " |    |-- time: long (nullable = true)\n",
      " |-- group: struct (nullable = true)\n",
      " |    |-- group_city: string (nullable = true)\n",
      " |    |-- group_country: string (nullable = true)\n",
      " |    |-- group_id: long (nullable = true)\n",
      " |    |-- group_lat: double (nullable = true)\n",
      " |    |-- group_lon: double (nullable = true)\n",
      " |    |-- group_name: string (nullable = true)\n",
      " |    |-- group_state: string (nullable = true)\n",
      " |    |-- group_topics: array (nullable = true)\n",
      " |    |    |-- element: struct (containsNull = true)\n",
      " |    |    |    |-- topic_name: string (nullable = true)\n",
      " |    |    |    |-- urlkey: string (nullable = true)\n",
      " |    |-- group_urlname: string (nullable = true)\n",
      " |-- guests: long (nullable = true)\n",
      " |-- member: struct (nullable = true)\n",
      " |    |-- member_id: long (nullable = true)\n",
      " |    |-- member_name: string (nullable = true)\n",
      " |    |-- other_services: struct (nullable = true)\n",
      " |    |    |-- facebook: struct (nullable = true)\n",
      " |    |    |    |-- identifier: string (nullable = true)\n",
      " |    |    |-- flickr: struct (nullable = true)\n",
      " |    |    |    |-- identifier: string (nullable = true)\n",
      " |    |    |-- linkedin: struct (nullable = true)\n",
      " |    |    |    |-- identifier: string (nullable = true)\n",
      " |    |    |-- tumblr: struct (nullable = true)\n",
      " |    |    |    |-- identifier: string (nullable = true)\n",
      " |    |    |-- twitter: struct (nullable = true)\n",
      " |    |    |    |-- identifier: string (nullable = true)\n",
      " |    |-- photo: string (nullable = true)\n",
      " |-- mtime: long (nullable = true)\n",
      " |-- response: string (nullable = true)\n",
      " |-- rsvp_id: long (nullable = true)\n",
      " |-- venue: struct (nullable = true)\n",
      " |    |-- lat: double (nullable = true)\n",
      " |    |-- lon: double (nullable = true)\n",
      " |    |-- venue_id: long (nullable = true)\n",
      " |    |-- venue_name: string (nullable = true)\n",
      " |-- visibility: string (nullable = true)\n",
      "\n"
     ]
    }
   ],
   "source": [
    "rsvps.printSchema()"
   ]
  },
  {
   "cell_type": "markdown",
   "metadata": {
    "deletable": true,
    "editable": true
   },
   "source": [
    "# Create DataFrame "
   ]
  },
  {
   "cell_type": "code",
   "execution_count": 5,
   "metadata": {
    "collapsed": true,
    "deletable": true,
    "editable": true
   },
   "outputs": [],
   "source": [
    "lower_string = UserDefinedFunction(lambda x: x.lower(), StringType())\n",
    "df = rsvps.select(*[lower_string(column) if column == 'topic' \\\n",
    "                    else column for column in rsvps.columns]).cache()"
   ]
  },
  {
   "cell_type": "code",
   "execution_count": 6,
   "metadata": {
    "collapsed": true,
    "deletable": true,
    "editable": true
   },
   "outputs": [],
   "source": [
    "group_df = df.select(df['group']['group_id'].alias('group_id'),\\\n",
    "                     df['group']['group_name'].alias('group_name'),\\\n",
    "                     df['group']['group_city'].alias('group_city'), \\\n",
    "                     df['group']['group_country'].alias('group_country'),\\\n",
    "                     df['group']['group_state'].alias('group_state')).distinct().cache()"
   ]
  },
  {
   "cell_type": "code",
   "execution_count": 7,
   "metadata": {
    "collapsed": true,
    "deletable": true,
    "editable": true
   },
   "outputs": [],
   "source": [
    "topic_df = df.select(df['group']['group_id'].alias('group_id'),\\\n",
    "                     df['event']['event_id'].alias('event_id'),\\\n",
    "                     df['event']['time'].alias('event_time'),\\\n",
    "                     explode(df['group']['group_topics']['topic_name']).alias(\"topic\"),\\\n",
    "                     df['group']['group_city'].alias('group_city')).distinct().cache()"
   ]
  },
  {
   "cell_type": "code",
   "execution_count": 8,
   "metadata": {
    "collapsed": true,
    "deletable": true,
    "editable": true
   },
   "outputs": [],
   "source": [
    "list_topic_df = df.select(df['group']['group_id'].alias('group_id'),\\\n",
    "                     df['event']['event_id'].alias('event_id'),\\\n",
    "                     df['event']['time'].alias('event_time'),\\\n",
    "                     explode(df['group']['group_topics']).alias(\"topic\")).distinct()"
   ]
  },
  {
   "cell_type": "code",
   "execution_count": 9,
   "metadata": {
    "collapsed": false,
    "deletable": true,
    "editable": true
   },
   "outputs": [],
   "source": [
    "event_df = df.select(df['group']['group_id'].alias('group_id_event'),\\\n",
    "                     df['event']['event_id'].alias('event_id'),\\\n",
    "                     df['event']['event_name'].alias('event_name'),\\\n",
    "                     df['event']['time'].alias('event_time'),\\\n",
    "                     df['event']['event_url'].alias('url'),\\\n",
    "                     df['venue']['venue_id'].alias('venue_id')).distinct().cache()"
   ]
  },
  {
   "cell_type": "code",
   "execution_count": 10,
   "metadata": {
    "collapsed": true,
    "deletable": true,
    "editable": true
   },
   "outputs": [],
   "source": [
    "rsvp_df = df.select(df['group']['group_id'].alias('group_id_rsvp'),\\\n",
    "                    df['event']['event_id'].alias('event_id'),\\\n",
    "                    df['rsvp_id'],df['member']['member_id'].alias('member_id'),\\\n",
    "                    df['mtime']).distinct()"
   ]
  },
  {
   "cell_type": "code",
   "execution_count": 11,
   "metadata": {
    "collapsed": false,
    "deletable": true,
    "editable": true
   },
   "outputs": [],
   "source": [
    "event_rsvp_df = df.select(df['group']['group_id'].alias('group_id'),\\\n",
    "                          df['event']['event_id'].alias('event_id'),\\\n",
    "                          df['rsvp_id'],\n",
    "                          df['event']['time'].alias('event_time'),\\\n",
    "                          df['member']['member_id'].alias('member_id'),\\\n",
    "                          df['mtime'].alias('rsvp_time'),\\\n",
    "                          df['group']['group_city'].alias('group_city'), \\\n",
    "                          df['group']['group_country'].alias('group_country'),\\\n",
    "                          df['group']['group_lat'].alias('group_lat'), \\\n",
    "                          df['group']['group_lon'].alias('group_lon')).distinct().cache()"
   ]
  },
  {
   "cell_type": "markdown",
   "metadata": {
    "deletable": true,
    "editable": true
   },
   "source": [
    "# Show DataFrame"
   ]
  },
  {
   "cell_type": "code",
   "execution_count": 12,
   "metadata": {
    "collapsed": false,
    "deletable": true,
    "editable": true,
    "scrolled": false
   },
   "outputs": [
    {
     "name": "stdout",
     "output_type": "stream",
     "text": [
      "+--------+--------------------+----------+-------------+-----------+\n",
      "|group_id|          group_name|group_city|group_country|group_state|\n",
      "+--------+--------------------+----------+-------------+-----------+\n",
      "|18772700|Boca Raton Pickup...|Boca Raton|           us|         FL|\n",
      "|14122952|Sunday Assembly D...|    Denver|           us|         CO|\n",
      "|10365912|West Madison Cour...|   Madison|           us|         WI|\n",
      "|20301044|Free yoga class G...|    Genève|           ch|       null|\n",
      "|20370729|Lafayette Busines...| Lafayette|           us|         CA|\n",
      "+--------+--------------------+----------+-------------+-----------+\n",
      "only showing top 5 rows\n",
      "\n"
     ]
    }
   ],
   "source": [
    "group_df.show(5)"
   ]
  },
  {
   "cell_type": "code",
   "execution_count": 13,
   "metadata": {
    "collapsed": false,
    "deletable": true,
    "editable": true,
    "scrolled": true
   },
   "outputs": [
    {
     "name": "stdout",
     "output_type": "stream",
     "text": [
      "+--------+---------+-------------+--------------------+----------+\n",
      "|group_id| event_id|   event_time|               topic|group_city|\n",
      "+--------+---------+-------------+--------------------+----------+\n",
      "| 2691862|238046776|1488596400000|Young Professiona...|Costa Mesa|\n",
      "| 1752199|237923210|1488439800000|    Online Marketing| Melbourne|\n",
      "| 1539734|237437727|1488763800000|            Buddhist|Santa Cruz|\n",
      "| 1041184|237813316|1490529600000|    Outdoor  Fitness|Alpharetta|\n",
      "|19028673|237620808|1488411000000|               Reiki|    Durham|\n",
      "+--------+---------+-------------+--------------------+----------+\n",
      "only showing top 5 rows\n",
      "\n"
     ]
    }
   ],
   "source": [
    "topic_df.show(5)"
   ]
  },
  {
   "cell_type": "code",
   "execution_count": 14,
   "metadata": {
    "collapsed": false,
    "deletable": true,
    "editable": true
   },
   "outputs": [
    {
     "name": "stdout",
     "output_type": "stream",
     "text": [
      "+--------+---------+-------------+--------------------+\n",
      "|group_id| event_id|   event_time|               topic|\n",
      "+--------+---------+-------------+--------------------+\n",
      "| 3803352|238024697|1490124600000|[Intellectual Dis...|\n",
      "|18628440|237343136|1488299400000|[Software Develop...|\n",
      "|19289182|238023727|1489078800000|[Agile Transforma...|\n",
      "|16693392|238007833|1491728400000|[Healthy Living,h...|\n",
      "|18575647|237849363|1488303900000|[User Experience,...|\n",
      "+--------+---------+-------------+--------------------+\n",
      "only showing top 5 rows\n",
      "\n"
     ]
    }
   ],
   "source": [
    "list_topic_df.show(5)"
   ]
  },
  {
   "cell_type": "code",
   "execution_count": 15,
   "metadata": {
    "collapsed": false,
    "deletable": true,
    "editable": true
   },
   "outputs": [
    {
     "name": "stdout",
     "output_type": "stream",
     "text": [
      "+--------+------------+----------+-------------+---------+-------------+----------+-------------+---------+---------+\n",
      "|group_id|    event_id|   rsvp_id|   event_time|member_id|    rsvp_time|group_city|group_country|group_lat|group_lon|\n",
      "+--------+------------+----------+-------------+---------+-------------+----------+-------------+---------+---------+\n",
      "| 7258352|   238019159|1655586057|1488335400000|126177972|1488252032208|  Portland|           us|    45.52|  -122.69|\n",
      "| 1799261|qmgxflywfbcb|1655705462|1488380400000|219838255|1488311894988|   Boulder|           us|    40.04|  -105.28|\n",
      "|  466780|   237778952|1654825525|1488376800000|109812672|1487873548000|    London|           gb|    51.52|     -0.1|\n",
      "| 4292722|   237934253|1654832698|1488654000000| 13464201|1487876447488|  Rosedale|           us|    39.34|   -76.51|\n",
      "|20131642|svqtnmywdblc|1651296755|1488286800000|208106715|1487878932546|     Paris|           fr|    48.86|     2.34|\n",
      "+--------+------------+----------+-------------+---------+-------------+----------+-------------+---------+---------+\n",
      "only showing top 5 rows\n",
      "\n"
     ]
    }
   ],
   "source": [
    "event_rsvp_df.show(5)"
   ]
  },
  {
   "cell_type": "code",
   "execution_count": 16,
   "metadata": {
    "collapsed": false,
    "deletable": true,
    "editable": true,
    "scrolled": false
   },
   "outputs": [
    {
     "name": "stdout",
     "output_type": "stream",
     "text": [
      "+-------------+------------+----------+---------+-------------+\n",
      "|group_id_rsvp|    event_id|   rsvp_id|member_id|        mtime|\n",
      "+-------------+------------+----------+---------+-------------+\n",
      "|     19538170|qghvrlywpbjc|1655633118|193835416|1488282922960|\n",
      "|      8170522|gbbjvlywdblc|1655403435|200094216|1488174402060|\n",
      "|     10720312|   238019087|1655403448|196317124|1488174408508|\n",
      "|       519612|   238017624|1655380223|  9291166|1488162327000|\n",
      "|      4250182|   237872090|1655457663|192992375|1488207232000|\n",
      "+-------------+------------+----------+---------+-------------+\n",
      "only showing top 5 rows\n",
      "\n"
     ]
    }
   ],
   "source": [
    "rsvp_df.show(5)"
   ]
  },
  {
   "cell_type": "code",
   "execution_count": 17,
   "metadata": {
    "collapsed": false,
    "deletable": true,
    "editable": true
   },
   "outputs": [
    {
     "name": "stdout",
     "output_type": "stream",
     "text": [
      "+--------------+---------+--------------------+-------------+--------------------+--------+\n",
      "|group_id_event| event_id|          event_name|   event_time|                 url|venue_id|\n",
      "+--------------+---------+--------------------+-------------+--------------------+--------+\n",
      "|       6365752|237451753|Security and Show...|1490205600000|https://www.meetu...|24329770|\n",
      "|       1246840|236385746|USING LOA & SPIRI...|1488412800000|https://www.meetu...|    null|\n",
      "|      18992104|238045071|Thursday night cl...|1488513600000|https://www.meetu...|24706591|\n",
      "|      18940989|237549034|Open Doors Day@Ca...|1488463200000|https://www.meetu...|23778063|\n",
      "|       4397212|237603430|Viernes 10 Marzo ...|1489159800000|https://www.meetu...|13702512|\n",
      "+--------------+---------+--------------------+-------------+--------------------+--------+\n",
      "only showing top 5 rows\n",
      "\n"
     ]
    }
   ],
   "source": [
    "event_df.show(5)"
   ]
  },
  {
   "cell_type": "markdown",
   "metadata": {
    "collapsed": true,
    "deletable": true,
    "editable": true
   },
   "source": [
    "# Topic Count "
   ]
  },
  {
   "cell_type": "code",
   "execution_count": 18,
   "metadata": {
    "collapsed": true,
    "deletable": true,
    "editable": true
   },
   "outputs": [],
   "source": [
    "topic_count = topic_df.groupby('topic').count().orderBy(desc('count'))"
   ]
  },
  {
   "cell_type": "code",
   "execution_count": 19,
   "metadata": {
    "collapsed": false,
    "deletable": true,
    "editable": true
   },
   "outputs": [
    {
     "name": "stdout",
     "output_type": "stream",
     "text": [
      "+-----------------+-----+\n",
      "|            topic|count|\n",
      "+-----------------+-----+\n",
      "|           Social|34489|\n",
      "|Social Networking|28534|\n",
      "|      New In Town|27967|\n",
      "| Self-Improvement|25650|\n",
      "|        Fun Times|25113|\n",
      "|         Outdoors|23156|\n",
      "|       Dining Out|19357|\n",
      "|          Fitness|18624|\n",
      "|        Adventure|17345|\n",
      "|     Spirituality|17268|\n",
      "+-----------------+-----+\n",
      "only showing top 10 rows\n",
      "\n"
     ]
    }
   ],
   "source": [
    "topic_count.show(10)"
   ]
  },
  {
   "cell_type": "markdown",
   "metadata": {
    "collapsed": true,
    "deletable": true,
    "editable": true
   },
   "source": [
    "# Popular topics by city"
   ]
  },
  {
   "cell_type": "code",
   "execution_count": 20,
   "metadata": {
    "collapsed": false,
    "deletable": true,
    "editable": true
   },
   "outputs": [
    {
     "name": "stdout",
     "output_type": "stream",
     "text": [
      "+----------+--------------------+-----+\n",
      "|group_city|               topic|count|\n",
      "+----------+--------------------+-----+\n",
      "|  New York|              Social| 1830|\n",
      "|  New York|   Social Networking| 1825|\n",
      "|    London|         New In Town| 1763|\n",
      "|  New York|         New In Town| 1729|\n",
      "|    London|   Social Networking| 1597|\n",
      "|  New York|             Singles| 1582|\n",
      "|    London|              Social| 1421|\n",
      "|  New York|           Fun Times| 1324|\n",
      "|    London|           Fun Times| 1268|\n",
      "|  New York|           Nightlife| 1198|\n",
      "|    London|             Singles| 1112|\n",
      "|    London|           Nightlife| 1028|\n",
      "|  New York|          Dining Out| 1016|\n",
      "|  New York|           Adventure|  995|\n",
      "|  New York|    Self-Improvement|  993|\n",
      "|    London|    Self-Improvement|  916|\n",
      "|    London|          Dining Out|  885|\n",
      "|    London|              London|  860|\n",
      "|  New York|Professional Netw...|  855|\n",
      "|    London|            Outdoors|  830|\n",
      "+----------+--------------------+-----+\n",
      "only showing top 20 rows\n",
      "\n"
     ]
    }
   ],
   "source": [
    "topic_df.groupBy(\"group_city\",\"topic\").count().orderBy(desc('count')).show(20)"
   ]
  },
  {
   "cell_type": "markdown",
   "metadata": {
    "collapsed": true,
    "deletable": true,
    "editable": true
   },
   "source": [
    "# Most active groups"
   ]
  },
  {
   "cell_type": "code",
   "execution_count": 21,
   "metadata": {
    "collapsed": false,
    "deletable": true,
    "editable": true,
    "scrolled": true
   },
   "outputs": [
    {
     "name": "stdout",
     "output_type": "stream",
     "text": [
      "+--------+----------------+-----+\n",
      "|group_id|      group_city|count|\n",
      "+--------+----------------+-----+\n",
      "| 3332802|   Mission Viejo| 1620|\n",
      "| 1766167|        Richmond| 1620|\n",
      "|19773849|       Cambridge| 1518|\n",
      "|19627026|       Deer Park| 1515|\n",
      "|20096070|      Cincinnati| 1515|\n",
      "|  579832|      Washington| 1410|\n",
      "|18663033|           Tokyo| 1320|\n",
      "|20421348|          London| 1275|\n",
      "|18290844|           Tokyo| 1246|\n",
      "| 1590138|          Austin| 1230|\n",
      "| 1343044|Saint Petersburg| 1215|\n",
      "|19777446|   Tel Aviv-Yafo| 1210|\n",
      "| 1576378|          Austin| 1170|\n",
      "|19590500|          London| 1134|\n",
      "|18663131|           Tokyo| 1095|\n",
      "|  627273|         Norfolk| 1067|\n",
      "|19106729|        Montréal| 1066|\n",
      "|  950281|          Boston| 1056|\n",
      "| 1756412|      Pittsburgh| 1024|\n",
      "| 1516787|           Dubai| 1020|\n",
      "+--------+----------------+-----+\n",
      "only showing top 20 rows\n",
      "\n"
     ]
    }
   ],
   "source": [
    "topic_df.groupBy(\"group_id\",\"group_city\").count().orderBy(desc('count')).show(20)"
   ]
  },
  {
   "cell_type": "code",
   "execution_count": 22,
   "metadata": {
    "collapsed": false,
    "deletable": true,
    "editable": true
   },
   "outputs": [],
   "source": [
    "# row1 = df1.agg({\"x\": \"max\"}).collect()[0]\n",
    "min_time = event_df.agg({\"event_time\": \"min\"}).collect()[0]\n",
    "max_time = event_df.agg({\"event_time\": \"max\"}).collect()[0]"
   ]
  },
  {
   "cell_type": "code",
   "execution_count": 23,
   "metadata": {
    "collapsed": false,
    "deletable": true,
    "editable": true
   },
   "outputs": [
    {
     "data": {
      "text/plain": [
       "'2017-02-17 18:00:00'"
      ]
     },
     "execution_count": 23,
     "metadata": {},
     "output_type": "execute_result"
    }
   ],
   "source": [
    "datetime.datetime.fromtimestamp(int(str(min_time[\"min(event_time)\"])[:-3])).strftime('%Y-%m-%d %H:%M:%S')"
   ]
  },
  {
   "cell_type": "code",
   "execution_count": 24,
   "metadata": {
    "collapsed": false,
    "deletable": true,
    "editable": true
   },
   "outputs": [
    {
     "data": {
      "text/plain": [
       "'2025-05-05 23:00:00'"
      ]
     },
     "execution_count": 24,
     "metadata": {},
     "output_type": "execute_result"
    }
   ],
   "source": [
    "datetime.datetime.fromtimestamp(int(str(max_time[\"max(event_time)\"])[:-3])).strftime('%Y-%m-%d %H:%M:%S')"
   ]
  },
  {
   "cell_type": "markdown",
   "metadata": {
    "deletable": true,
    "editable": true
   },
   "source": [
    "# Save DF to S3"
   ]
  },
  {
   "cell_type": "code",
   "execution_count": 25,
   "metadata": {
    "collapsed": false,
    "deletable": true,
    "editable": true
   },
   "outputs": [
    {
     "data": {
      "text/plain": [
       "'2017-03-01 09:29:44'"
      ]
     },
     "execution_count": 25,
     "metadata": {},
     "output_type": "execute_result"
    }
   ],
   "source": [
    "ts = time.time()\n",
    "st = datetime.datetime.fromtimestamp(ts).strftime('%Y-%m-%d %H:%M:%S')\n",
    "st"
   ]
  },
  {
   "cell_type": "code",
   "execution_count": 26,
   "metadata": {
    "collapsed": true,
    "deletable": true,
    "editable": true
   },
   "outputs": [],
   "source": [
    "# if you update data, save new dataframe into a new bucket file "
   ]
  },
  {
   "cell_type": "code",
   "execution_count": 27,
   "metadata": {
    "collapsed": true,
    "deletable": true,
    "editable": true
   },
   "outputs": [],
   "source": [
    "group_df.write.parquet(\"s3a://meetupdf/group_df\")"
   ]
  },
  {
   "cell_type": "code",
   "execution_count": 28,
   "metadata": {
    "collapsed": true,
    "deletable": true,
    "editable": true
   },
   "outputs": [],
   "source": [
    "topic_df.write.parquet(\"s3a://meetupdf/topic_df\")"
   ]
  },
  {
   "cell_type": "code",
   "execution_count": 29,
   "metadata": {
    "collapsed": true,
    "deletable": true,
    "editable": true
   },
   "outputs": [],
   "source": [
    "list_topic_df.write.parquet(\"s3a://meetupdf/list_topic_df\")"
   ]
  },
  {
   "cell_type": "code",
   "execution_count": 30,
   "metadata": {
    "collapsed": false,
    "deletable": true,
    "editable": true
   },
   "outputs": [],
   "source": [
    "event_rsvp_df.write.parquet(\"s3a://meetupdf/event_rsvp_df\")"
   ]
  },
  {
   "cell_type": "code",
   "execution_count": 31,
   "metadata": {
    "collapsed": true,
    "deletable": true,
    "editable": true
   },
   "outputs": [],
   "source": [
    "rsvp_df.write.parquet(\"s3a://meetupdf/rsvp_df\")"
   ]
  },
  {
   "cell_type": "code",
   "execution_count": 32,
   "metadata": {
    "collapsed": true,
    "deletable": true,
    "editable": true
   },
   "outputs": [],
   "source": [
    "event_df.write.parquet(\"s3a://meetupdf/event_df\")"
   ]
  },
  {
   "cell_type": "code",
   "execution_count": null,
   "metadata": {
    "collapsed": true,
    "deletable": true,
    "editable": true
   },
   "outputs": [],
   "source": []
  }
 ],
 "metadata": {
  "kernelspec": {
   "display_name": "Python 2",
   "language": "python",
   "name": "python2"
  },
  "language_info": {
   "codemirror_mode": {
    "name": "ipython",
    "version": 2
   },
   "file_extension": ".py",
   "mimetype": "text/x-python",
   "name": "python",
   "nbconvert_exporter": "python",
   "pygments_lexer": "ipython2",
   "version": "2.7.12"
  }
 },
 "nbformat": 4,
 "nbformat_minor": 2
}
