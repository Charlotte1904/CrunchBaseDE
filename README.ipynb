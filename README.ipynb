{
 "cells": [
  {
   "cell_type": "markdown",
   "metadata": {
    "slideshow": {
     "slide_type": "slide"
    }
   },
   "source": [
    "                                 Data Engineer Final Project \n",
    "----\n",
    "\n",
    "<img src=\"https://dzpp79ucibp5a.cloudfront.net/events_banners/12768_normal_1403512002_api-meetup-logo-600x200.png\" />"
   ]
  },
  {
   "cell_type": "markdown",
   "metadata": {},
   "source": [
    "                                \n",
    "----\n",
    "\n",
    "<img src=\"https://thumbs.dreamstime.com/t/summary-concept-business-image-hand-holding-marker-write-isolated-white-49048467.jpg\n",
    "\" height=\"500\"/>\n",
    "\n",
    "-----\n",
    "- Overall understanding dynamic of each city/country\n",
    "- Popular Topics Mentioned with Time Series\n",
    "- Tech Topics related to each other\n",
    "- Discover rise of new technology\n"
   ]
  },
  {
   "cell_type": "markdown",
   "metadata": {
    "slideshow": {
     "slide_type": "slide"
    }
   },
   "source": [
    "# Data Architecture\n",
    "-----\n",
    "\n",
    "<img src=\"./Images/Diagram.png\" height=\"500\"/>\n",
    "\n",
    "\n",
    "\n"
   ]
  },
  {
   "cell_type": "markdown",
   "metadata": {},
   "source": [
    "# MOST ACTIVE CITIES - NO SAN FRANCISCO ? \n",
    "\n",
    "<img src=\"http://cdn2.hubspot.net/hubfs/897/blog-files/3SurprisingFactsBlog.jpg?t=1465311511250\" height=\"500\"/>\n",
    "\n",
    "\n",
    "<img src=\"./Images/cities.png\" height=\"100\"/>\n"
   ]
  },
  {
   "cell_type": "markdown",
   "metadata": {},
   "source": [
    " #  <center>3NF DATAFRAMES <center>\n",
    "----\n",
    "\n",
    "Groups \n",
    "----\n",
    "<img src=\"./Images/groups.png\" height=\"200\"/>\n",
    "\n",
    "Event\n",
    "----\n",
    "<img src=\"./Images/event.png\" height=\"200\"/>\n",
    "\n",
    "Topic\n",
    "----\n",
    "<img src=\"./Images/topics.png\" height=\"200\"/>\n",
    "\n",
    "RSVP\n",
    "----\n",
    "<img src=\"./Images/rsvp.png\" height=\"200\"/>\n",
    "\n",
    "\n"
   ]
  },
  {
   "cell_type": "markdown",
   "metadata": {
    "slideshow": {
     "slide_type": "slide"
    }
   },
   "source": [
    "\n",
    "# <center> MOST PAINFUL DATAFRAMES <center>\n",
    "----\n",
    "<img src=\"http://www.demeterclarc.com/wp-content/uploads/images/2013/07/ENOUGH-BUTT-PAIN.png\" height=\"200\"/>\n",
    "\n",
    "Groups - Category - Topics \n",
    "----\n",
    "<img src=\"./Images/category-topic.png\" height=\"200\"/>\n",
    "\n",
    "Event - Topics \n",
    "----\n",
    "<img src=\"./Images/urlkey.png\" height=\"200\"/>"
   ]
  },
  {
   "cell_type": "markdown",
   "metadata": {},
   "source": [
    "\n",
    " #  <center> VISUALIZATION <center>\n",
    "----\n",
    "\n",
    "http://meetupfinalgraphs.s3-website-us-west-1.amazonaws.com/"
   ]
  },
  {
   "cell_type": "markdown",
   "metadata": {},
   "source": [
    "# <center> In case the link does work <center> \n",
    "<img src=\"http://www.amandavyne.com/wp-content/uploads/2013/06/12345.jpeg\" height=\"200\"/>"
   ]
  },
  {
   "cell_type": "markdown",
   "metadata": {
    "slideshow": {
     "slide_type": "slide"
    }
   },
   "source": [
    "#  <center> Category Distribution - San Francisco <center>\n",
    "---\n",
    "<img src=\"./Images/categorydist.png\" height=\"200\"/>\n",
    "\n"
   ]
  },
  {
   "cell_type": "markdown",
   "metadata": {},
   "source": [
    "#  <center> TIME SERIES <center>\n",
    "---\n",
    "<h3> Top Trending Topics -  San Francisco </h3>\n",
    "<img src=\"./Images/poptrendsf1.png\" height=\"200\"/>\n",
    "<img src=\"./Images/poptrendsf2.png\" height=\"200\"/>\n",
    "<h3> DataScience Topics - San Francisco </h3>\n",
    "<img src=\"./Images/dstopic1.png\" height=\"200\"/>\n",
    "<img src=\"./Images/dstopic2.png\" height=\"200\"/>\n",
    "<h3> Labled-Category Groups </h3><center>\n",
    "<img src=\"./Images/labledts.png\" height=\"200\"/>\n",
    "\n"
   ]
  },
  {
   "cell_type": "markdown",
   "metadata": {},
   "source": [
    "#  <center> NETWORK GRAPH <center>\n",
    "---\n",
    "<center><h3> Tech-Topic Network -  San Francisco </h3><center>\n",
    "\n",
    "<center><img src=\"./Images/techtopicnetwork.png\n",
    "\" height=\"200\"/></center>\n",
    "---\n",
    "<center><h3> Topic Network - San Francisco </h3><center>\n",
    "\n",
    "<center><img src=\"./Images/sftopicsnetwork.png\n",
    "\" height=\"200\"/></center>\n"
   ]
  },
  {
   "cell_type": "markdown",
   "metadata": {},
   "source": [
    "<img src=\"./Images/question.png\" height=\"200\"/>"
   ]
  },
  {
   "cell_type": "code",
   "execution_count": null,
   "metadata": {
    "collapsed": true
   },
   "outputs": [],
   "source": []
  }
 ],
 "metadata": {
  "anaconda-cloud": {},
  "celltoolbar": "Slideshow",
  "kernelspec": {
   "display_name": "Python [dsci6007]",
   "language": "python",
   "name": "Python [dsci6007]"
  },
  "language_info": {
   "codemirror_mode": {
    "name": "ipython",
    "version": 2
   },
   "file_extension": ".py",
   "mimetype": "text/x-python",
   "name": "python",
   "nbconvert_exporter": "python",
   "pygments_lexer": "ipython2",
   "version": "2.7.13"
  }
 },
 "nbformat": 4,
 "nbformat_minor": 0
}
