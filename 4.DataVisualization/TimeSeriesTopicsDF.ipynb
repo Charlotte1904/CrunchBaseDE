{
 "cells": [
  {
   "cell_type": "code",
   "execution_count": 6,
   "metadata": {
    "collapsed": false,
    "deletable": true,
    "editable": true
   },
   "outputs": [],
   "source": [
    "%pylab inline\n",
    "import networkx as nx\n",
    "import plotly.plotly as py\n",
    "import plotly.graph_objs as go\n",
    "import plotly\n",
    "import plotly.plotly as py\n",
    "from plotly.graph_objs import *\n",
    "import pandas as pd\n",
    "import numpy as np\n",
    "import itertools\n",
    "import plotly.tools as tls\n",
    "import pickle\n",
    "import yaml\n",
    "import os\n",
    "credentials = yaml.load(open(os.path.expanduser('plotlyCred.yml')))\n",
    "plotly.tools.set_credentials_file(credentials.get('username'), api_key=credentials.get('api_key'))"
   ]
  },
  {
   "cell_type": "code",
   "execution_count": 2,
   "metadata": {
    "collapsed": true,
    "deletable": true,
    "editable": true
   },
   "outputs": [],
   "source": [
    "import sys\n",
    "reload(sys)\n",
    "sys.setdefaultencoding('utf-8')"
   ]
  },
  {
   "cell_type": "markdown",
   "metadata": {
    "deletable": true,
    "editable": true
   },
   "source": [
    "# Loading data"
   ]
  },
  {
   "cell_type": "code",
   "execution_count": 3,
   "metadata": {
    "collapsed": false,
    "deletable": true,
    "editable": true
   },
   "outputs": [],
   "source": [
    "df = spark.read.parquet(\"s3a://meetupdf/topic_df\")"
   ]
  },
  {
   "cell_type": "code",
   "execution_count": 22,
   "metadata": {
    "collapsed": false,
    "deletable": true,
    "editable": true,
    "scrolled": true
   },
   "outputs": [
    {
     "name": "stdout",
     "output_type": "stream",
     "text": [
      "+--------+---------+-------------+--------------------+----------+\n",
      "|group_id| event_id|   event_time|               topic|group_city|\n",
      "+--------+---------+-------------+--------------------+----------+\n",
      "|18717087|238024816|1494437400000|communication skills|    London|\n",
      "|18628440|237343136|1488299400000|       microservices| Bucharest|\n",
      "| 1563505|238023271|1488434400000|         new in town|     Paris|\n",
      "| 2849712|238010279|1489201200000|         sport bikes|    Corona|\n",
      "|19091202|238024817|1488477600000|  startup businesses|     Paris|\n",
      "+--------+---------+-------------+--------------------+----------+\n",
      "only showing top 5 rows\n",
      "\n"
     ]
    }
   ],
   "source": [
    "df.show(5)"
   ]
  },
  {
   "cell_type": "markdown",
   "metadata": {
    "deletable": true,
    "editable": true
   },
   "source": [
    "# Convert DF to Pd"
   ]
  },
  {
   "cell_type": "code",
   "execution_count": 8,
   "metadata": {
    "collapsed": true,
    "deletable": true,
    "editable": true
   },
   "outputs": [],
   "source": [
    "def convert_pd_datetime(df):\n",
    "\t'''input: a sparksql dataframe\n",
    "\t\toutput: a panda dataframe that has converted timestamp to datetime '''\n",
    "\turlkey_df = df.toPandas()\n",
    "\turlkey_df['datetime'] = pd.to_datetime(urlkey_df['event_time'],unit = 'ms')\n",
    "\turlkey_df['date'] =  pd.DatetimeIndex(urlkey_df['datetime']).date\n",
    "\treturn urlkey_df"
   ]
  },
  {
   "cell_type": "code",
   "execution_count": 9,
   "metadata": {
    "collapsed": false,
    "deletable": true,
    "editable": true
   },
   "outputs": [],
   "source": [
    "urlkey_df = convert_pd_datetime(df)"
   ]
  },
  {
   "cell_type": "code",
   "execution_count": 10,
   "metadata": {
    "collapsed": false,
    "deletable": true,
    "editable": true,
    "scrolled": false
   },
   "outputs": [
    {
     "data": {
      "text/html": [
       "<div>\n",
       "<table border=\"1\" class=\"dataframe\">\n",
       "  <thead>\n",
       "    <tr style=\"text-align: right;\">\n",
       "      <th></th>\n",
       "      <th>group_id</th>\n",
       "      <th>event_id</th>\n",
       "      <th>event_time</th>\n",
       "      <th>topic</th>\n",
       "      <th>group_city</th>\n",
       "      <th>datetime</th>\n",
       "      <th>date</th>\n",
       "    </tr>\n",
       "  </thead>\n",
       "  <tbody>\n",
       "    <tr>\n",
       "      <th>0</th>\n",
       "      <td>18717087</td>\n",
       "      <td>238024816</td>\n",
       "      <td>1.494437e+12</td>\n",
       "      <td>Communication Skills</td>\n",
       "      <td>London</td>\n",
       "      <td>2017-05-10 17:30:00</td>\n",
       "      <td>2017-05-10</td>\n",
       "    </tr>\n",
       "    <tr>\n",
       "      <th>1</th>\n",
       "      <td>18628440</td>\n",
       "      <td>237343136</td>\n",
       "      <td>1.488299e+12</td>\n",
       "      <td>Microservices</td>\n",
       "      <td>Bucharest</td>\n",
       "      <td>2017-02-28 16:30:00</td>\n",
       "      <td>2017-02-28</td>\n",
       "    </tr>\n",
       "    <tr>\n",
       "      <th>2</th>\n",
       "      <td>1563505</td>\n",
       "      <td>238023271</td>\n",
       "      <td>1.488434e+12</td>\n",
       "      <td>New In Town</td>\n",
       "      <td>Paris</td>\n",
       "      <td>2017-03-02 06:00:00</td>\n",
       "      <td>2017-03-02</td>\n",
       "    </tr>\n",
       "    <tr>\n",
       "      <th>3</th>\n",
       "      <td>2849712</td>\n",
       "      <td>238010279</td>\n",
       "      <td>1.489201e+12</td>\n",
       "      <td>Sport Bikes</td>\n",
       "      <td>Corona</td>\n",
       "      <td>2017-03-11 03:00:00</td>\n",
       "      <td>2017-03-11</td>\n",
       "    </tr>\n",
       "    <tr>\n",
       "      <th>4</th>\n",
       "      <td>19091202</td>\n",
       "      <td>238024817</td>\n",
       "      <td>1.488478e+12</td>\n",
       "      <td>Startup Businesses</td>\n",
       "      <td>Paris</td>\n",
       "      <td>2017-03-02 18:00:00</td>\n",
       "      <td>2017-03-02</td>\n",
       "    </tr>\n",
       "    <tr>\n",
       "      <th>5</th>\n",
       "      <td>12328622</td>\n",
       "      <td>qtbsmmywfbhb</td>\n",
       "      <td>1.488703e+12</td>\n",
       "      <td>Holland</td>\n",
       "      <td>Melbourne</td>\n",
       "      <td>2017-03-05 08:30:00</td>\n",
       "      <td>2017-03-05</td>\n",
       "    </tr>\n",
       "    <tr>\n",
       "      <th>6</th>\n",
       "      <td>1135121</td>\n",
       "      <td>tgdbbmywfbcb</td>\n",
       "      <td>1.488415e+12</td>\n",
       "      <td>Running</td>\n",
       "      <td>Chicago</td>\n",
       "      <td>2017-03-02 00:30:00</td>\n",
       "      <td>2017-03-02</td>\n",
       "    </tr>\n",
       "    <tr>\n",
       "      <th>7</th>\n",
       "      <td>19538170</td>\n",
       "      <td>qghvrlywpbjc</td>\n",
       "      <td>1.513508e+12</td>\n",
       "      <td>Museum</td>\n",
       "      <td>Gwernaffield</td>\n",
       "      <td>2017-12-17 11:00:00</td>\n",
       "      <td>2017-12-17</td>\n",
       "    </tr>\n",
       "    <tr>\n",
       "      <th>8</th>\n",
       "      <td>22048639</td>\n",
       "      <td>237313741</td>\n",
       "      <td>1.488476e+12</td>\n",
       "      <td>JavaScript</td>\n",
       "      <td>Berlin</td>\n",
       "      <td>2017-03-02 17:30:00</td>\n",
       "      <td>2017-03-02</td>\n",
       "    </tr>\n",
       "    <tr>\n",
       "      <th>9</th>\n",
       "      <td>22048639</td>\n",
       "      <td>237313741</td>\n",
       "      <td>1.488476e+12</td>\n",
       "      <td>Cloud Computing</td>\n",
       "      <td>Berlin</td>\n",
       "      <td>2017-03-02 17:30:00</td>\n",
       "      <td>2017-03-02</td>\n",
       "    </tr>\n",
       "    <tr>\n",
       "      <th>10</th>\n",
       "      <td>18678915</td>\n",
       "      <td>238031183</td>\n",
       "      <td>1.490430e+12</td>\n",
       "      <td>Outdoors</td>\n",
       "      <td>Barcelona</td>\n",
       "      <td>2017-03-25 08:15:00</td>\n",
       "      <td>2017-03-25</td>\n",
       "    </tr>\n",
       "    <tr>\n",
       "      <th>11</th>\n",
       "      <td>3916212</td>\n",
       "      <td>238026438</td>\n",
       "      <td>1.489873e+12</td>\n",
       "      <td>Social</td>\n",
       "      <td>Cincinnati</td>\n",
       "      <td>2017-03-18 21:30:00</td>\n",
       "      <td>2017-03-18</td>\n",
       "    </tr>\n",
       "    <tr>\n",
       "      <th>12</th>\n",
       "      <td>18952017</td>\n",
       "      <td>zrbwkmywfbcb</td>\n",
       "      <td>1.488366e+12</td>\n",
       "      <td>Dance Lessons</td>\n",
       "      <td>Singapore</td>\n",
       "      <td>2017-03-01 11:00:00</td>\n",
       "      <td>2017-03-01</td>\n",
       "    </tr>\n",
       "    <tr>\n",
       "      <th>13</th>\n",
       "      <td>20769662</td>\n",
       "      <td>237783278</td>\n",
       "      <td>1.488587e+12</td>\n",
       "      <td>Japanese and English Language Exchange</td>\n",
       "      <td>Yokohama</td>\n",
       "      <td>2017-03-04 00:30:00</td>\n",
       "      <td>2017-03-04</td>\n",
       "    </tr>\n",
       "    <tr>\n",
       "      <th>14</th>\n",
       "      <td>1516787</td>\n",
       "      <td>238026367</td>\n",
       "      <td>1.490456e+12</td>\n",
       "      <td>Stress Management</td>\n",
       "      <td>Dubai</td>\n",
       "      <td>2017-03-25 15:30:00</td>\n",
       "      <td>2017-03-25</td>\n",
       "    </tr>\n",
       "    <tr>\n",
       "      <th>15</th>\n",
       "      <td>20359260</td>\n",
       "      <td>qgpnxlywdbkc</td>\n",
       "      <td>1.488222e+12</td>\n",
       "      <td>Tennis for Beginners</td>\n",
       "      <td>Rutherglen</td>\n",
       "      <td>2017-02-27 19:00:00</td>\n",
       "      <td>2017-02-27</td>\n",
       "    </tr>\n",
       "    <tr>\n",
       "      <th>16</th>\n",
       "      <td>15285312</td>\n",
       "      <td>dwwgwkywfbfc</td>\n",
       "      <td>1.490303e+12</td>\n",
       "      <td>Sports and Socials</td>\n",
       "      <td>Galway</td>\n",
       "      <td>2017-03-23 21:00:00</td>\n",
       "      <td>2017-03-23</td>\n",
       "    </tr>\n",
       "    <tr>\n",
       "      <th>17</th>\n",
       "      <td>2523952</td>\n",
       "      <td>blbhlmywfbcb</td>\n",
       "      <td>1.488409e+12</td>\n",
       "      <td>Learn Soul Line Dancing</td>\n",
       "      <td>Raleigh</td>\n",
       "      <td>2017-03-01 23:00:00</td>\n",
       "      <td>2017-03-01</td>\n",
       "    </tr>\n",
       "    <tr>\n",
       "      <th>18</th>\n",
       "      <td>16577542</td>\n",
       "      <td>238026014</td>\n",
       "      <td>1.490999e+12</td>\n",
       "      <td>Apex</td>\n",
       "      <td>Holly Springs</td>\n",
       "      <td>2017-03-31 22:30:00</td>\n",
       "      <td>2017-03-31</td>\n",
       "    </tr>\n",
       "    <tr>\n",
       "      <th>19</th>\n",
       "      <td>18750919</td>\n",
       "      <td>237810423</td>\n",
       "      <td>1.488933e+12</td>\n",
       "      <td>Food and Drink</td>\n",
       "      <td>New York</td>\n",
       "      <td>2017-03-08 00:30:00</td>\n",
       "      <td>2017-03-08</td>\n",
       "    </tr>\n",
       "  </tbody>\n",
       "</table>\n",
       "</div>"
      ],
      "text/plain": [
       "    group_id      event_id    event_time  \\\n",
       "0   18717087     238024816  1.494437e+12   \n",
       "1   18628440     237343136  1.488299e+12   \n",
       "2    1563505     238023271  1.488434e+12   \n",
       "3    2849712     238010279  1.489201e+12   \n",
       "4   19091202     238024817  1.488478e+12   \n",
       "5   12328622  qtbsmmywfbhb  1.488703e+12   \n",
       "6    1135121  tgdbbmywfbcb  1.488415e+12   \n",
       "7   19538170  qghvrlywpbjc  1.513508e+12   \n",
       "8   22048639     237313741  1.488476e+12   \n",
       "9   22048639     237313741  1.488476e+12   \n",
       "10  18678915     238031183  1.490430e+12   \n",
       "11   3916212     238026438  1.489873e+12   \n",
       "12  18952017  zrbwkmywfbcb  1.488366e+12   \n",
       "13  20769662     237783278  1.488587e+12   \n",
       "14   1516787     238026367  1.490456e+12   \n",
       "15  20359260  qgpnxlywdbkc  1.488222e+12   \n",
       "16  15285312  dwwgwkywfbfc  1.490303e+12   \n",
       "17   2523952  blbhlmywfbcb  1.488409e+12   \n",
       "18  16577542     238026014  1.490999e+12   \n",
       "19  18750919     237810423  1.488933e+12   \n",
       "\n",
       "                                     topic     group_city            datetime  \\\n",
       "0                     Communication Skills         London 2017-05-10 17:30:00   \n",
       "1                            Microservices      Bucharest 2017-02-28 16:30:00   \n",
       "2                              New In Town          Paris 2017-03-02 06:00:00   \n",
       "3                              Sport Bikes         Corona 2017-03-11 03:00:00   \n",
       "4                       Startup Businesses          Paris 2017-03-02 18:00:00   \n",
       "5                                  Holland      Melbourne 2017-03-05 08:30:00   \n",
       "6                                  Running        Chicago 2017-03-02 00:30:00   \n",
       "7                                   Museum   Gwernaffield 2017-12-17 11:00:00   \n",
       "8                               JavaScript         Berlin 2017-03-02 17:30:00   \n",
       "9                          Cloud Computing         Berlin 2017-03-02 17:30:00   \n",
       "10                                Outdoors      Barcelona 2017-03-25 08:15:00   \n",
       "11                                  Social     Cincinnati 2017-03-18 21:30:00   \n",
       "12                           Dance Lessons      Singapore 2017-03-01 11:00:00   \n",
       "13  Japanese and English Language Exchange       Yokohama 2017-03-04 00:30:00   \n",
       "14                       Stress Management          Dubai 2017-03-25 15:30:00   \n",
       "15                    Tennis for Beginners     Rutherglen 2017-02-27 19:00:00   \n",
       "16                      Sports and Socials         Galway 2017-03-23 21:00:00   \n",
       "17                 Learn Soul Line Dancing        Raleigh 2017-03-01 23:00:00   \n",
       "18                                    Apex  Holly Springs 2017-03-31 22:30:00   \n",
       "19                          Food and Drink       New York 2017-03-08 00:30:00   \n",
       "\n",
       "          date  \n",
       "0   2017-05-10  \n",
       "1   2017-02-28  \n",
       "2   2017-03-02  \n",
       "3   2017-03-11  \n",
       "4   2017-03-02  \n",
       "5   2017-03-05  \n",
       "6   2017-03-02  \n",
       "7   2017-12-17  \n",
       "8   2017-03-02  \n",
       "9   2017-03-02  \n",
       "10  2017-03-25  \n",
       "11  2017-03-18  \n",
       "12  2017-03-01  \n",
       "13  2017-03-04  \n",
       "14  2017-03-25  \n",
       "15  2017-02-27  \n",
       "16  2017-03-23  \n",
       "17  2017-03-01  \n",
       "18  2017-03-31  \n",
       "19  2017-03-08  "
      ]
     },
     "execution_count": 10,
     "metadata": {},
     "output_type": "execute_result"
    }
   ],
   "source": [
    "urlkey_df.head(20)"
   ]
  },
  {
   "cell_type": "code",
   "execution_count": 45,
   "metadata": {
    "collapsed": true,
    "deletable": true,
    "editable": true
   },
   "outputs": [],
   "source": [
    "sf_pd = urlkey_df.ix[urlkey_df['group_city'] ==\"San Francisco\"]"
   ]
  },
  {
   "cell_type": "code",
   "execution_count": 60,
   "metadata": {
    "collapsed": true,
    "deletable": true,
    "editable": true
   },
   "outputs": [],
   "source": [
    "def unique_urlkey(df):\n",
    "    return df['urlkey'].unique()\n",
    "def top_urlkey_count(df):\n",
    "    urlkey_count = df.groupby('urlkey')['group_id'].count()\n",
    "    urlkey_count = pd.DataFrame(urlkey_count)\n",
    "    return urlkey_count"
   ]
  },
  {
   "cell_type": "code",
   "execution_count": 22,
   "metadata": {
    "collapsed": true,
    "deletable": true,
    "editable": true
   },
   "outputs": [],
   "source": [
    "def timeseries_topn_urlkey(df,n):\n",
    "    \"\"\"Input: DataFrame and N: number of urlkeys you want to plot\n",
    "    Output: DataFrame that have top n values for everyday \"\"\"\n",
    "    #get urlkey count\n",
    "    urlkey_count = df.groupby('topic')['group_id'].count()\n",
    "    urlkey_count = pd.DataFrame(urlkey_count)\n",
    "    \n",
    "    # sort urlkey count in descending order\n",
    "    ordered_urlkey_count = urlkey_count.sort_values('group_id', ascending=False)\n",
    "    pop_topics_list = ordered_urlkey_count.index.values[:10].tolist()\n",
    "    \n",
    "    # get the top N values\n",
    "    pop_urlkey_count = ordered_urlkey_count.index.values[:n].tolist()\n",
    "    \n",
    "    #create timeseries \n",
    "    new_topic_pd = df[['topic','date']]\n",
    "    topic_index = new_topic_pd['topic'].isin(pop_topics_list)\n",
    "    top_100_topic_pd = new_topic_pd[topic_index]\n",
    "    \n",
    "    #get urlkey count/day \n",
    "    crosstab_topic_date = pd.crosstab(top_100_topic_pd['date'],top_100_topic_pd['topic'])\n",
    "    return crosstab_topic_date"
   ]
  },
  {
   "cell_type": "code",
   "execution_count": 46,
   "metadata": {
    "collapsed": false,
    "deletable": true,
    "editable": true
   },
   "outputs": [],
   "source": [
    "sf_timeseries = timeseries_topn_urlkey(sf_pd,6)"
   ]
  },
  {
   "cell_type": "markdown",
   "metadata": {
    "deletable": true,
    "editable": true
   },
   "source": [
    "# Plotting data"
   ]
  },
  {
   "cell_type": "code",
   "execution_count": 47,
   "metadata": {
    "collapsed": false,
    "deletable": true,
    "editable": true,
    "scrolled": false
   },
   "outputs": [
    {
     "data": {
      "text/html": [
       "<iframe id=\"igraph\" scrolling=\"no\" style=\"border:none;\" seamless=\"seamless\" src=\"https://plot.ly/~chaudao19/43.embed\" height=\"525px\" width=\"100%\"></iframe>"
      ],
      "text/plain": [
       "<plotly.tools.PlotlyDisplay object>"
      ]
     },
     "execution_count": 47,
     "metadata": {},
     "output_type": "execute_result"
    }
   ],
   "source": [
    "py.iplot([{\n",
    "    'x': sf_timeseries.index,\n",
    "    'y': sf_timeseries[col],\n",
    "    'name': col\n",
    "}  for col in sf_timeseries.columns])"
   ]
  },
  {
   "cell_type": "code",
   "execution_count": 40,
   "metadata": {
    "collapsed": false,
    "deletable": true,
    "editable": true
   },
   "outputs": [],
   "source": [
    "def create_time_series_pd(df):\n",
    "    topic_count = df.groupby('topic')['group_id'].count()\n",
    "    topic_count = pd.DataFrame(topic_count)\n",
    "    ordered_topic_count = topic_count.sort_values('group_id', ascending=False)\n",
    "#     pop_topics_list = ordered_topic_count.index.values[:10].tolist()\n",
    "    pop_topics_list = ['Tech','Data Science','Web Development','Python', 'Data Analytics','Spark','JavaScript','Hadoop']\n",
    "    new_topic_pd = df[['topic','date']]\n",
    "    topic_index = df['topic'].isin(pop_topics_list)\n",
    "    top_100_topic_pd = new_topic_pd[topic_index]\n",
    "    crosstab_topic_date = pd.crosstab(top_100_topic_pd['date'],top_100_topic_pd['topic'])\n",
    "    return crosstab_topic_date\n"
   ]
  },
  {
   "cell_type": "code",
   "execution_count": 41,
   "metadata": {
    "collapsed": false,
    "deletable": true,
    "editable": true
   },
   "outputs": [
    {
     "data": {
      "text/plain": [
       "2132034"
      ]
     },
     "execution_count": 41,
     "metadata": {},
     "output_type": "execute_result"
    }
   ],
   "source": [
    "len(urlkey_df)"
   ]
  },
  {
   "cell_type": "code",
   "execution_count": 42,
   "metadata": {
    "collapsed": false,
    "deletable": true,
    "editable": true
   },
   "outputs": [],
   "source": [
    "ts_bycat = create_time_series_pd(urlkey_df)"
   ]
  },
  {
   "cell_type": "code",
   "execution_count": 43,
   "metadata": {
    "collapsed": false,
    "deletable": true,
    "editable": true,
    "scrolled": true
   },
   "outputs": [
    {
     "data": {
      "text/html": [
       "<div>\n",
       "<table border=\"1\" class=\"dataframe\">\n",
       "  <thead>\n",
       "    <tr style=\"text-align: right;\">\n",
       "      <th>topic</th>\n",
       "      <th>Data Analytics</th>\n",
       "      <th>Data Science</th>\n",
       "      <th>Hadoop</th>\n",
       "      <th>JavaScript</th>\n",
       "      <th>Python</th>\n",
       "      <th>Web Development</th>\n",
       "    </tr>\n",
       "    <tr>\n",
       "      <th>date</th>\n",
       "      <th></th>\n",
       "      <th></th>\n",
       "      <th></th>\n",
       "      <th></th>\n",
       "      <th></th>\n",
       "      <th></th>\n",
       "    </tr>\n",
       "  </thead>\n",
       "  <tbody>\n",
       "    <tr>\n",
       "      <th>2017-02-23</th>\n",
       "      <td>76</td>\n",
       "      <td>52</td>\n",
       "      <td>44</td>\n",
       "      <td>101</td>\n",
       "      <td>40</td>\n",
       "      <td>269</td>\n",
       "    </tr>\n",
       "    <tr>\n",
       "      <th>2017-02-24</th>\n",
       "      <td>53</td>\n",
       "      <td>43</td>\n",
       "      <td>39</td>\n",
       "      <td>91</td>\n",
       "      <td>57</td>\n",
       "      <td>211</td>\n",
       "    </tr>\n",
       "    <tr>\n",
       "      <th>2017-02-25</th>\n",
       "      <td>55</td>\n",
       "      <td>45</td>\n",
       "      <td>33</td>\n",
       "      <td>73</td>\n",
       "      <td>47</td>\n",
       "      <td>169</td>\n",
       "    </tr>\n",
       "    <tr>\n",
       "      <th>2017-02-26</th>\n",
       "      <td>21</td>\n",
       "      <td>8</td>\n",
       "      <td>33</td>\n",
       "      <td>35</td>\n",
       "      <td>19</td>\n",
       "      <td>63</td>\n",
       "    </tr>\n",
       "    <tr>\n",
       "      <th>2017-02-27</th>\n",
       "      <td>32</td>\n",
       "      <td>21</td>\n",
       "      <td>35</td>\n",
       "      <td>52</td>\n",
       "      <td>19</td>\n",
       "      <td>128</td>\n",
       "    </tr>\n",
       "  </tbody>\n",
       "</table>\n",
       "</div>"
      ],
      "text/plain": [
       "topic       Data Analytics  Data Science  Hadoop  JavaScript  Python  \\\n",
       "date                                                                   \n",
       "2017-02-23              76            52      44         101      40   \n",
       "2017-02-24              53            43      39          91      57   \n",
       "2017-02-25              55            45      33          73      47   \n",
       "2017-02-26              21             8      33          35      19   \n",
       "2017-02-27              32            21      35          52      19   \n",
       "\n",
       "topic       Web Development  \n",
       "date                         \n",
       "2017-02-23              269  \n",
       "2017-02-24              211  \n",
       "2017-02-25              169  \n",
       "2017-02-26               63  \n",
       "2017-02-27              128  "
      ]
     },
     "execution_count": 43,
     "metadata": {},
     "output_type": "execute_result"
    }
   ],
   "source": [
    "ts_bycat.head(5)"
   ]
  },
  {
   "cell_type": "code",
   "execution_count": null,
   "metadata": {
    "collapsed": true,
    "deletable": true,
    "editable": true
   },
   "outputs": [],
   "source": []
  },
  {
   "cell_type": "code",
   "execution_count": 48,
   "metadata": {
    "collapsed": false,
    "deletable": true,
    "editable": true
   },
   "outputs": [
    {
     "data": {
      "text/html": [
       "<iframe id=\"igraph\" scrolling=\"no\" style=\"border:none;\" seamless=\"seamless\" src=\"https://plot.ly/~chaudao19/45.embed\" height=\"525px\" width=\"100%\"></iframe>"
      ],
      "text/plain": [
       "<plotly.tools.PlotlyDisplay object>"
      ]
     },
     "execution_count": 48,
     "metadata": {},
     "output_type": "execute_result"
    }
   ],
   "source": [
    "py.iplot([{\n",
    "    'x': sf_timeseries.index,\n",
    "    'y': sf_timeseries[col],\n",
    "    'name': col\n",
    "}  for col in sf_timeseries.columns])"
   ]
  },
  {
   "cell_type": "code",
   "execution_count": 44,
   "metadata": {
    "collapsed": false,
    "deletable": true,
    "editable": true
   },
   "outputs": [
    {
     "data": {
      "text/html": [
       "<iframe id=\"igraph\" scrolling=\"no\" style=\"border:none;\" seamless=\"seamless\" src=\"https://plot.ly/~chaudao19/41.embed\" height=\"525px\" width=\"100%\"></iframe>"
      ],
      "text/plain": [
       "<plotly.tools.PlotlyDisplay object>"
      ]
     },
     "execution_count": 44,
     "metadata": {},
     "output_type": "execute_result"
    }
   ],
   "source": [
    "py.iplot([{\n",
    "    'x': ts_bycat.index,\n",
    "    'y': ts_bycat[col],\n",
    "    'name': col\n",
    "}  for col in ts_bycat.columns])"
   ]
  },
  {
   "cell_type": "code",
   "execution_count": null,
   "metadata": {
    "collapsed": true,
    "deletable": true,
    "editable": true
   },
   "outputs": [],
   "source": []
  },
  {
   "cell_type": "code",
   "execution_count": null,
   "metadata": {
    "collapsed": true,
    "deletable": true,
    "editable": true
   },
   "outputs": [],
   "source": []
  }
 ],
 "metadata": {
  "kernelspec": {
   "display_name": "Python 2",
   "language": "python",
   "name": "python2"
  },
  "language_info": {
   "codemirror_mode": {
    "name": "ipython",
    "version": 2
   },
   "file_extension": ".py",
   "mimetype": "text/x-python",
   "name": "python",
   "nbconvert_exporter": "python",
   "pygments_lexer": "ipython2",
   "version": "2.7.12"
  }
 },
 "nbformat": 4,
 "nbformat_minor": 2
}
