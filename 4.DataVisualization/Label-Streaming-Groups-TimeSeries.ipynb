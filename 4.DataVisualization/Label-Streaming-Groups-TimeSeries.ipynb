{
 "cells": [
  {
   "cell_type": "markdown",
   "metadata": {
    "collapsed": true,
    "deletable": true,
    "editable": true
   },
   "source": [
    "# Import Packages"
   ]
  },
  {
   "cell_type": "code",
   "execution_count": 1,
   "metadata": {
    "collapsed": false,
    "deletable": true,
    "editable": true,
    "scrolled": true
   },
   "outputs": [
    {
     "name": "stdout",
     "output_type": "stream",
     "text": [
      "Populating the interactive namespace from numpy and matplotlib\n"
     ]
    }
   ],
   "source": [
    "%pylab inline\n",
    "import plotly.plotly as py\n",
    "import plotly.graph_objs as go\n",
    "import plotly\n",
    "from plotly.graph_objs import *\n",
    "import pandas as pd\n",
    "import numpy as np\n",
    "import itertools\n",
    "import pickle\n",
    "from datetime import datetime\n",
    "from itertools import chain\n",
    "import itertools\n",
    "import json\n",
    "from pyspark.sql.functions import desc, explode\n",
    "import datetime\n",
    "from collections import defaultdict\n",
    "from operator import itemgetter\n",
    "import yaml\n",
    "import os\n",
    "credentials = yaml.load(open(os.path.expanduser('plotlyCred.yml')))\n",
    "plotly.tools.set_credentials_file(credentials.get('username'), api_key=credentials.get('api_key'))"
   ]
  },
  {
   "cell_type": "markdown",
   "metadata": {
    "deletable": true,
    "editable": true
   },
   "source": [
    "# Load Parquet Files from S3"
   ]
  },
  {
   "cell_type": "code",
   "execution_count": 2,
   "metadata": {
    "collapsed": true,
    "deletable": true,
    "editable": true
   },
   "outputs": [],
   "source": [
    "topic_by_category = spark.read.parquet(\"s3a://meetupdf/topic_by_category\")"
   ]
  },
  {
   "cell_type": "code",
   "execution_count": 3,
   "metadata": {
    "collapsed": true,
    "deletable": true,
    "editable": true
   },
   "outputs": [],
   "source": [
    "urlkey =spark.read.parquet(\"s3a://meetupdf/urlkey\")"
   ]
  },
  {
   "cell_type": "code",
   "execution_count": 4,
   "metadata": {
    "collapsed": false,
    "deletable": true,
    "editable": true,
    "scrolled": true
   },
   "outputs": [
    {
     "name": "stdout",
     "output_type": "stream",
     "text": [
      "+-------+-------------+----------------+--------------------+\n",
      "|     id|         city|        category|              topics|\n",
      "+-------+-------------+----------------+--------------------+\n",
      "| 115511|     Portland|religion/beliefs|[Witches, Pagan, ...|\n",
      "|9593962|      Houston|     socializing|[Adult/Teens with...|\n",
      "| 432739|     Oak Park| career/business|[Business, Leader...|\n",
      "| 986420|San Francisco|            LGBT|[Gay Dads, Gay Pa...|\n",
      "|  88008|     New York|  hobbies/crafts|[Jewelry Making, ...|\n",
      "+-------+-------------+----------------+--------------------+\n",
      "only showing top 5 rows\n",
      "\n"
     ]
    }
   ],
   "source": [
    "topic_by_category.show(5)"
   ]
  },
  {
   "cell_type": "code",
   "execution_count": 5,
   "metadata": {
    "collapsed": false,
    "deletable": true,
    "editable": true,
    "scrolled": true
   },
   "outputs": [
    {
     "name": "stdout",
     "output_type": "stream",
     "text": [
      "+--------+------------+-------------+-------------+--------------------+--------------------+\n",
      "|group_id|    event_id|   group_city|   event_time|               topic|              urlkey|\n",
      "+--------+------------+-------------+-------------+--------------------+--------------------+\n",
      "|18649748|   238062438|    San Diego|1489511700000|[[Entrepreneurshi...|[entrepreneurship...|\n",
      "|19527815|vvdsxlywfbvb|Saint Charles|1489705200000|[[Robotics,roboti...|[robotics, electr...|\n",
      "|18788220|   238052232|       London|1489170600000|[[Hiking,hiking],...|[hiking, singles-...|\n",
      "|20379974|fjqmbmywgbjb|    Vancouver|1491530400000|[[Wine,wine], [Di...|[wine, diningout,...|\n",
      "| 4369102|   237176191|       Kanata|1489847400000|[[Spirit Guides,s...|[spirit-guides, s...|\n",
      "+--------+------------+-------------+-------------+--------------------+--------------------+\n",
      "only showing top 5 rows\n",
      "\n"
     ]
    }
   ],
   "source": [
    "urlkey.show(5)"
   ]
  },
  {
   "cell_type": "code",
   "execution_count": 6,
   "metadata": {
    "collapsed": false,
    "deletable": true,
    "editable": true
   },
   "outputs": [],
   "source": [
    "# tech_groups = topic_by_category.filter(topic_by_category['category'] == \"tech\")"
   ]
  },
  {
   "cell_type": "markdown",
   "metadata": {
    "deletable": true,
    "editable": true
   },
   "source": [
    "# Convert to Pandas"
   ]
  },
  {
   "cell_type": "code",
   "execution_count": 7,
   "metadata": {
    "collapsed": true,
    "deletable": true,
    "editable": true
   },
   "outputs": [],
   "source": [
    "def convert_pd_datetime(df):\n",
    "\t'''input: a sparksql dataframe\n",
    "\t\toutput: a panda dataframe that has converted timestamp to datetime '''\n",
    "\turlkey_df = df.toPandas()\n",
    "\turlkey_df['datetime'] = pd.to_datetime(urlkey_df['event_time'],unit = 'ms')\n",
    "\turlkey_df['date'] =  pd.DatetimeIndex(urlkey_df['datetime']).date\n",
    "\treturn urlkey_df"
   ]
  },
  {
   "cell_type": "code",
   "execution_count": 8,
   "metadata": {
    "collapsed": false,
    "deletable": true,
    "editable": true
   },
   "outputs": [],
   "source": [
    "topic_time_panda = convert_pd_datetime(urlkey)\n",
    "topic_category_panda = topic_by_category.toPandas()\n",
    "topic_time_panda = topic_time_panda.dropna()"
   ]
  },
  {
   "cell_type": "code",
   "execution_count": 9,
   "metadata": {
    "collapsed": false,
    "deletable": true,
    "editable": true
   },
   "outputs": [
    {
     "data": {
      "text/html": [
       "<iframe id=\"igraph\" scrolling=\"no\" style=\"border:none;\" seamless=\"seamless\" src=\"https://plot.ly/~chaudao19/47.embed\" height=\"525px\" width=\"100%\"></iframe>"
      ],
      "text/plain": [
       "<plotly.tools.PlotlyDisplay object>"
      ]
     },
     "execution_count": 9,
     "metadata": {},
     "output_type": "execute_result"
    }
   ],
   "source": [
    "# Category Distribution\n",
    "data = Data([Histogram(x=topic_category_panda['category'])])\n",
    "py.iplot(data)"
   ]
  },
  {
   "cell_type": "code",
   "execution_count": 11,
   "metadata": {
    "collapsed": true,
    "deletable": true,
    "editable": true
   },
   "outputs": [],
   "source": [
    "def unique_urlkey(df):\n",
    "    return df['urlkey'].unique()\n",
    "def top_urlkey_count(df):\n",
    "    urlkey_count = df.groupby('urlkey')['group_id'].count()\n",
    "    urlkey_count = pd.DataFrame(urlkey_count)\n",
    "    return urlkey_count"
   ]
  },
  {
   "cell_type": "code",
   "execution_count": 12,
   "metadata": {
    "collapsed": false,
    "deletable": true,
    "editable": true
   },
   "outputs": [
    {
     "data": {
      "text/html": [
       "<div>\n",
       "<table border=\"1\" class=\"dataframe\">\n",
       "  <thead>\n",
       "    <tr style=\"text-align: right;\">\n",
       "      <th></th>\n",
       "      <th>id</th>\n",
       "      <th>city</th>\n",
       "      <th>category</th>\n",
       "      <th>topics</th>\n",
       "    </tr>\n",
       "  </thead>\n",
       "  <tbody>\n",
       "    <tr>\n",
       "      <th>0</th>\n",
       "      <td>115511</td>\n",
       "      <td>Portland</td>\n",
       "      <td>religion/beliefs</td>\n",
       "      <td>[Witches, Pagan, Asatru, Goddess, Shamanism, D...</td>\n",
       "    </tr>\n",
       "    <tr>\n",
       "      <th>1</th>\n",
       "      <td>9593962</td>\n",
       "      <td>Houston</td>\n",
       "      <td>socializing</td>\n",
       "      <td>[Adult/Teens with Asperger/Spectrum Disorders,...</td>\n",
       "    </tr>\n",
       "    <tr>\n",
       "      <th>2</th>\n",
       "      <td>432739</td>\n",
       "      <td>Oak Park</td>\n",
       "      <td>career/business</td>\n",
       "      <td>[Business, Leadership, Professional Networking...</td>\n",
       "    </tr>\n",
       "    <tr>\n",
       "      <th>3</th>\n",
       "      <td>986420</td>\n",
       "      <td>San Francisco</td>\n",
       "      <td>LGBT</td>\n",
       "      <td>[Gay Dads, Gay Parents]</td>\n",
       "    </tr>\n",
       "    <tr>\n",
       "      <th>4</th>\n",
       "      <td>88008</td>\n",
       "      <td>New York</td>\n",
       "      <td>hobbies/crafts</td>\n",
       "      <td>[Jewelry Making, Metal clay, Bead Addicts, Mak...</td>\n",
       "    </tr>\n",
       "  </tbody>\n",
       "</table>\n",
       "</div>"
      ],
      "text/plain": [
       "        id           city          category  \\\n",
       "0   115511       Portland  religion/beliefs   \n",
       "1  9593962        Houston       socializing   \n",
       "2   432739       Oak Park   career/business   \n",
       "3   986420  San Francisco              LGBT   \n",
       "4    88008       New York    hobbies/crafts   \n",
       "\n",
       "                                              topics  \n",
       "0  [Witches, Pagan, Asatru, Goddess, Shamanism, D...  \n",
       "1  [Adult/Teens with Asperger/Spectrum Disorders,...  \n",
       "2  [Business, Leadership, Professional Networking...  \n",
       "3                            [Gay Dads, Gay Parents]  \n",
       "4  [Jewelry Making, Metal clay, Bead Addicts, Mak...  "
      ]
     },
     "execution_count": 12,
     "metadata": {},
     "output_type": "execute_result"
    }
   ],
   "source": [
    "topic_category_panda.head(5)"
   ]
  },
  {
   "cell_type": "code",
   "execution_count": 13,
   "metadata": {
    "collapsed": false,
    "deletable": true,
    "editable": true,
    "scrolled": true
   },
   "outputs": [
    {
     "data": {
      "text/html": [
       "<div>\n",
       "<table border=\"1\" class=\"dataframe\">\n",
       "  <thead>\n",
       "    <tr style=\"text-align: right;\">\n",
       "      <th></th>\n",
       "      <th>group_id</th>\n",
       "      <th>event_id</th>\n",
       "      <th>group_city</th>\n",
       "      <th>event_time</th>\n",
       "      <th>topic</th>\n",
       "      <th>urlkey</th>\n",
       "      <th>datetime</th>\n",
       "      <th>date</th>\n",
       "    </tr>\n",
       "  </thead>\n",
       "  <tbody>\n",
       "    <tr>\n",
       "      <th>0</th>\n",
       "      <td>18649748.0</td>\n",
       "      <td>238062438</td>\n",
       "      <td>San Diego</td>\n",
       "      <td>1.489512e+12</td>\n",
       "      <td>[(Entrepreneurship, entrepreneurship), (Entrep...</td>\n",
       "      <td>[entrepreneurship, business-entrepreneur-netwo...</td>\n",
       "      <td>2017-03-14 17:15:00</td>\n",
       "      <td>2017-03-14</td>\n",
       "    </tr>\n",
       "    <tr>\n",
       "      <th>1</th>\n",
       "      <td>19527815.0</td>\n",
       "      <td>vvdsxlywfbvb</td>\n",
       "      <td>Saint Charles</td>\n",
       "      <td>1.489705e+12</td>\n",
       "      <td>[(Robotics, robotics), (Electronics, electroni...</td>\n",
       "      <td>[robotics, electronics, newtech, microcontroll...</td>\n",
       "      <td>2017-03-16 23:00:00</td>\n",
       "      <td>2017-03-16</td>\n",
       "    </tr>\n",
       "    <tr>\n",
       "      <th>2</th>\n",
       "      <td>18788220.0</td>\n",
       "      <td>238052232</td>\n",
       "      <td>London</td>\n",
       "      <td>1.489171e+12</td>\n",
       "      <td>[(Hiking, hiking), (Singles Who Love to Travel...</td>\n",
       "      <td>[hiking, singles-who-love-to-travel-travel, bu...</td>\n",
       "      <td>2017-03-10 18:30:00</td>\n",
       "      <td>2017-03-10</td>\n",
       "    </tr>\n",
       "    <tr>\n",
       "      <th>3</th>\n",
       "      <td>20379974.0</td>\n",
       "      <td>fjqmbmywgbjb</td>\n",
       "      <td>Vancouver</td>\n",
       "      <td>1.491530e+12</td>\n",
       "      <td>[(Wine, wine), (Dining Out, diningout), (Night...</td>\n",
       "      <td>[wine, diningout, nightlife, socialnetwork, ho...</td>\n",
       "      <td>2017-04-07 02:00:00</td>\n",
       "      <td>2017-04-07</td>\n",
       "    </tr>\n",
       "    <tr>\n",
       "      <th>4</th>\n",
       "      <td>4369102.0</td>\n",
       "      <td>237176191</td>\n",
       "      <td>Kanata</td>\n",
       "      <td>1.489847e+12</td>\n",
       "      <td>[(Spirit Guides, spirit-guides), (Self Explora...</td>\n",
       "      <td>[spirit-guides, self-exploration, transformati...</td>\n",
       "      <td>2017-03-18 14:30:00</td>\n",
       "      <td>2017-03-18</td>\n",
       "    </tr>\n",
       "  </tbody>\n",
       "</table>\n",
       "</div>"
      ],
      "text/plain": [
       "     group_id      event_id     group_city    event_time  \\\n",
       "0  18649748.0     238062438      San Diego  1.489512e+12   \n",
       "1  19527815.0  vvdsxlywfbvb  Saint Charles  1.489705e+12   \n",
       "2  18788220.0     238052232         London  1.489171e+12   \n",
       "3  20379974.0  fjqmbmywgbjb      Vancouver  1.491530e+12   \n",
       "4   4369102.0     237176191         Kanata  1.489847e+12   \n",
       "\n",
       "                                               topic  \\\n",
       "0  [(Entrepreneurship, entrepreneurship), (Entrep...   \n",
       "1  [(Robotics, robotics), (Electronics, electroni...   \n",
       "2  [(Hiking, hiking), (Singles Who Love to Travel...   \n",
       "3  [(Wine, wine), (Dining Out, diningout), (Night...   \n",
       "4  [(Spirit Guides, spirit-guides), (Self Explora...   \n",
       "\n",
       "                                              urlkey            datetime  \\\n",
       "0  [entrepreneurship, business-entrepreneur-netwo... 2017-03-14 17:15:00   \n",
       "1  [robotics, electronics, newtech, microcontroll... 2017-03-16 23:00:00   \n",
       "2  [hiking, singles-who-love-to-travel-travel, bu... 2017-03-10 18:30:00   \n",
       "3  [wine, diningout, nightlife, socialnetwork, ho... 2017-04-07 02:00:00   \n",
       "4  [spirit-guides, self-exploration, transformati... 2017-03-18 14:30:00   \n",
       "\n",
       "         date  \n",
       "0  2017-03-14  \n",
       "1  2017-03-16  \n",
       "2  2017-03-10  \n",
       "3  2017-04-07  \n",
       "4  2017-03-18  "
      ]
     },
     "execution_count": 13,
     "metadata": {},
     "output_type": "execute_result"
    }
   ],
   "source": [
    "topic_time_panda.head(5)"
   ]
  },
  {
   "cell_type": "code",
   "execution_count": 14,
   "metadata": {
    "collapsed": false,
    "deletable": true,
    "editable": true,
    "scrolled": true
   },
   "outputs": [
    {
     "data": {
      "text/html": [
       "<div>\n",
       "<table border=\"1\" class=\"dataframe\">\n",
       "  <thead>\n",
       "    <tr style=\"text-align: right;\">\n",
       "      <th></th>\n",
       "      <th>category</th>\n",
       "      <th>topics</th>\n",
       "    </tr>\n",
       "  </thead>\n",
       "  <tbody>\n",
       "    <tr>\n",
       "      <th>0</th>\n",
       "      <td>religion/beliefs</td>\n",
       "      <td>[Witches, Pagan, Asatru, Goddess, Shamanism, D...</td>\n",
       "    </tr>\n",
       "    <tr>\n",
       "      <th>1</th>\n",
       "      <td>socializing</td>\n",
       "      <td>[Adult/Teens with Asperger/Spectrum Disorders,...</td>\n",
       "    </tr>\n",
       "    <tr>\n",
       "      <th>2</th>\n",
       "      <td>career/business</td>\n",
       "      <td>[Business, Leadership, Professional Networking...</td>\n",
       "    </tr>\n",
       "    <tr>\n",
       "      <th>3</th>\n",
       "      <td>LGBT</td>\n",
       "      <td>[Gay Dads, Gay Parents]</td>\n",
       "    </tr>\n",
       "    <tr>\n",
       "      <th>4</th>\n",
       "      <td>hobbies/crafts</td>\n",
       "      <td>[Jewelry Making, Metal clay, Bead Addicts, Mak...</td>\n",
       "    </tr>\n",
       "  </tbody>\n",
       "</table>\n",
       "</div>"
      ],
      "text/plain": [
       "           category                                             topics\n",
       "0  religion/beliefs  [Witches, Pagan, Asatru, Goddess, Shamanism, D...\n",
       "1       socializing  [Adult/Teens with Asperger/Spectrum Disorders,...\n",
       "2   career/business  [Business, Leadership, Professional Networking...\n",
       "3              LGBT                            [Gay Dads, Gay Parents]\n",
       "4    hobbies/crafts  [Jewelry Making, Metal clay, Bead Addicts, Mak..."
      ]
     },
     "execution_count": 14,
     "metadata": {},
     "output_type": "execute_result"
    }
   ],
   "source": [
    "category_topic = topic_category_panda[['category','topics']]\n",
    "category_topic.head(5)"
   ]
  },
  {
   "cell_type": "markdown",
   "metadata": {
    "deletable": true,
    "editable": true
   },
   "source": [
    "# Manipulate Data"
   ]
  },
  {
   "cell_type": "code",
   "execution_count": 15,
   "metadata": {
    "collapsed": true,
    "deletable": true,
    "editable": true
   },
   "outputs": [],
   "source": [
    "def key_list(l):\n",
    "    merged_list = list(itertools.chain(*l))\n",
    "    merged_list = [word.strip(\" \").lower() for word in merged_list]\n",
    "    return merged_list\n",
    "def category_topic_dict(df):\n",
    "    category_double_lists = defaultdict(list)\n",
    "    for i in range(len(df)):\n",
    "        category_double_lists[df['category'][i]].append(df['topics'][i])\n",
    "    merged_list = {}\n",
    "    for k,v in category_double_lists.items():\n",
    "        merged_list[k] = key_list(v)\n",
    "    return merged_list"
   ]
  },
  {
   "cell_type": "code",
   "execution_count": 16,
   "metadata": {
    "collapsed": false,
    "deletable": true,
    "editable": true
   },
   "outputs": [
    {
     "data": {
      "text/html": [
       "<div>\n",
       "<table border=\"1\" class=\"dataframe\">\n",
       "  <thead>\n",
       "    <tr style=\"text-align: right;\">\n",
       "      <th></th>\n",
       "      <th>category</th>\n",
       "      <th>count</th>\n",
       "    </tr>\n",
       "  </thead>\n",
       "  <tbody>\n",
       "    <tr>\n",
       "      <th>0</th>\n",
       "      <td>career/business</td>\n",
       "      <td>188</td>\n",
       "    </tr>\n",
       "    <tr>\n",
       "      <th>1</th>\n",
       "      <td>socializing</td>\n",
       "      <td>163</td>\n",
       "    </tr>\n",
       "    <tr>\n",
       "      <th>2</th>\n",
       "      <td>tech</td>\n",
       "      <td>133</td>\n",
       "    </tr>\n",
       "    <tr>\n",
       "      <th>3</th>\n",
       "      <td>language/ethnic identity</td>\n",
       "      <td>122</td>\n",
       "    </tr>\n",
       "    <tr>\n",
       "      <th>4</th>\n",
       "      <td>outdoors/adventure</td>\n",
       "      <td>92</td>\n",
       "    </tr>\n",
       "  </tbody>\n",
       "</table>\n",
       "</div>"
      ],
      "text/plain": [
       "                   category  count\n",
       "0           career/business    188\n",
       "1               socializing    163\n",
       "2                      tech    133\n",
       "3  language/ethnic identity    122\n",
       "4        outdoors/adventure     92"
      ]
     },
     "execution_count": 16,
     "metadata": {},
     "output_type": "execute_result"
    }
   ],
   "source": [
    "top_5_category = pd.DataFrame(topic_category_panda['category'].value_counts()[:5])\n",
    "top_5_category = top_5_category.reset_index()\n",
    "top_5_category.columns = ['category','count']\n",
    "top_5_category"
   ]
  },
  {
   "cell_type": "code",
   "execution_count": 17,
   "metadata": {
    "collapsed": true,
    "deletable": true,
    "editable": true
   },
   "outputs": [],
   "source": [
    "def filter_dict(dic):\n",
    "    top5cat = dict()\n",
    "    for k,v in dic.items():\n",
    "        if k in top_5_category['category'].tolist():\n",
    "            top5cat[k] = v\n",
    "    return top5cat"
   ]
  },
  {
   "cell_type": "code",
   "execution_count": 18,
   "metadata": {
    "collapsed": false,
    "deletable": true,
    "editable": true
   },
   "outputs": [],
   "source": [
    "category_list_topics = category_topic_dict(category_topic)\n",
    "top5cat = filter_dict(category_list_topics)"
   ]
  },
  {
   "cell_type": "markdown",
   "metadata": {
    "deletable": true,
    "editable": true
   },
   "source": [
    "# Label group category by topics"
   ]
  },
  {
   "cell_type": "code",
   "execution_count": 19,
   "metadata": {
    "collapsed": true,
    "deletable": true,
    "editable": true
   },
   "outputs": [],
   "source": [
    "def label(df,dic):\n",
    "    for (k,v) in dic.items():\n",
    "        df[k] = df['urlkey'].apply(lambda x: [ True if word in v else False for word in x ].count(True) )\n",
    "    return df"
   ]
  },
  {
   "cell_type": "code",
   "execution_count": 20,
   "metadata": {
    "collapsed": false,
    "deletable": true,
    "editable": true
   },
   "outputs": [],
   "source": [
    "test = label(topic_time_panda,top5cat)\n",
    "test = test.reset_index()"
   ]
  },
  {
   "cell_type": "code",
   "execution_count": 21,
   "metadata": {
    "collapsed": false,
    "deletable": true,
    "editable": true,
    "scrolled": false
   },
   "outputs": [
    {
     "data": {
      "text/html": [
       "<div>\n",
       "<table border=\"1\" class=\"dataframe\">\n",
       "  <thead>\n",
       "    <tr style=\"text-align: right;\">\n",
       "      <th></th>\n",
       "      <th>index</th>\n",
       "      <th>group_id</th>\n",
       "      <th>event_id</th>\n",
       "      <th>group_city</th>\n",
       "      <th>event_time</th>\n",
       "      <th>topic</th>\n",
       "      <th>urlkey</th>\n",
       "      <th>datetime</th>\n",
       "      <th>date</th>\n",
       "      <th>career/business</th>\n",
       "      <th>outdoors/adventure</th>\n",
       "      <th>language/ethnic identity</th>\n",
       "      <th>tech</th>\n",
       "      <th>socializing</th>\n",
       "    </tr>\n",
       "  </thead>\n",
       "  <tbody>\n",
       "    <tr>\n",
       "      <th>0</th>\n",
       "      <td>0</td>\n",
       "      <td>18649748.0</td>\n",
       "      <td>238062438</td>\n",
       "      <td>San Diego</td>\n",
       "      <td>1.489512e+12</td>\n",
       "      <td>[(Entrepreneurship, entrepreneurship), (Entrep...</td>\n",
       "      <td>[entrepreneurship, business-entrepreneur-netwo...</td>\n",
       "      <td>2017-03-14 17:15:00</td>\n",
       "      <td>2017-03-14</td>\n",
       "      <td>4</td>\n",
       "      <td>1</td>\n",
       "      <td>2</td>\n",
       "      <td>2</td>\n",
       "      <td>3</td>\n",
       "    </tr>\n",
       "    <tr>\n",
       "      <th>1</th>\n",
       "      <td>1</td>\n",
       "      <td>19527815.0</td>\n",
       "      <td>vvdsxlywfbvb</td>\n",
       "      <td>Saint Charles</td>\n",
       "      <td>1.489705e+12</td>\n",
       "      <td>[(Robotics, robotics), (Electronics, electroni...</td>\n",
       "      <td>[robotics, electronics, newtech, microcontroll...</td>\n",
       "      <td>2017-03-16 23:00:00</td>\n",
       "      <td>2017-03-16</td>\n",
       "      <td>2</td>\n",
       "      <td>0</td>\n",
       "      <td>0</td>\n",
       "      <td>5</td>\n",
       "      <td>0</td>\n",
       "    </tr>\n",
       "    <tr>\n",
       "      <th>2</th>\n",
       "      <td>2</td>\n",
       "      <td>18788220.0</td>\n",
       "      <td>238052232</td>\n",
       "      <td>London</td>\n",
       "      <td>1.489171e+12</td>\n",
       "      <td>[(Hiking, hiking), (Singles Who Love to Travel...</td>\n",
       "      <td>[hiking, singles-who-love-to-travel-travel, bu...</td>\n",
       "      <td>2017-03-10 18:30:00</td>\n",
       "      <td>2017-03-10</td>\n",
       "      <td>3</td>\n",
       "      <td>6</td>\n",
       "      <td>5</td>\n",
       "      <td>0</td>\n",
       "      <td>6</td>\n",
       "    </tr>\n",
       "    <tr>\n",
       "      <th>3</th>\n",
       "      <td>3</td>\n",
       "      <td>20379974.0</td>\n",
       "      <td>fjqmbmywgbjb</td>\n",
       "      <td>Vancouver</td>\n",
       "      <td>1.491530e+12</td>\n",
       "      <td>[(Wine, wine), (Dining Out, diningout), (Night...</td>\n",
       "      <td>[wine, diningout, nightlife, socialnetwork, ho...</td>\n",
       "      <td>2017-04-07 02:00:00</td>\n",
       "      <td>2017-04-07</td>\n",
       "      <td>3</td>\n",
       "      <td>3</td>\n",
       "      <td>2</td>\n",
       "      <td>1</td>\n",
       "      <td>4</td>\n",
       "    </tr>\n",
       "    <tr>\n",
       "      <th>4</th>\n",
       "      <td>4</td>\n",
       "      <td>4369102.0</td>\n",
       "      <td>237176191</td>\n",
       "      <td>Kanata</td>\n",
       "      <td>1.489847e+12</td>\n",
       "      <td>[(Spirit Guides, spirit-guides), (Self Explora...</td>\n",
       "      <td>[spirit-guides, self-exploration, transformati...</td>\n",
       "      <td>2017-03-18 14:30:00</td>\n",
       "      <td>2017-03-18</td>\n",
       "      <td>4</td>\n",
       "      <td>3</td>\n",
       "      <td>3</td>\n",
       "      <td>2</td>\n",
       "      <td>4</td>\n",
       "    </tr>\n",
       "  </tbody>\n",
       "</table>\n",
       "</div>"
      ],
      "text/plain": [
       "   index    group_id      event_id     group_city    event_time  \\\n",
       "0      0  18649748.0     238062438      San Diego  1.489512e+12   \n",
       "1      1  19527815.0  vvdsxlywfbvb  Saint Charles  1.489705e+12   \n",
       "2      2  18788220.0     238052232         London  1.489171e+12   \n",
       "3      3  20379974.0  fjqmbmywgbjb      Vancouver  1.491530e+12   \n",
       "4      4   4369102.0     237176191         Kanata  1.489847e+12   \n",
       "\n",
       "                                               topic  \\\n",
       "0  [(Entrepreneurship, entrepreneurship), (Entrep...   \n",
       "1  [(Robotics, robotics), (Electronics, electroni...   \n",
       "2  [(Hiking, hiking), (Singles Who Love to Travel...   \n",
       "3  [(Wine, wine), (Dining Out, diningout), (Night...   \n",
       "4  [(Spirit Guides, spirit-guides), (Self Explora...   \n",
       "\n",
       "                                              urlkey            datetime  \\\n",
       "0  [entrepreneurship, business-entrepreneur-netwo... 2017-03-14 17:15:00   \n",
       "1  [robotics, electronics, newtech, microcontroll... 2017-03-16 23:00:00   \n",
       "2  [hiking, singles-who-love-to-travel-travel, bu... 2017-03-10 18:30:00   \n",
       "3  [wine, diningout, nightlife, socialnetwork, ho... 2017-04-07 02:00:00   \n",
       "4  [spirit-guides, self-exploration, transformati... 2017-03-18 14:30:00   \n",
       "\n",
       "         date  career/business  outdoors/adventure  language/ethnic identity  \\\n",
       "0  2017-03-14                4                   1                         2   \n",
       "1  2017-03-16                2                   0                         0   \n",
       "2  2017-03-10                3                   6                         5   \n",
       "3  2017-04-07                3                   3                         2   \n",
       "4  2017-03-18                4                   3                         3   \n",
       "\n",
       "   tech  socializing  \n",
       "0     2            3  \n",
       "1     5            0  \n",
       "2     0            6  \n",
       "3     1            4  \n",
       "4     2            4  "
      ]
     },
     "execution_count": 21,
     "metadata": {},
     "output_type": "execute_result"
    }
   ],
   "source": [
    "test.head(5)"
   ]
  },
  {
   "cell_type": "code",
   "execution_count": 22,
   "metadata": {
    "collapsed": false,
    "deletable": true,
    "editable": true
   },
   "outputs": [],
   "source": [
    "def label_by_count(df):\n",
    "    labels = ['career/business','outdoors/adventure','language/ethnic identity','tech','socializing']\n",
    "    final_label = []\n",
    "    for i in range(len(test)):\n",
    "        list_labels = [df[label][i] for label in labels]\n",
    "        index, element = max(enumerate(list_labels), key=itemgetter(1))\n",
    "        final_label.append(labels[index])\n",
    "    return final_label\n",
    "final_label = label_by_count(test)"
   ]
  },
  {
   "cell_type": "code",
   "execution_count": 23,
   "metadata": {
    "collapsed": true,
    "deletable": true,
    "editable": true
   },
   "outputs": [],
   "source": [
    "test['label'] = pd.Series(final_label, index = test.index)"
   ]
  },
  {
   "cell_type": "code",
   "execution_count": 24,
   "metadata": {
    "collapsed": false,
    "deletable": true,
    "editable": true,
    "scrolled": false
   },
   "outputs": [
    {
     "data": {
      "text/html": [
       "<div>\n",
       "<table border=\"1\" class=\"dataframe\">\n",
       "  <thead>\n",
       "    <tr style=\"text-align: right;\">\n",
       "      <th></th>\n",
       "      <th>index</th>\n",
       "      <th>group_id</th>\n",
       "      <th>event_id</th>\n",
       "      <th>group_city</th>\n",
       "      <th>event_time</th>\n",
       "      <th>topic</th>\n",
       "      <th>urlkey</th>\n",
       "      <th>datetime</th>\n",
       "      <th>date</th>\n",
       "      <th>career/business</th>\n",
       "      <th>outdoors/adventure</th>\n",
       "      <th>language/ethnic identity</th>\n",
       "      <th>tech</th>\n",
       "      <th>socializing</th>\n",
       "      <th>label</th>\n",
       "    </tr>\n",
       "  </thead>\n",
       "  <tbody>\n",
       "    <tr>\n",
       "      <th>0</th>\n",
       "      <td>0</td>\n",
       "      <td>18649748.0</td>\n",
       "      <td>238062438</td>\n",
       "      <td>San Diego</td>\n",
       "      <td>1.489512e+12</td>\n",
       "      <td>[(Entrepreneurship, entrepreneurship), (Entrep...</td>\n",
       "      <td>[entrepreneurship, business-entrepreneur-netwo...</td>\n",
       "      <td>2017-03-14 17:15:00</td>\n",
       "      <td>2017-03-14</td>\n",
       "      <td>4</td>\n",
       "      <td>1</td>\n",
       "      <td>2</td>\n",
       "      <td>2</td>\n",
       "      <td>3</td>\n",
       "      <td>career/business</td>\n",
       "    </tr>\n",
       "    <tr>\n",
       "      <th>1</th>\n",
       "      <td>1</td>\n",
       "      <td>19527815.0</td>\n",
       "      <td>vvdsxlywfbvb</td>\n",
       "      <td>Saint Charles</td>\n",
       "      <td>1.489705e+12</td>\n",
       "      <td>[(Robotics, robotics), (Electronics, electroni...</td>\n",
       "      <td>[robotics, electronics, newtech, microcontroll...</td>\n",
       "      <td>2017-03-16 23:00:00</td>\n",
       "      <td>2017-03-16</td>\n",
       "      <td>2</td>\n",
       "      <td>0</td>\n",
       "      <td>0</td>\n",
       "      <td>5</td>\n",
       "      <td>0</td>\n",
       "      <td>tech</td>\n",
       "    </tr>\n",
       "    <tr>\n",
       "      <th>2</th>\n",
       "      <td>2</td>\n",
       "      <td>18788220.0</td>\n",
       "      <td>238052232</td>\n",
       "      <td>London</td>\n",
       "      <td>1.489171e+12</td>\n",
       "      <td>[(Hiking, hiking), (Singles Who Love to Travel...</td>\n",
       "      <td>[hiking, singles-who-love-to-travel-travel, bu...</td>\n",
       "      <td>2017-03-10 18:30:00</td>\n",
       "      <td>2017-03-10</td>\n",
       "      <td>3</td>\n",
       "      <td>6</td>\n",
       "      <td>5</td>\n",
       "      <td>0</td>\n",
       "      <td>6</td>\n",
       "      <td>outdoors/adventure</td>\n",
       "    </tr>\n",
       "    <tr>\n",
       "      <th>3</th>\n",
       "      <td>3</td>\n",
       "      <td>20379974.0</td>\n",
       "      <td>fjqmbmywgbjb</td>\n",
       "      <td>Vancouver</td>\n",
       "      <td>1.491530e+12</td>\n",
       "      <td>[(Wine, wine), (Dining Out, diningout), (Night...</td>\n",
       "      <td>[wine, diningout, nightlife, socialnetwork, ho...</td>\n",
       "      <td>2017-04-07 02:00:00</td>\n",
       "      <td>2017-04-07</td>\n",
       "      <td>3</td>\n",
       "      <td>3</td>\n",
       "      <td>2</td>\n",
       "      <td>1</td>\n",
       "      <td>4</td>\n",
       "      <td>socializing</td>\n",
       "    </tr>\n",
       "    <tr>\n",
       "      <th>4</th>\n",
       "      <td>4</td>\n",
       "      <td>4369102.0</td>\n",
       "      <td>237176191</td>\n",
       "      <td>Kanata</td>\n",
       "      <td>1.489847e+12</td>\n",
       "      <td>[(Spirit Guides, spirit-guides), (Self Explora...</td>\n",
       "      <td>[spirit-guides, self-exploration, transformati...</td>\n",
       "      <td>2017-03-18 14:30:00</td>\n",
       "      <td>2017-03-18</td>\n",
       "      <td>4</td>\n",
       "      <td>3</td>\n",
       "      <td>3</td>\n",
       "      <td>2</td>\n",
       "      <td>4</td>\n",
       "      <td>career/business</td>\n",
       "    </tr>\n",
       "  </tbody>\n",
       "</table>\n",
       "</div>"
      ],
      "text/plain": [
       "   index    group_id      event_id     group_city    event_time  \\\n",
       "0      0  18649748.0     238062438      San Diego  1.489512e+12   \n",
       "1      1  19527815.0  vvdsxlywfbvb  Saint Charles  1.489705e+12   \n",
       "2      2  18788220.0     238052232         London  1.489171e+12   \n",
       "3      3  20379974.0  fjqmbmywgbjb      Vancouver  1.491530e+12   \n",
       "4      4   4369102.0     237176191         Kanata  1.489847e+12   \n",
       "\n",
       "                                               topic  \\\n",
       "0  [(Entrepreneurship, entrepreneurship), (Entrep...   \n",
       "1  [(Robotics, robotics), (Electronics, electroni...   \n",
       "2  [(Hiking, hiking), (Singles Who Love to Travel...   \n",
       "3  [(Wine, wine), (Dining Out, diningout), (Night...   \n",
       "4  [(Spirit Guides, spirit-guides), (Self Explora...   \n",
       "\n",
       "                                              urlkey            datetime  \\\n",
       "0  [entrepreneurship, business-entrepreneur-netwo... 2017-03-14 17:15:00   \n",
       "1  [robotics, electronics, newtech, microcontroll... 2017-03-16 23:00:00   \n",
       "2  [hiking, singles-who-love-to-travel-travel, bu... 2017-03-10 18:30:00   \n",
       "3  [wine, diningout, nightlife, socialnetwork, ho... 2017-04-07 02:00:00   \n",
       "4  [spirit-guides, self-exploration, transformati... 2017-03-18 14:30:00   \n",
       "\n",
       "         date  career/business  outdoors/adventure  language/ethnic identity  \\\n",
       "0  2017-03-14                4                   1                         2   \n",
       "1  2017-03-16                2                   0                         0   \n",
       "2  2017-03-10                3                   6                         5   \n",
       "3  2017-04-07                3                   3                         2   \n",
       "4  2017-03-18                4                   3                         3   \n",
       "\n",
       "   tech  socializing               label  \n",
       "0     2            3     career/business  \n",
       "1     5            0                tech  \n",
       "2     0            6  outdoors/adventure  \n",
       "3     1            4         socializing  \n",
       "4     2            4     career/business  "
      ]
     },
     "execution_count": 24,
     "metadata": {},
     "output_type": "execute_result"
    }
   ],
   "source": [
    "test.head(5)"
   ]
  },
  {
   "cell_type": "markdown",
   "metadata": {
    "deletable": true,
    "editable": true
   },
   "source": [
    "# Create TimeSeries "
   ]
  },
  {
   "cell_type": "code",
   "execution_count": 25,
   "metadata": {
    "collapsed": true,
    "deletable": true,
    "editable": true
   },
   "outputs": [],
   "source": [
    "def timeseries_topn_urlkey(df,column, n):\n",
    "    \"\"\"Input: DataFrame and N: number of urlkeys you want to plot\n",
    "    Output: DataFrame that have top n values for everyday \"\"\"\n",
    "    #get urlkey count\n",
    "    urlkey_count = df.groupby(column)['group_id'].count()\n",
    "    urlkey_count = pd.DataFrame(urlkey_count)\n",
    "    \n",
    "    # sort urlkey count in descending order\n",
    "    ordered_urlkey_count = urlkey_count.sort_values('group_id', ascending=False)\n",
    "#     pop_topics_list = ordered_urlkey_count.index.values[:10].tolist()\n",
    "    \n",
    "    # get the top N values\n",
    "    pop_urlkey_count = ordered_urlkey_count.index.values[:n].tolist()\n",
    "    \n",
    "    #create timeseries \n",
    "    new_topic_pd = df[[column,'date']]\n",
    "    topic_index = new_topic_pd[column].isin(pop_urlkey_count)\n",
    "    top_100_topic_pd = new_topic_pd[topic_index]\n",
    "    \n",
    "    #get urlkey count/day \n",
    "    crosstab_topic_date = pd.crosstab(top_100_topic_pd['date'],top_100_topic_pd[column])\n",
    "    return crosstab_topic_date"
   ]
  },
  {
   "cell_type": "markdown",
   "metadata": {
    "deletable": true,
    "editable": true
   },
   "source": [
    "# Top N Popular Topics"
   ]
  },
  {
   "cell_type": "code",
   "execution_count": 27,
   "metadata": {
    "collapsed": false,
    "deletable": true,
    "editable": true
   },
   "outputs": [],
   "source": [
    "top6topics = timeseries_topn_urlkey(test,'label',6)"
   ]
  },
  {
   "cell_type": "code",
   "execution_count": 28,
   "metadata": {
    "collapsed": false,
    "deletable": true,
    "editable": true
   },
   "outputs": [
    {
     "data": {
      "text/html": [
       "<iframe id=\"igraph\" scrolling=\"no\" style=\"border:none;\" seamless=\"seamless\" src=\"https://plot.ly/~chaudao19/63.embed\" height=\"525px\" width=\"100%\"></iframe>"
      ],
      "text/plain": [
       "<plotly.tools.PlotlyDisplay object>"
      ]
     },
     "execution_count": 28,
     "metadata": {},
     "output_type": "execute_result"
    }
   ],
   "source": [
    "py.iplot([{\n",
    "    'x': top6topics.index,\n",
    "    'y': top6topics[col],\n",
    "    'name': col\n",
    "}  for col in top6topics.columns])"
   ]
  },
  {
   "cell_type": "markdown",
   "metadata": {
    "collapsed": true,
    "deletable": true,
    "editable": true
   },
   "source": [
    "# Specific Topics to track"
   ]
  },
  {
   "cell_type": "code",
   "execution_count": null,
   "metadata": {
    "collapsed": true,
    "deletable": true,
    "editable": true
   },
   "outputs": [],
   "source": [
    "def timeseries_specific_topics(df,spec_topics):\n",
    "#     topic_count = df.groupby('topic')['group_id'].count()\n",
    "#     topic_count = pd.DataFrame(topic_count)\n",
    "#     ordered_topic_count = topic_count.sort_values('group_id', ascending=False)\n",
    "    new_topic_pd = df[['topic','date']]\n",
    "    topic_index = df['topic'].isin(spec_topics)\n",
    "    top_100_topic_pd = new_topic_pd[topic_index]\n",
    "    crosstab_topic_date = pd.crosstab(top_100_topic_pd['date'],top_100_topic_pd['topic'])\n",
    "    return crosstab_topic_date"
   ]
  },
  {
   "cell_type": "code",
   "execution_count": null,
   "metadata": {
    "collapsed": true,
    "deletable": true,
    "editable": true
   },
   "outputs": [],
   "source": [
    "datascience = ['Tech','Data Science','Web Development','Python', 'Data Analytics','Spark','JavaScript','Hadoop']\n",
    "datasciencetopics = timeseries_specific_topics(df,datascience)"
   ]
  },
  {
   "cell_type": "code",
   "execution_count": null,
   "metadata": {
    "collapsed": true,
    "deletable": true,
    "editable": true
   },
   "outputs": [],
   "source": [
    "py.iplot([{\n",
    "    'x': datasciencetopics.index,\n",
    "    'y': datasciencetopics[col],\n",
    "    'name': col\n",
    "}  for col in datasciencetopics.columns])"
   ]
  }
 ],
 "metadata": {
  "kernelspec": {
   "display_name": "Python 2",
   "language": "python",
   "name": "python2"
  },
  "language_info": {
   "codemirror_mode": {
    "name": "ipython",
    "version": 2
   },
   "file_extension": ".py",
   "mimetype": "text/x-python",
   "name": "python",
   "nbconvert_exporter": "python",
   "pygments_lexer": "ipython2",
   "version": "2.7.12"
  }
 },
 "nbformat": 4,
 "nbformat_minor": 2
}
