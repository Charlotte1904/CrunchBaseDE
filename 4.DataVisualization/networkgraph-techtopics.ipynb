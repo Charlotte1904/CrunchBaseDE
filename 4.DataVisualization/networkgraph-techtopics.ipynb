{
 "cells": [
  {
   "cell_type": "code",
   "execution_count": 40,
   "metadata": {
    "collapsed": true
   },
   "outputs": [],
   "source": [
    "reset -fs"
   ]
  },
  {
   "cell_type": "code",
   "execution_count": 1,
   "metadata": {
    "collapsed": false,
    "scrolled": false
   },
   "outputs": [
    {
     "name": "stdout",
     "output_type": "stream",
     "text": [
      "Populating the interactive namespace from numpy and matplotlib\n"
     ]
    }
   ],
   "source": [
    "%pylab inline\n",
    "import networkx as nx\n",
    "import plotly.plotly as py\n",
    "import plotly.graph_objs as go\n",
    "import plotly\n",
    "plotly.tools.set_credentials_file(username='chaudao19', api_key='2eWbR48pGPcS4zVN0Ms2')\n",
    "import plotly.plotly as py\n",
    "from plotly.graph_objs import *\n",
    "import pandas as pd\n",
    "import numpy as np\n",
    "import itertools\n",
    "import pickle"
   ]
  },
  {
   "cell_type": "code",
   "execution_count": 2,
   "metadata": {
    "collapsed": false
   },
   "outputs": [],
   "source": [
    "df = pd.read_csv(\"techtopics.csv\")\n",
    "df.columns = [\"index\",\"topics\"]\n",
    "# filter_words = [u'honda-gold-wing-riders',u'museums-galleries',u'thinkorswim',u'simple-homes',u'outdoors',u'midi-production',u'audio',u'mindfulness-meditation',u'art-museums',u'tao',u'parents',u'human-sexuality',u'intimacy',u'oculus-rift',\"u'learn-how-to-sew'\",\"u'spiritual-awakening'\",\"u'book-swap'\",\"u'drums'\",\"u'board-games'\",\"u'baking'\",\"u'organic-foods'\",\"u'real-estate-investment-education'\",\"u'book-writing'\",\"u'soccer'\", \"u'soccer'\", \"u'plays'\", \"u'worldreligions'\", \"u'humanrights'\", \"u'freethinker'\", \"u'running'\", \"u'worldreligions'\", \"u'romance-novels'\", \"u'conversazione-in-italiano'\", \"u'interfaith-and-intercultural-dialogue'\", \"u'food-waste'\", \"u'heathenry-or-heathenism-or-heathens'\", \"u'owasp'\", \"u'pagan-fellowship'\", \"u'housing'\", \"u'music'\", \"u'cooking'\", \"u'bible'\", \"u'health-and-alternative-health'\", \"u'whitewolf'\", \"u'whitewolf'\", \"u'm2m'\", \"u'nps'\", \"u'alpine-climbing'\", \"u'alpine-climbing'\", \"u'scrum'\", \"u'weightloss'\", \"u'social'\", \"u'fitness'\", \"u'fun-times'\", \"u'music-appreciation'\"]"
   ]
  },
  {
   "cell_type": "code",
   "execution_count": 3,
   "metadata": {
    "collapsed": false
   },
   "outputs": [
    {
     "data": {
      "text/html": [
       "<div>\n",
       "<table border=\"1\" class=\"dataframe\">\n",
       "  <thead>\n",
       "    <tr style=\"text-align: right;\">\n",
       "      <th></th>\n",
       "      <th>index</th>\n",
       "      <th>topics</th>\n",
       "    </tr>\n",
       "  </thead>\n",
       "  <tbody>\n",
       "    <tr>\n",
       "      <th>0</th>\n",
       "      <td>0</td>\n",
       "      <td>[u'Web Standards', u'PHP', u'Open Source', u'W...</td>\n",
       "    </tr>\n",
       "    <tr>\n",
       "      <th>1</th>\n",
       "      <td>1</td>\n",
       "      <td>[u'Social Software', u'New Technology', u'Web ...</td>\n",
       "    </tr>\n",
       "    <tr>\n",
       "      <th>2</th>\n",
       "      <td>2</td>\n",
       "      <td>[u'PHP', u'Open Source', u'Web Design', u'MySQ...</td>\n",
       "    </tr>\n",
       "    <tr>\n",
       "      <th>3</th>\n",
       "      <td>3</td>\n",
       "      <td>[u'MySQL']</td>\n",
       "    </tr>\n",
       "    <tr>\n",
       "      <th>4</th>\n",
       "      <td>4</td>\n",
       "      <td>[u'Enterprise Architecture', u'JavaScript', u'...</td>\n",
       "    </tr>\n",
       "  </tbody>\n",
       "</table>\n",
       "</div>"
      ],
      "text/plain": [
       "   index                                             topics\n",
       "0      0  [u'Web Standards', u'PHP', u'Open Source', u'W...\n",
       "1      1  [u'Social Software', u'New Technology', u'Web ...\n",
       "2      2  [u'PHP', u'Open Source', u'Web Design', u'MySQ...\n",
       "3      3                                         [u'MySQL']\n",
       "4      4  [u'Enterprise Architecture', u'JavaScript', u'..."
      ]
     },
     "execution_count": 3,
     "metadata": {},
     "output_type": "execute_result"
    }
   ],
   "source": [
    "df.head()"
   ]
  },
  {
   "cell_type": "code",
   "execution_count": 4,
   "metadata": {
    "collapsed": false
   },
   "outputs": [
    {
     "data": {
      "text/plain": [
       "str"
      ]
     },
     "execution_count": 4,
     "metadata": {},
     "output_type": "execute_result"
    }
   ],
   "source": [
    "type(df['topics'][0])"
   ]
  },
  {
   "cell_type": "code",
   "execution_count": 5,
   "metadata": {
    "collapsed": true
   },
   "outputs": [],
   "source": [
    "def clean_df(df):\n",
    "    indice = df['topics'].apply(lambda x: type(x) == str)\n",
    "    df = df[indice]\n",
    "    df['topics'] = df['topics'].apply(lambda x: x[1:-1].split(','))\n",
    "    df['topics'] = df['topics'].apply(lambda x: [word.strip(\" \").lower() for word in x])\n",
    "#     df['TF'] = df['key'].apply(lambda x: [True if word in filter_words else False for word in x])\n",
    "#     indices = df['TF'].apply(lambda x: True not in x)\n",
    "#     df = df[indices]\n",
    "    df = df.reset_index()\n",
    "    df = pd.DataFrame(df['topics'])\n",
    "    return df"
   ]
  },
  {
   "cell_type": "code",
   "execution_count": 6,
   "metadata": {
    "collapsed": false,
    "scrolled": false
   },
   "outputs": [],
   "source": [
    "df = clean_df(df);"
   ]
  },
  {
   "cell_type": "code",
   "execution_count": 7,
   "metadata": {
    "collapsed": false,
    "scrolled": false
   },
   "outputs": [
    {
     "data": {
      "text/html": [
       "<div>\n",
       "<table border=\"1\" class=\"dataframe\">\n",
       "  <thead>\n",
       "    <tr style=\"text-align: right;\">\n",
       "      <th></th>\n",
       "      <th>topics</th>\n",
       "    </tr>\n",
       "  </thead>\n",
       "  <tbody>\n",
       "    <tr>\n",
       "      <th>0</th>\n",
       "      <td>[u'web standards', u'php', u'open source', u'w...</td>\n",
       "    </tr>\n",
       "    <tr>\n",
       "      <th>1</th>\n",
       "      <td>[u'social software', u'new technology', u'web ...</td>\n",
       "    </tr>\n",
       "    <tr>\n",
       "      <th>2</th>\n",
       "      <td>[u'php', u'open source', u'web design', u'mysq...</td>\n",
       "    </tr>\n",
       "    <tr>\n",
       "      <th>3</th>\n",
       "      <td>[u'mysql']</td>\n",
       "    </tr>\n",
       "    <tr>\n",
       "      <th>4</th>\n",
       "      <td>[u'enterprise architecture', u'javascript', u'...</td>\n",
       "    </tr>\n",
       "  </tbody>\n",
       "</table>\n",
       "</div>"
      ],
      "text/plain": [
       "                                              topics\n",
       "0  [u'web standards', u'php', u'open source', u'w...\n",
       "1  [u'social software', u'new technology', u'web ...\n",
       "2  [u'php', u'open source', u'web design', u'mysq...\n",
       "3                                         [u'mysql']\n",
       "4  [u'enterprise architecture', u'javascript', u'..."
      ]
     },
     "execution_count": 7,
     "metadata": {},
     "output_type": "execute_result"
    }
   ],
   "source": [
    "df.head(5)"
   ]
  },
  {
   "cell_type": "code",
   "execution_count": 8,
   "metadata": {
    "collapsed": true
   },
   "outputs": [],
   "source": [
    "def key_list(df):\n",
    "    urlkey_unique = df['topics'].tolist()\n",
    "    merged_list = list(itertools.chain(*urlkey_unique))\n",
    "    return merged_list\n",
    "def gettuples(df,column):\n",
    "    urlkey_unique = df[column].tolist()\n",
    "    merged_list = list(itertools.chain(*urlkey_unique))\n",
    "    return merged_list"
   ]
  },
  {
   "cell_type": "code",
   "execution_count": 9,
   "metadata": {
    "collapsed": true
   },
   "outputs": [],
   "source": [
    "df['edges'] = df['topics'].apply(lambda x: [(a,b) for a in x for b in x if a != b])"
   ]
  },
  {
   "cell_type": "code",
   "execution_count": 10,
   "metadata": {
    "collapsed": false,
    "scrolled": true
   },
   "outputs": [],
   "source": [
    "# df.head(5)"
   ]
  },
  {
   "cell_type": "code",
   "execution_count": 11,
   "metadata": {
    "collapsed": false
   },
   "outputs": [],
   "source": [
    "G= nx.Graph()\n",
    "nodes = list(set(key_list(df)))\n",
    "G.add_nodes_from(nodes)\n",
    "edges = gettuples(df,\"edges\")\n",
    "# edges = [(a,b) for a in techtopics for b in techtopics if a != b]\n",
    "G.add_edges_from(edges)"
   ]
  },
  {
   "cell_type": "code",
   "execution_count": 12,
   "metadata": {
    "collapsed": false,
    "scrolled": false
   },
   "outputs": [],
   "source": [
    "# plt.figure(figsize=(40,30))\n",
    "# nx.draw(G,node_color='c',edge_color='k', with_labels=True);"
   ]
  },
  {
   "cell_type": "code",
   "execution_count": 13,
   "metadata": {
    "collapsed": true
   },
   "outputs": [],
   "source": [
    "pos= nx.spring_layout(G)\n",
    "G.node = pos"
   ]
  },
  {
   "cell_type": "code",
   "execution_count": 14,
   "metadata": {
    "collapsed": false
   },
   "outputs": [],
   "source": [
    "dmin=1\n",
    "ncenter=0\n",
    "for n in pos:\n",
    "    x,y=pos[n]\n",
    "    d=(x-0.5)**2+(y-0.5)**2\n",
    "    if d<dmin:\n",
    "        ncenter=n\n",
    "        dmin=d\n",
    "        \n",
    "p=nx.single_source_shortest_path_length(G,ncenter)"
   ]
  },
  {
   "cell_type": "code",
   "execution_count": 15,
   "metadata": {
    "collapsed": false
   },
   "outputs": [],
   "source": [
    "edge_trace = Scatter(\n",
    "    x=[], \n",
    "    y=[], \n",
    "    line=Line(width=0.5,color='#888'),\n",
    "    hoverinfo='none',\n",
    "    mode='lines')\n",
    "for edge in G.edges():\n",
    "    x0, y0 = G.node[edge[0]]\n",
    "    x1, y1 = G.node[edge[1]]\n",
    "    edge_trace['x'] += [x0, x1, None]\n",
    "    edge_trace['y'] += [y0, y1, None]\n"
   ]
  },
  {
   "cell_type": "code",
   "execution_count": 16,
   "metadata": {
    "collapsed": false
   },
   "outputs": [],
   "source": [
    "node_trace = Scatter(\n",
    "    x=[], \n",
    "    y=[], \n",
    "    text=[],\n",
    "    mode='markers', \n",
    "    hoverinfo='text',\n",
    "    marker=Marker(\n",
    "        showscale=True,\n",
    "        # colorscale options\n",
    "        # 'Greys' | 'Greens' | 'Bluered' | 'Hot' | 'Picnic' | 'Portland' |\n",
    "        # Jet' | 'RdBu' | 'Blackbody' | 'Earth' | 'Electric' | 'YIOrRd' | 'YIGnBu'\n",
    "        colorscale='YIGnBu',\n",
    "        reversescale=True,\n",
    "        color=[], \n",
    "        size=10,         \n",
    "        colorbar=dict(\n",
    "            thickness=15,\n",
    "            title='Node Connections',\n",
    "            xanchor='left',\n",
    "            titleside='right'\n",
    "        ),\n",
    "        line=dict(width=2)))\n",
    "\n",
    "for node in G.nodes():\n",
    "    x, y = G.node[node]\n",
    "    node_trace['x'].append(x)\n",
    "    node_trace['y'].append(y)\n",
    "    node_trace['text'].append(node)"
   ]
  },
  {
   "cell_type": "code",
   "execution_count": 17,
   "metadata": {
    "collapsed": true
   },
   "outputs": [],
   "source": [
    "for node, adjacencies in enumerate(G.adjacency_list()):\n",
    "    node_trace['marker']['color'].append(len(adjacencies))\n",
    "    node_info = '# of connections: '+str(len(adjacencies))\n",
    "    node_trace['text'].append(node_info)\n",
    "    "
   ]
  },
  {
   "cell_type": "code",
   "execution_count": 18,
   "metadata": {
    "collapsed": false,
    "scrolled": false
   },
   "outputs": [
    {
     "data": {
      "text/html": [
       "<iframe id=\"igraph\" scrolling=\"no\" style=\"border:none;\" seamless=\"seamless\" src=\"https://plot.ly/~chaudao19/15.embed\" height=\"650px\" width=\"800px\"></iframe>"
      ],
      "text/plain": [
       "<plotly.tools.PlotlyDisplay object>"
      ]
     },
     "execution_count": 18,
     "metadata": {},
     "output_type": "execute_result"
    }
   ],
   "source": [
    "fig = Figure(data=Data([edge_trace, node_trace]),\n",
    "             layout=Layout(\n",
    "                title='<br>Network Graph of Tech Topics ',\n",
    "                titlefont=dict(size=20),\n",
    "                showlegend=True, \n",
    "                width=800,\n",
    "                height=650,\n",
    "                hovermode='closest',\n",
    "                margin=dict(b=20,l=5,r=1,t=40),\n",
    "                annotations=[ dict(\n",
    "                    text=\"Meetup\",\n",
    "                    showarrow=False,\n",
    "                    xref=\"paper\", yref=\"paper\",\n",
    "                    x=0.005, y=-0.002 ) ],\n",
    "                xaxis=XAxis(showgrid=False, zeroline=False, showticklabels=True),\n",
    "                yaxis=YAxis(showgrid=False, zeroline=False, showticklabels=True)))\n",
    "\n",
    "py.iplot(fig, filename='networkx')"
   ]
  },
  {
   "cell_type": "code",
   "execution_count": null,
   "metadata": {
    "collapsed": true
   },
   "outputs": [],
   "source": []
  },
  {
   "cell_type": "code",
   "execution_count": null,
   "metadata": {
    "collapsed": true
   },
   "outputs": [],
   "source": []
  },
  {
   "cell_type": "code",
   "execution_count": null,
   "metadata": {
    "collapsed": true
   },
   "outputs": [],
   "source": []
  }
 ],
 "metadata": {
  "kernelspec": {
   "display_name": "Python [dsci6007]",
   "language": "python",
   "name": "Python [dsci6007]"
  },
  "language_info": {
   "codemirror_mode": {
    "name": "ipython",
    "version": 2
   },
   "file_extension": ".py",
   "mimetype": "text/x-python",
   "name": "python",
   "nbconvert_exporter": "python",
   "pygments_lexer": "ipython2",
   "version": "2.7.13"
  }
 },
 "nbformat": 4,
 "nbformat_minor": 0
}
