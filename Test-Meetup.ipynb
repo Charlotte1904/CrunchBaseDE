{
 "cells": [
  {
   "cell_type": "code",
   "execution_count": 1,
   "metadata": {
    "collapsed": false
   },
   "outputs": [],
   "source": [
    "import urllib\n",
    "import json\n",
    "import pandas as pd\n",
    "# import matplotlib.pyplot as plt\n",
    "from geopy.geocoders import Nominatim\n",
    "geolocator = Nominatim() #create object\n",
    "\n"
   ]
  },
  {
   "cell_type": "code",
   "execution_count": null,
   "metadata": {
    "collapsed": true
   },
   "outputs": [],
   "source": [
    "places = [ \"san fransisco\", \"california\", \"boston \", \"new york\" , \"pennsylvania\", \"colorado\", \"seattle\", \"washington\",\"los angeles\", \"san diego\", \"houston\", \"austin\", \"kansas\", \"delhi\", \"chennai\", \"bangalore\", \"mumbai\" , \"Sydney\",\"Melbourne\", \"Perth\", \"Adelaide\", \"Brisbane\", \"Launceston\", \"Newcastle\" , \"beijing\", \"shanghai\", \"Suzhou\", \"Shenzhen\",\"Guangzhou\",\"Dongguan\", \"Taipei\", \"Chengdu\", \"Hong Kong\"]\n",
    "# login on meetup.com. if you dont have an account, then please signup\n",
    "# https://secure.meetup.com/meetup_api/console/?path=/2/groups\n",
    "# In the topics like \"Python\", enter topic of your choice. and click on show response\n",
    "# copy the signed key. in the singed key, copy the sig_id and sig and initialise variables sig_id and sig\n",
    "# sample signed key : \"https://api.meetup.com/2/groups?offset=0&format=json&topic=python&photo-host=public&page=20&radius=25.0&fields=&order=id&desc=false&sig_id=******&sig=*****************\"\n",
    "urls = [] #url lists\n",
    "radius = 50.0 #add the radius in miles\n"
   ]
  },
  {
   "cell_type": "code",
   "execution_count": null,
   "metadata": {
    "collapsed": true
   },
   "outputs": [],
   "source": [
    "data_format = \"json\" #you can add another format like XML\n",
    "topic = \"Python\" #add your choice of topic here\n",
    "sig_id = \"gc7qj11gus5cbkmd470o4s1sac\" # initialise with your sign id, check sample signed key\n",
    "sig = \"ih9r6mjk60d51rlukgs2s42adj\" # initialise with your sign, check sample signed key\n"
   ]
  },
  {
   "cell_type": "code",
   "execution_count": null,
   "metadata": {
    "collapsed": true
   },
   "outputs": [],
   "source": [
    "for place in places: \n",
    "    location = geolocator.geocode(place)\n",
    "    urls.append(\"https://api.meetup.com/2/groups?offset=0&format=\" + data_format + \"&lon=\" + str(location.longitude) + \"&topic=\" + topic + \"&photo-host=public&page=500&radius=\" + str(radius)+\"&fields=&lat=\" + str(location.latitude) + \"&order=id&desc=false&sig_id=\" +sig_id + \"&sig=\" + sig)\n",
    "    city,country,rating,name,members = [],[],[],[],[]\n",
    "for url in urls:\n",
    "    response = urllib.urlopen(url)\n",
    "    data = json.loads(response.read())\n",
    "    data=data[\"results\"]\n",
    "for i in data :\n",
    "    city.append(i['city'])\n",
    "    country.append(i['country'])\n",
    "    rating.append(i['rating'])\n",
    "    name.append(i['name'])\n",
    "    members.append(i['members']) \n"
   ]
  },
  {
   "cell_type": "code",
   "execution_count": null,
   "metadata": {
    "collapsed": true
   },
   "outputs": [],
   "source": []
  },
  {
   "cell_type": "code",
   "execution_count": null,
   "metadata": {
    "collapsed": true
   },
   "outputs": [],
   "source": []
  },
  {
   "cell_type": "code",
   "execution_count": null,
   "metadata": {
    "collapsed": true
   },
   "outputs": [],
   "source": []
  },
  {
   "cell_type": "code",
   "execution_count": null,
   "metadata": {
    "collapsed": true
   },
   "outputs": [],
   "source": []
  },
  {
   "cell_type": "code",
   "execution_count": null,
   "metadata": {
    "collapsed": true
   },
   "outputs": [],
   "source": []
  }
 ],
 "metadata": {
  "anaconda-cloud": {},
  "kernelspec": {
   "display_name": "Python [dsci6007]",
   "language": "python",
   "name": "Python [dsci6007]"
  },
  "language_info": {
   "codemirror_mode": {
    "name": "ipython",
    "version": 2
   },
   "file_extension": ".py",
   "mimetype": "text/x-python",
   "name": "python",
   "nbconvert_exporter": "python",
   "pygments_lexer": "ipython2",
   "version": "2.7.13"
  }
 },
 "nbformat": 4,
 "nbformat_minor": 0
}
