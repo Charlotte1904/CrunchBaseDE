{
 "cells": [
  {
   "cell_type": "code",
   "execution_count": 1,
   "metadata": {
    "collapsed": false
   },
   "outputs": [],
   "source": [
    "import pprint\n",
    "import pandas as pd\n",
    "import urllib\n",
    "import requests\n",
    "import json\n",
    "import time\n",
    "import codecs\n",
    "import sys\n",
    "# import ssl\n",
    "# import boto\n",
    "# from boto.s3.connection import S3Connection\n",
    "# # reload(sys)\n",
    "# sys.setdefaultencoding('utf-8')\n",
    "# sys.stdout = stdout"
   ]
  },
  {
   "cell_type": "code",
   "execution_count": 53,
   "metadata": {
    "collapsed": false
   },
   "outputs": [],
   "source": [
    "# def get_results(params):\n",
    "    \n",
    "#     request = requests.get(\"http://api.meetup.com/2/groups\",params=params)\n",
    "#     data = request.json()\n",
    "#     return data\n",
    "\n",
    "# def main(df):\n",
    "#     api_key= \"53747843757c2c115136274431417e9\"\n",
    "#     group_id = []\n",
    "#     group_description = []\n",
    "#     topics = []\n",
    "#     for (city, state) in cities:\n",
    "#         per_page = 200\n",
    "#         results_we_got = per_page\n",
    "#         offset = 0\n",
    "#         while (results_we_got == per_page):\n",
    "\n",
    "#     for group in groups:\n",
    "#         response=get_results({\"sign\":\"true\",\"country\":\"US\", \"city\":\"San Francisco\", \\\n",
    "#                               \"group_id\": group, \"state\":\"CA\", \"radius\": 10, \"key\":api_key})\n",
    "#         offset += 1\n",
    "#         results_we_got = response['meta']['count']\n",
    "#         pprint.pprint(response)\n",
    "# #         if response.get('results'):\n",
    "# #             result = response['results']\n",
    "\n",
    "# #         for element in response['results']:\n",
    "\n",
    "# #             group_id.append(element['id'])\n",
    "# #             group_description.append(element['description'])\n",
    "# #             list_of_topics = [i['name'] for i in element['topics']]\n",
    "# #             topics.append(list_of_topics)\n",
    "#         group_metadata = pd.DataFrame([group_id,group_description,topics]).T\n",
    "#         group_metadata.columns = ['group_id','group_description','topics']\n",
    "#         group_data = group_metadata.to_csv(None, header = None )\n",
    "#     return response\n",
    "\n",
    "\n",
    "\n",
    "\n",
    "# if __name__==\"__main__\":\n",
    "#     df = pd.read_csv('sf_csv.csv')\n",
    "#     a = main(df)\n",
    "\n",
    "        "
   ]
  },
  {
   "cell_type": "code",
   "execution_count": 54,
   "metadata": {
    "collapsed": false
   },
   "outputs": [
    {
     "data": {
      "text/plain": [
       "{u'code': u'blocked',\n",
       " u'details': u'Credentials have be throttled more than the allowed times in one hour',\n",
       " u'problem': u'Client throttled'}"
      ]
     },
     "execution_count": 54,
     "metadata": {},
     "output_type": "execute_result"
    }
   ],
   "source": [
    "a"
   ]
  },
  {
   "cell_type": "code",
   "execution_count": 44,
   "metadata": {
    "collapsed": false
   },
   "outputs": [],
   "source": [
    "# print(group_data_csv[:50])"
   ]
  },
  {
   "cell_type": "code",
   "execution_count": 37,
   "metadata": {
    "collapsed": false
   },
   "outputs": [
    {
     "data": {
      "text/html": [
       "<div>\n",
       "<table border=\"1\" class=\"dataframe\">\n",
       "  <thead>\n",
       "    <tr style=\"text-align: right;\">\n",
       "      <th></th>\n",
       "      <th>group_id</th>\n",
       "      <th>group_description</th>\n",
       "      <th>topics</th>\n",
       "    </tr>\n",
       "  </thead>\n",
       "  <tbody>\n",
       "  </tbody>\n",
       "</table>\n",
       "</div>"
      ],
      "text/plain": [
       "Empty DataFrame\n",
       "Columns: [group_id, group_description, topics]\n",
       "Index: []"
      ]
     },
     "execution_count": 37,
     "metadata": {},
     "output_type": "execute_result"
    }
   ],
   "source": [
    "(group_data_csv.head(5))"
   ]
  },
  {
   "cell_type": "code",
   "execution_count": 65,
   "metadata": {
    "collapsed": false,
    "scrolled": false
   },
   "outputs": [],
   "source": [
    "def main():\n",
    "    cities =[(\"San Francisco\",\"CA\"),(\"New Haven\",\"CT\"),(\"Chicago\",\"IL\"),(\"New York\",\"NY\"),(\"Seattle\",\"WA\")]\n",
    "    api_key= \"53747843757c2c115136274431417e9\"\n",
    "    dump =[]\n",
    "    city_response = []\n",
    "    for (city, state) in cities:\n",
    "        per_page = 5\n",
    "        offset = 0\n",
    "        results_we_got = per_page\n",
    "        response=get_results({\"sign\":\"true\",\"country\":\"US\", \"city\":city, \"state\":state, \"radius\": 10, \\\n",
    "                              \"key\":api_key, \"page\":per_page, \"offset\":offset })\n",
    "        city_response.append(response)\n",
    "        offset += 1\n",
    "#             dump.append(response)\n",
    "        results_we_got = response['meta']['count']\n",
    "        return (response['results'])\n",
    "\n",
    "\n",
    "        \n",
    "\n",
    "def get_results(params):\n",
    "\n",
    "    request = requests.get(\"http://api.meetup.com/2/groups\",params=params)\n",
    "    data = request.json()\n",
    "\n",
    "    return data\n",
    "\n",
    "\n",
    "if __name__==\"__main__\":\n",
    "        response = main()\n"
   ]
  },
  {
   "cell_type": "code",
   "execution_count": 66,
   "metadata": {
    "collapsed": false
   },
   "outputs": [],
   "source": [
    "response = json.loads(json.dumps(response))"
   ]
  },
  {
   "cell_type": "code",
   "execution_count": 68,
   "metadata": {
    "collapsed": false,
    "scrolled": true
   },
   "outputs": [
    {
     "name": "stdout",
     "output_type": "stream",
     "text": [
      "{u'rating': 4.34, u'topics': [{u'name': u'PHP', u'urlkey': u'php', u'id': 455}, {u'name': u'Software Development', u'urlkey': u'softwaredev', u'id': 3833}, {u'name': u'LAMP', u'urlkey': u'lampsoftware', u'id': 10164}, {u'name': u'Web Technology', u'urlkey': u'web', u'id': 10209}, {u'name': u'Technology', u'urlkey': u'technology', u'id': 10579}, {u'name': u'Web Development', u'urlkey': u'web-development', u'id': 15582}, {u'name': u'Computer programming', u'urlkey': u'computer-programming', u'id': 48471}], u'timezone': u'US/Pacific', u'organizer': {u'photo': {u'thumb_link': u'http://photos1.meetupstatic.com/photos/member/4/e/3/6/thumb_200300022.jpeg', u'photo_id': 200300022, u'highres_link': u'http://photos1.meetupstatic.com/photos/member/4/e/3/6/highres_200300022.jpeg', u'base_url': u'http://photos1.meetupstatic.com', u'type': u'member', u'photo_link': u'http://photos1.meetupstatic.com/photos/member/4/e/3/6/member_200300022.jpeg'}, u'name': u'John Scott', u'member_id': 126468982}, u'id': 120903, u'category': {u'shortname': u'tech', u'name': u'tech', u'id': 34}, u'city': u'San Francisco', u'lon': -122.4000015258789, u'state': u'CA', u'utc_offset': -28800000, u'description': u'<p>The SF PHP Community Meetup is an open forum where PHP developers of all skill levels can come to communicate, learn, network, or just have a good time. We meet on a monthly basis and generally have speaker from the major web site companies in the bay area. Lively discussions or Q&amp;A for hours afterwards.</p>\\n<p>Our focus is in the PHP world but our topics encompass the entire LAMP stack. Topics include PHP coding, to memcached handling, db optimizations, server stack, web server tuning, code deploying, hosting options and much much more.</p>\\n<p>We are actively seeking speakers for upcoming monthly meetups. Please contact us through Meetup, Twitter or directly through <a href=\"http://goo.gl/xTZbeu\">Google Forms http://goo.gl/xTZbeu</a> <br></p>\\n<p>The purpose of SF PHP Community is to present public events that are beneficial to the PHP community and to help nurture the growth of the community through education, networking, mentoring, and friendship. SF PHP meetups are a \\'safe space\\' or to put it another way a \\'flame free\\' zone. In order to grow the community in a responsible way we actively encourage diversity and respect. </p>\\n<p> <br>Although we are just one meetup group in one city we have the opportunity to present a positive and energetic vision of what can be built with PHP now, and where PHP is going. By educating in current techniques and practices, we also inspire people to create new solutions. By bringing developers together in person, we make it easier for new connections to be made. All of this in turn brings renewed energy and people to the language, our projects, and frameworks.</p>\\n<br>', u'join_mode': u'open', u'who': u'PHP Developers', u'visibility': u'public', u'group_photo': {u'thumb_link': u'http://photos1.meetupstatic.com/photos/event/e/8/5/6/thumb_432119478.jpeg', u'photo_id': 432119478, u'highres_link': u'http://photos1.meetupstatic.com/photos/event/e/8/5/6/highres_432119478.jpeg', u'base_url': u'http://photos1.meetupstatic.com', u'type': u'event', u'photo_link': u'http://photos1.meetupstatic.com/photos/event/e/8/5/6/600_432119478.jpeg'}, u'link': u'https://www.meetup.com/sf-php/', u'members': 2591, u'lat': 37.77000045776367, u'urlname': u'sf-php', u'name': u'SF PHP Community', u'created': 1034097740000, u'country': u'US'}\n",
      "{u'rating': 4.41, u'topics': [{u'name': u'Game Development', u'urlkey': u'gamedev', u'id': 496}, {u'name': u'Digital Art', u'urlkey': u'digitalart', u'id': 594}, {u'name': u'Game Programming', u'urlkey': u'gameprog', u'id': 3287}, {u'name': u'Video Games', u'urlkey': u'videogame', u'id': 4471}, {u'name': u'Game Design', u'urlkey': u'game-design', u'id': 19225}, {u'name': u'3D Modeling', u'urlkey': u'3d-modeling', u'id': 21429}, {u'name': u'Startup Businesses', u'urlkey': u'startup-businesses', u'id': 21681}, {u'name': u'Character Design', u'urlkey': u'character-design', u'id': 24399}, {u'name': u'Game Art', u'urlkey': u'game-art', u'id': 41897}, {u'name': u'Special FX', u'urlkey': u'special-fx', u'id': 78274}, {u'name': u'Game Production', u'urlkey': u'game-production', u'id': 96039}, {u'name': u'Character Rigging', u'urlkey': u'character-rigging', u'id': 96040}, {u'name': u'Environment Art', u'urlkey': u'environment-art', u'id': 96041}, {u'name': u'Character Modeling', u'urlkey': u'character-modeling', u'id': 96042}], u'timezone': u'US/Pacific', u'organizer': {u'photo': {u'thumb_link': u'http://photos1.meetupstatic.com/photos/member/2/0/6/4/thumb_207788292.jpeg', u'photo_id': 207788292, u'highres_link': u'http://photos1.meetupstatic.com/photos/member/2/0/6/4/highres_207788292.jpeg', u'base_url': u'http://photos1.meetupstatic.com', u'type': u'member', u'photo_link': u'http://photos1.meetupstatic.com/photos/member/2/0/6/4/member_207788292.jpeg'}, u'name': u'Casey Holtz', u'member_id': 569876}, u'id': 65802, u'category': {u'shortname': u'career-business', u'name': u'career/business', u'id': 2}, u'city': u'San Francisco', u'lon': -122.41999816894531, u'state': u'CA', u'utc_offset': -28800000, u'description': u\"<p>This is a group for anyone currently working or interested in Game Development. We primarily discuss current games and technology, market trends and issues facing the industry. Its a great causal place to network and pick up or share some interesting tips. Feel free to make suggestions! This group is for people in game development and for those who want to be. Join us if you're an artist, programmer, designer, marketing guru, any connection to game development at any level.</p>\", u'join_mode': u'approval', u'who': u'Video Game Developers', u'visibility': u'public', u'group_photo': {u'thumb_link': u'http://photos4.meetupstatic.com/photos/event/2/4/0/7/thumb_446949223.jpeg', u'photo_id': 446949223, u'highres_link': u'http://photos2.meetupstatic.com/photos/event/2/4/0/7/highres_446949223.jpeg', u'base_url': u'http://photos4.meetupstatic.com', u'type': u'event', u'photo_link': u'http://photos4.meetupstatic.com/photos/event/2/4/0/7/600_446949223.jpeg'}, u'link': u'https://www.meetup.com/sfgamedevelopers/', u'members': 3896, u'lat': 37.779998779296875, u'urlname': u'sfgamedevelopers', u'name': u'San Franciso Game Development Meetup Group', u'created': 1034097741000, u'country': u'US'}\n",
      "{u'rating': 4.48, u'topics': [{u'name': u'Spanish Language', u'urlkey': u'spanish', u'id': 183}], u'timezone': u'US/Pacific', u'organizer': {u'photo': {u'thumb_link': u'http://photos4.meetupstatic.com/photos/member/8/8/c/b/thumb_9815019.jpeg', u'photo_id': 9815019, u'highres_link': u'http://photos4.meetupstatic.com/photos/member/8/8/c/b/highres_9815019.jpeg', u'base_url': u'http://photos4.meetupstatic.com', u'type': u'member', u'photo_link': u'http://photos4.meetupstatic.com/photos/member/8/8/c/b/member_9815019.jpeg'}, u'name': u'Rachel', u'member_id': 810537}, u'id': 145990, u'category': {u'shortname': u'language', u'name': u'language/ethnic identity', u'id': 16}, u'city': u'San Francisco', u'lon': -122.41999816894531, u'state': u'CA', u'utc_offset': -28800000, u'description': u'<p>Hola! <br> We are a group of Spanish speakers, from native speakers to mid-beginners alike, who get together to chat en espa\\xf1ol. We are a member-driven group with everyone pitching in to organize, greet new members and socialize. Here are some monthly events you can expect:</p>\\n<p><b>Mid-Week MEGA MEETUP</b>: Every third Wednesday of the month you can expect a regular meetup at Crystal Jade (unless otherwise stated in the event calendar) in downtown SF. This meetup is larger and may have a waiting list at times. These meetups are lively with lots of people meeting and chatting in Spanish while sipping drinks and having some appetizers.<br></p>\\n<p><b>LA HORA FELIZ</b>: This is a popular bi-monthly meetup usually on the 1st and 3rd Fridays of the month at Baobab Cafe in the Mission. People come to celebrate the end of the work week and mingle in Spanish in an upbeat, fun, atmosphere. Members often hang around until late.&nbsp; Feeling hungry after all the chatting, propose a dinner plan with your fellow hablantes!&nbsp;<br></p>\\n<p><b>Spanish Language Workouts:</b> These weekly workshops are designed with the learner in mind interested in improving their speaking. Each workshop is lead by a professional teacher who guides attendees in discussing fun and diverse topics in Spanish. Ideal for mid beginner to intermediate levels. Native speakers always welcome for free! First workshop free for Meetup members (later workshops at a discount for members). You can find these events on the calendar (from time to time) and here: &nbsp;http://abclanguagesf.com/spanish-workouts</p>\\n<p><b>Caminamos y Hablamos en Espa\\xf1ol</b><span>: Here is a great Meetup if you like the outdoors and prefer a more mellow atmosphere to practice your Spanish in. This meetup generally meets 10am the first Sunday of the month in Tennessee Valley for a leisurely walk while chatting in Spanish. Around 10-20 members usually join in.</span><br></p>\\n<p><b>Almorzamos Juntos</b>: Come join this group for a mid-week lunch where you can practice your Spanish. Meeting once or twice a month this sub-group is a fun way to practice Spanish during your lunch hour.&nbsp;</p>\\n<p><span>General info:</span></p>\\n<p><span>GROUP MINGLING: Please be open to members entering the meeting.&nbsp; This means if you are already mingling and see a new member, please greet him or her and invite them into your chatting circle. If you are the person arriving, remember that most everyone else, like you, also arrived alone. If it is your first time coming, I highly recommend arriving on time and getting to know people in a smaller setting. If you arrive later it may appear more intimidating, but trust me super easy if you just walk up to anyone, you will see how friendly our members are.</span></p>\\n<p>WHAT SPANISH LEVEL TO EXPECT: Native speakers of Spanish are common in the group as well as intermediate to advanced speakers. Beginners are also welcome and people are super friendly in helping out by speaking slowly and being patient.</p>\\n<p>WHAT ATMOSPHERE TO EXPECT: Lively, social, fun! If you are sensitive to noise, you should choose one of the mellower meetups (outlined above). If you prefer mingling with a variety of people, choose a livelier meetup where you are on your feet and moving around.</p>\\n<p>PREFER A DIFFERENT STYLE OF MEETUP, location or meeting time? Just let the organizers know and we can make you an Event Organizer and you may put on meetups where and when you like.</p>\\n<p>&nbsp;HAVE ANY MORE QUESTIONS? &nbsp;Check out our FAQ\\'s&nbsp;<a href=\"http://www.meetup.com/Spanish-Language-Meetup/about/\">http://www.meetup.com/Spanish-Language-Meetup/about/</a></p>\\n<p> <br></p>', u'join_mode': u'open', u'who': u'Spanish Speakers', u'visibility': u'public', u'group_photo': {u'thumb_link': u'http://photos1.meetupstatic.com/photos/event/4/3/e/6/thumb_76397382.jpeg', u'photo_id': 76397382, u'highres_link': u'http://photos1.meetupstatic.com/photos/event/4/3/e/6/highres_76397382.jpeg', u'base_url': u'http://photos1.meetupstatic.com', u'type': u'event', u'photo_link': u'http://photos1.meetupstatic.com/photos/event/4/3/e/6/600_76397382.jpeg'}, u'link': u'https://www.meetup.com/Spanish-Language-Meetup/', u'members': 4986, u'lat': 37.790000915527344, u'urlname': u'Spanish-Language-Meetup', u'name': u'San Francisco Spanish-Language MeetUp', u'created': 1034097748000, u'country': u'US'}\n",
      "{u'rating': 4.66, u'topics': [{u'name': u'French Language', u'urlkey': u'french', u'id': 185}], u'timezone': u'US/Pacific', u'organizer': {u'photo': {u'thumb_link': u'http://photos2.meetupstatic.com/photos/member/8/f/a/thumb_9242298.jpeg', u'photo_id': 9242298, u'highres_link': u'http://photos2.meetupstatic.com/photos/member/8/f/a/highres_9242298.jpeg', u'base_url': u'http://photos2.meetupstatic.com', u'type': u'member', u'photo_link': u'http://photos4.meetupstatic.com/photos/member/8/f/a/member_9242298.jpeg'}, u'name': u'Anja', u'member_id': 2476565}, u'id': 63937, u'category': {u'shortname': u'language', u'name': u'language/ethnic identity', u'id': 16}, u'city': u'Berkeley', u'lon': -122.25, u'state': u'CA', u'utc_offset': -28800000, u'description': u'<p>On est un groupe divers\\xa0et int\\xe9ressant qui se rencontre pour parler en fran\\xe7ais. Tous ceux qui voudraient parler ou pratiquer leur francais sont les bienvenus.</p>\\n<p>Venez bavarder avec nous!</p>\\n<p>\\xa0</p>\\n<p>We are a diverse and interesting group who meet several times per month to speak together in French.\\xa0 The level spoken can vary from advanced beginner to fluent, but leave your English at the door! There are no set topics to discuss, participants are welcome to talk about what ever they like.</p>\\n<p>Come chat with us!</p>\\n<p>We meet in Berkeley every second and fourth Wednesday of the month, and in Walnut Creek or Pleasant Hill about once a month (check calendar for dates).</p>\\n<p>New members are always welcome.</p>\\n<p>\\xa0</p>\\n<p>More information here: \\xa0<a href=\"http://www.meetup.com/french-73/pages/About_us/\">http://www.meetup.com/french-73/pages/About_us/</a></p>\\n<p>\\xa0</p>\\n<p>\\xa0</p>\\n<p>\\xa0</p>', u'join_mode': u'open', u'who': u'francophones', u'visibility': u'public', u'group_photo': {u'thumb_link': u'http://photos4.meetupstatic.com/photos/event/6/d/5/e/thumb_3687998.jpeg', u'photo_id': 3687998, u'highres_link': u'http://photos2.meetupstatic.com/photos/event/6/d/5/e/highres_3687998.jpeg', u'base_url': u'http://photos2.meetupstatic.com', u'type': u'event', u'photo_link': u'http://photos2.meetupstatic.com/photos/event/6/d/5/e/600_3687998.jpeg'}, u'link': u'https://www.meetup.com/french-73/', u'members': 931, u'lat': 37.86000061035156, u'urlname': u'french-73', u'name': u'Alameda / Contra Costa Co. Rendez-vous fran\\xe7ais', u'created': 1034097748000, u'country': u'US'}\n",
      "{u'rating': 4.73, u'topics': [{u'name': u'English as a Second Language', u'urlkey': u'esl', u'id': 182}, {u'name': u'Sailing', u'urlkey': u'sailing', u'id': 1176}, {u'name': u'Karaoke', u'urlkey': u'karaoke', u'id': 1193}, {u'name': u'Meditation', u'urlkey': u'meditation', u'id': 1322}, {u'name': u'Cantonese Language', u'urlkey': u'cantonese', u'id': 2308}, {u'name': u'Expat Chinese', u'urlkey': u'expatchinese', u'id': 3921}, {u'name': u'Boating', u'urlkey': u'boating', u'id': 8595}, {u'name': u'Asian Professionals', u'urlkey': u'asianpros', u'id': 9760}, {u'name': u'Language & Culture', u'urlkey': u'language', u'id': 10454}, {u'name': u'Singing', u'urlkey': u'singers', u'id': 17301}, {u'name': u'Computer Repair', u'urlkey': u'computer-repair', u'id': 20370}, {u'name': u'Chinese Culture', u'urlkey': u'chinese-culture', u'id': 33004}, {u'name': u'Mandarin Language', u'urlkey': u'mandarin-language', u'id': 51192}, {u'name': u'Chinese language', u'urlkey': u'chinese-language', u'id': 125467}], u'timezone': u'US/Pacific', u'organizer': {u'photo': {u'thumb_link': u'http://photos3.meetupstatic.com/photos/member/7/9/9/c/thumb_250831132.jpeg', u'photo_id': 250831132, u'highres_link': u'http://photos3.meetupstatic.com/photos/member/7/9/9/c/highres_250831132.jpeg', u'base_url': u'http://photos3.meetupstatic.com', u'type': u'member', u'photo_link': u'http://photos3.meetupstatic.com/photos/member/7/9/9/c/member_250831132.jpeg'}, u'name': u'Ben', u'member_id': 93184502}, u'id': 33172, u'category': {u'shortname': u'language', u'name': u'language/ethnic identity', u'id': 16}, u'city': u'San Francisco', u'lon': -122.41999816894531, u'state': u'CA', u'utc_offset': -28800000, u'description': u'<p>\\u6211\\u5011\\u591a\\u6578\\u8aaa\\u4e2d\\u6587\\uff0c\\u6709\\u6642\\u6703\\u6709\\u5b78\\u4e2d\\u6587\\u7684\\u670b\\u53cb\\u53c3\\u52a0\\u6211\\u5011\\u7684\\u6d3b\\u52d5\\u3002\\u6211\\u5011\\u7684\\u4ff1\\u6a02\\u90e8\\u63d0\\u4f9b\\u9019\\u500b\\u5e73\\u53f0\\u548c\\u6a5f\\u6703\\u8b93\\u4f60\\u627e\\u5230\\u8a9e\\u8a00\\u5b78\\u7fd2\\u4e92\\u52a9\\u7684\\u4f19\\u4f34\\u3002</p>\\n<p>This is a place for language exchange. Most of us speak Chinese. Some of us are learning Chinese. China has over&nbsp;eight old capitals.If you have slightly accent is OK to&nbsp;volunteer here, Beijingese do not speak standard Mandarin neighther. <strong> <br></strong></p>\\n<p>Usually we look for our language practice partners and&nbsp;practice during our coffee and dinner times. You are welcome to bring questions, a notebook and a dictionary to our meetups. The schedule won\\'t be decided until you\\'ve signed up to the event. The location will be selected depending on where the RSVP\\'d people are coming from.</p>\\n<p>A&nbsp;lot of&nbsp;us are native speakers, speaking Mandarin, Cantonese, Taishanese, Sichuanese, Shanghainese,Taiwanese\\u2026 We are hardworking Chinese, and Chinese culture lovers located in the San Francisco Bay Area. We want to discover new restaurants, karaoke bars, fine art galleries, theaters, go bowling, play pool and games, discuss new technology, enjoy different cultures.... Let\\'s rock the night!</p>\\n<p>We are the oldest Chinese Meetup group. For more Meetups please join the groups below:</p>\\n<p><a href=\"https://www.facebook.com/groups/hanfu/\" class=\"linkified\">https://www.facebook.com/groups/hanfu/</a><a href=\"http://www.meetup.com/funfellows/\"></a></p>', u'join_mode': u'open', u'who': u'Chinese Culture Lovers', u'visibility': u'public', u'group_photo': {u'thumb_link': u'http://photos3.meetupstatic.com/photos/event/b/7/1/2/thumb_445606866.jpeg', u'photo_id': 445606866, u'highres_link': u'http://photos3.meetupstatic.com/photos/event/b/7/1/2/highres_445606866.jpeg', u'base_url': u'http://photos3.meetupstatic.com', u'type': u'event', u'photo_link': u'http://photos3.meetupstatic.com/photos/event/b/7/1/2/600_445606866.jpeg'}, u'link': u'https://www.meetup.com/mandarin/', u'members': 1983, u'lat': 37.790000915527344, u'urlname': u'mandarin', u'name': u'Bay Area Chinese Language Group \\u4e2d\\u6587\\u4ff1\\u6a02\\u90e8', u'created': 1034280794000, u'country': u'US'}\n"
     ]
    }
   ],
   "source": [
    "for i in response:\n",
    "    print(i)"
   ]
  },
  {
   "cell_type": "code",
   "execution_count": null,
   "metadata": {
    "collapsed": true
   },
   "outputs": [],
   "source": []
  },
  {
   "cell_type": "code",
   "execution_count": null,
   "metadata": {
    "collapsed": true
   },
   "outputs": [],
   "source": []
  },
  {
   "cell_type": "code",
   "execution_count": 40,
   "metadata": {
    "collapsed": false,
    "scrolled": false
   },
   "outputs": [
    {
     "data": {
      "text/plain": [
       "4"
      ]
     },
     "execution_count": 40,
     "metadata": {},
     "output_type": "execute_result"
    }
   ],
   "source": [
    "len(response['results'])"
   ]
  },
  {
   "cell_type": "code",
   "execution_count": 26,
   "metadata": {
    "collapsed": false
   },
   "outputs": [
    {
     "data": {
      "text/plain": [
       "5"
      ]
     },
     "execution_count": 26,
     "metadata": {},
     "output_type": "execute_result"
    }
   ],
   "source": [
    "len(response)"
   ]
  },
  {
   "cell_type": "code",
   "execution_count": 25,
   "metadata": {
    "collapsed": false
   },
   "outputs": [
    {
     "data": {
      "text/plain": [
       "1"
      ]
     },
     "execution_count": 25,
     "metadata": {},
     "output_type": "execute_result"
    }
   ],
   "source": [
    "len([(str(response)).split(',')])"
   ]
  },
  {
   "cell_type": "code",
   "execution_count": 12,
   "metadata": {
    "collapsed": false
   },
   "outputs": [
    {
     "data": {
      "text/plain": [
       "2"
      ]
     },
     "execution_count": 12,
     "metadata": {},
     "output_type": "execute_result"
    }
   ],
   "source": [
    "len(response)"
   ]
  },
  {
   "cell_type": "code",
   "execution_count": null,
   "metadata": {
    "collapsed": true
   },
   "outputs": [],
   "source": []
  },
  {
   "cell_type": "code",
   "execution_count": null,
   "metadata": {
    "collapsed": true
   },
   "outputs": [],
   "source": []
  },
  {
   "cell_type": "code",
   "execution_count": null,
   "metadata": {
    "collapsed": true
   },
   "outputs": [],
   "source": []
  },
  {
   "cell_type": "code",
   "execution_count": null,
   "metadata": {
    "collapsed": true
   },
   "outputs": [],
   "source": []
  },
  {
   "cell_type": "code",
   "execution_count": null,
   "metadata": {
    "collapsed": true
   },
   "outputs": [],
   "source": []
  },
  {
   "cell_type": "code",
   "execution_count": 14,
   "metadata": {
    "collapsed": false,
    "scrolled": false
   },
   "outputs": [
    {
     "data": {
      "text/plain": [
       "[u'<p>The SF PHP Community Meetup is an open forum where PHP developers of all skill levels can come to communicate, learn, network, or just have a good time. We meet on a monthly basis and generally have speaker from the major web site companies in the bay area. Lively discussions or Q&amp;A for hours afterwards.</p>\\n<p>Our focus is in the PHP world but our topics encompass the entire LAMP stack. Topics include PHP coding, to memcached handling, db optimizations, server stack, web server tuning, code deploying, hosting options and much much more.</p>\\n<p>We are actively seeking speakers for upcoming monthly meetups. Please contact us through Meetup, Twitter or directly through <a href=\"http://goo.gl/xTZbeu\">Google Forms http://goo.gl/xTZbeu</a> <br></p>\\n<p>The purpose of SF PHP Community is to present public events that are beneficial to the PHP community and to help nurture the growth of the community through education, networking, mentoring, and friendship. SF PHP meetups are a \\'safe space\\' or to put it another way a \\'flame free\\' zone. In order to grow the community in a responsible way we actively encourage diversity and respect. </p>\\n<p> <br>Although we are just one meetup group in one city we have the opportunity to present a positive and energetic vision of what can be built with PHP now, and where PHP is going. By educating in current techniques and practices, we also inspire people to create new solutions. By bringing developers together in person, we make it easier for new connections to be made. All of this in turn brings renewed energy and people to the language, our projects, and frameworks.</p>\\n<br>',\n",
       " u\"<p>This is a group for anyone currently working or interested in Game Development. We primarily discuss current games and technology, market trends and issues facing the industry. Its a great causal place to network and pick up or share some interesting tips. Feel free to make suggestions! This group is for people in game development and for those who want to be. Join us if you're an artist, programmer, designer, marketing guru, any connection to game development at any level.</p>\"]"
      ]
     },
     "execution_count": 14,
     "metadata": {},
     "output_type": "execute_result"
    }
   ],
   "source": [
    "[i['description'] for i in response['results']]"
   ]
  },
  {
   "cell_type": "code",
   "execution_count": null,
   "metadata": {
    "collapsed": true
   },
   "outputs": [],
   "source": []
  },
  {
   "cell_type": "code",
   "execution_count": null,
   "metadata": {
    "collapsed": true
   },
   "outputs": [],
   "source": []
  },
  {
   "cell_type": "code",
   "execution_count": null,
   "metadata": {
    "collapsed": true
   },
   "outputs": [],
   "source": []
  },
  {
   "cell_type": "code",
   "execution_count": null,
   "metadata": {
    "collapsed": true
   },
   "outputs": [],
   "source": []
  }
 ],
 "metadata": {
  "anaconda-cloud": {},
  "kernelspec": {
   "display_name": "Python [dsci6007]",
   "language": "python",
   "name": "Python [dsci6007]"
  },
  "language_info": {
   "codemirror_mode": {
    "name": "ipython",
    "version": 2
   },
   "file_extension": ".py",
   "mimetype": "text/x-python",
   "name": "python",
   "nbconvert_exporter": "python",
   "pygments_lexer": "ipython2",
   "version": "2.7.13"
  }
 },
 "nbformat": 4,
 "nbformat_minor": 0
}
