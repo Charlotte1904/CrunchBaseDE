{
 "cells": [
  {
   "cell_type": "code",
   "execution_count": 1,
   "metadata": {
    "collapsed": true
   },
   "outputs": [],
   "source": [
    "import requests\n",
    "import json"
   ]
  },
  {
   "cell_type": "code",
   "execution_count": 21,
   "metadata": {
    "collapsed": false
   },
   "outputs": [],
   "source": [
    "response = requests.get('https://api.meetup.com/2/events?key=2874d38771329205940487d21283d3e&group_urlname=ny-tech&sign=true')"
   ]
  },
  {
   "cell_type": "code",
   "execution_count": null,
   "metadata": {
    "collapsed": true
   },
   "outputs": [],
   "source": []
  },
  {
   "cell_type": "code",
   "execution_count": 22,
   "metadata": {
    "collapsed": false
   },
   "outputs": [],
   "source": [
    "data = json.loads(response.content)"
   ]
  },
  {
   "cell_type": "code",
   "execution_count": 23,
   "metadata": {
    "collapsed": false,
    "scrolled": true
   },
   "outputs": [
    {
     "data": {
      "text/plain": [
       "[u'meta', u'results']"
      ]
     },
     "execution_count": 23,
     "metadata": {},
     "output_type": "execute_result"
    }
   ],
   "source": [
    "data.keys()"
   ]
  },
  {
   "cell_type": "code",
   "execution_count": 24,
   "metadata": {
    "collapsed": false
   },
   "outputs": [
    {
     "data": {
      "text/plain": [
       "[u'March 2017 NY Tech Meetup and Afterparty',\n",
       " u'April 2017 NY Tech Meetup and Afterparty',\n",
       " u'May 2017 NY Tech Meetup and Afterparty',\n",
       " u'June 2017 NY Tech Meetup and Afterparty',\n",
       " u'July 2017 NY Tech Meetup and Afterparty',\n",
       " u'August 2017 NY Tech Meetup and Afterparty']"
      ]
     },
     "execution_count": 24,
     "metadata": {},
     "output_type": "execute_result"
    }
   ],
   "source": [
    "[i['name'] for i in data['results']]"
   ]
  },
  {
   "cell_type": "code",
   "execution_count": null,
   "metadata": {
    "collapsed": true
   },
   "outputs": [],
   "source": []
  },
  {
   "cell_type": "code",
   "execution_count": null,
   "metadata": {
    "collapsed": true
   },
   "outputs": [],
   "source": []
  },
  {
   "cell_type": "code",
   "execution_count": null,
   "metadata": {
    "collapsed": true
   },
   "outputs": [],
   "source": []
  },
  {
   "cell_type": "code",
   "execution_count": 4,
   "metadata": {
    "collapsed": false
   },
   "outputs": [],
   "source": [
    "titles = [i['title'] for i in data['articles']]"
   ]
  },
  {
   "cell_type": "code",
   "execution_count": 10,
   "metadata": {
    "collapsed": false
   },
   "outputs": [
    {
     "data": {
      "text/plain": [
       "{u'articles': [{u'author': u'Robert D. McFadden',\n",
       "   u'description': u'Ms. McCorvey, the anonymous plaintiff in the landmark Roe v. Wade ruling, was a symbol for abortion rights, though she later changed her views.',\n",
       "   u'publishedAt': u'2017-02-18T21:27:04Z',\n",
       "   u'title': u'Norma McCorvey, \\u2018Roe\\u2019 in Roe v. Wade, Is Dead at 69',\n",
       "   u'url': u'https://www.nytimes.com/2017/02/18/obituaries/norma-mccorvey-dead-roe-v-wade.html',\n",
       "   u'urlToImage': u'https://static01.nyt.com/images/2017/02/17/us/mccorvey-obit-1/mccorvey-obit-1-facebookJumbo.jpg'},\n",
       "  {u'author': u'https://www.facebook.com/michael.birnbaum1',\n",
       "   u'description': u'Vice President Pence\\u2019s silence on the European Union may only fuel fears among allies that the Trump administration will reject certain aspects of European unity.',\n",
       "   u'publishedAt': u'2017-02-18T17:28:00Z',\n",
       "   u'title': u'Pence and Merkel embrace NATO but differ on transatlantic partnership',\n",
       "   u'url': u'https://www.washingtonpost.com/world/pence-and-merkel-embrace-nato-but-differ-on-transatlantic-partnership/2017/02/18/909c6a92-f55c-11e6-9fb1-2d8f3fc9c0ed_story.html',\n",
       "   u'urlToImage': u'https://img.washingtonpost.com/rf/image_1484w/2010-2019/WashingtonPost/2017/02/18/Foreign/Images/Germany_Security_Conference_36753.jpg-bf500.jpg'},\n",
       "  {u'author': u'https://www.facebook.com/wpjennajohnson',\n",
       "   u'description': u'The White House effort comes after four weeks of contoversy and declining popularity.',\n",
       "   u'publishedAt': u'2017-02-18T08:50:00Z',\n",
       "   u'title': u'Trump attempts a reset with a rally, new staff and a renewed fight with the media',\n",
       "   u'url': u'https://www.washingtonpost.com/politics/trump-attempts-a-reset-with-a-rally-new-staff-and-a-renewed-fight-with-the-media/2017/02/18/6ec54f74-f54d-11e6-b9c9-e83fce42fb61_story.html',\n",
       "   u'urlToImage': u'https://img.washingtonpost.com/rf/image_1484w/2010-2019/WashingtonPost/2017/02/16/National-Politics/Images/Botsford170216Trump12285.JPG'},\n",
       "  {u'author': u'Ryan Browne',\n",
       "   u'description': u'Some Pentagon officials believe Russia is testing President Donald Trump with aggressive moves across the globe.',\n",
       "   u'publishedAt': u'2017-02-18T17:12:05Z',\n",
       "   u'title': u\"Pentagon officials: Russian actions a 'test of the new administration'\",\n",
       "   u'url': u'http://www.cnn.com/2017/02/18/politics/russia-military-test-trump-administration/',\n",
       "   u'urlToImage': u'http://i2.cdn.cnn.com/cnnnext/dam/assets/170216113848-02-uss-porter-russian-jets-super-tease.jpg'},\n",
       "  {u'author': u'Steve Almasy, Azadeh Ansari and Kelly McCleary, CNN',\n",
       "   u'description': u'Northern California is bracing for an onslaught of rain beginning late Saturday as the southern part of the state dries out and assesses damage from downpours that left at least two people dead.',\n",
       "   u'publishedAt': u'2017-02-18T18:17:53Z',\n",
       "   u'title': u'More rain in store after 2 killed in California storms',\n",
       "   u'url': u'http://www.cnn.com/2017/02/18/us/southern-california-storm/',\n",
       "   u'urlToImage': u'http://i2.cdn.cnn.com/cnnnext/dam/assets/170217204904-southern-california-flooding-02172017-super-tease.jpg'},\n",
       "  {u'author': u'Julia Preston',\n",
       "   u'description': u'Mr. Abdel Rahman was convicted of a 1993 plot to destroy New York landmarks, kill hundreds of people and force the United States to abandon its support for Israel and Egypt.',\n",
       "   u'publishedAt': u'2017-02-18T21:12:39Z',\n",
       "   u'title': u'Omar Abdel Rahman, Blind Cleric Found Guilty of Plot to Wage \\u2018War of Urban Terrorism,\\u2019 Dies at 78',\n",
       "   u'url': u'https://www.nytimes.com/2017/02/18/world/middleeast/omar-abdel-rahman-dead.html',\n",
       "   u'urlToImage': u'https://static01.nyt.com/images/2017/02/19/us/19rahman/19rahman-facebookJumbo.jpg'},\n",
       "  {u'author': u'Kathy Quiano, CNN',\n",
       "   u'description': u\"Authorities have arrested a fourth suspect in the mysterious death of the half brother of North Korea's leader.\",\n",
       "   u'publishedAt': u'2017-02-18T11:39:14Z',\n",
       "   u'title': u\"North Korean man arrested in Kim Jong Nam's death\",\n",
       "   u'url': u'http://www.cnn.com/2017/02/18/asia/kim-jong-nam-murder-suspects-arrests/',\n",
       "   u'urlToImage': u'http://i2.cdn.cnn.com/cnnnext/dam/assets/170217125619-01-kim-jong-nam-death-file-0217-super-tease.jpg'},\n",
       "  {u'author': None,\n",
       "   u'description': u'Once, it was used to describe bad leaders. Not anymore.',\n",
       "   u'publishedAt': u'2017-02-18T08:44:00Z',\n",
       "   u'title': u'Analysis | Trump called the news media an \\u2018enemy of the American People.\\u2019 Here\\u2019s a history of the term.',\n",
       "   u'url': u'https://www.washingtonpost.com/news/worldviews/wp/2017/02/18/trump-called-the-news-media-an-enemy-of-the-american-people-heres-a-history-of-the-term/',\n",
       "   u'urlToImage': u'https://img.washingtonpost.com/rf/image_1484w/2010-2019/WashingtonPost/2017/02/06/Editorial-Opinion/Images/AFP_LG7IU-2033.jpg'},\n",
       "  {u'author': u'Max Greenwood',\n",
       "   u'description': u\"It's the latest shake up on the National Security Council.\",\n",
       "   u'publishedAt': u'2017-02-18T20:41:23Z',\n",
       "   u'title': u'National Security Council aide dismissed after criticizing Trump: report',\n",
       "   u'url': u'http://thehill.com/policy/national-security/320250-national-security-council-aide-ousted-for-criticizing-trump-report',\n",
       "   u'urlToImage': u'http://thehill.com/sites/default/files/article_images/trumpdonald1_getty_0.jpg'},\n",
       "  {u'author': u'https://www.facebook.com/bbcnews',\n",
       "   u'description': u'Geert Wilders heads polls ahead of the 15 March election, but his lead is narrowing.',\n",
       "   u'publishedAt': u'2017-02-18T14:47:07Z',\n",
       "   u'title': u\"Dutch populist Geert Wilders calls some Moroccans 'scum' - BBC News\",\n",
       "   u'url': u'http://www.bbc.com/news/world-europe-39016179',\n",
       "   u'urlToImage': u'http://ichef-1.bbci.co.uk/news/1024/cpsprodpb/11708/production/_94723417_mediaitem94723416.jpg'}],\n",
       " u'sortBy': u'top',\n",
       " u'source': u'google-news',\n",
       " u'status': u'ok'}"
      ]
     },
     "execution_count": 10,
     "metadata": {},
     "output_type": "execute_result"
    }
   ],
   "source": [
    "data"
   ]
  },
  {
   "cell_type": "code",
   "execution_count": 6,
   "metadata": {
    "collapsed": false
   },
   "outputs": [],
   "source": [
    "hackernews_response = requests.get('https://newsapi.org/v1/articles?source=hacker-news&sortBy=top&apiKey=17bb1e95bc0144c1bc339b67dd0c1d0f')"
   ]
  },
  {
   "cell_type": "code",
   "execution_count": 7,
   "metadata": {
    "collapsed": true
   },
   "outputs": [],
   "source": [
    "hn_data = json.loads(hackernews_response.content)"
   ]
  },
  {
   "cell_type": "code",
   "execution_count": 8,
   "metadata": {
    "collapsed": false
   },
   "outputs": [],
   "source": [
    "titles = [i['title'] for i in hn_data['articles']]"
   ]
  },
  {
   "cell_type": "code",
   "execution_count": 9,
   "metadata": {
    "collapsed": false
   },
   "outputs": [
    {
     "data": {
      "text/plain": [
       "[u'Families Finally Hear From Completely Paralyzed Patients Via New Mind-Reading Device',\n",
       " u'Show HN: Evilpass \\u2013 A slightly evil password strength checker',\n",
       " u'The idea maze of personal logging (2016)',\n",
       " u'Show HN: Clozemaster \\u2013 Learn language in context',\n",
       " u'Detection of radioactive iodine at trace levels in Europe in January 2017',\n",
       " u'Show HN: Tkui \\u2013 Python GUI maker that simulaneously edits the GUI and its editor',\n",
       " u'What Mirrors Tell Us About Animal Minds',\n",
       " u'Pixar offers free online lessons in storytelling via Khan\\xa0Academy',\n",
       " u'SpaceX Halts Rocket Launch 10 Seconds Before Planned Liftoff',\n",
       " u'Ask HN: How should I teach code to kids?']"
      ]
     },
     "execution_count": 9,
     "metadata": {},
     "output_type": "execute_result"
    }
   ],
   "source": [
    "titles"
   ]
  },
  {
   "cell_type": "code",
   "execution_count": null,
   "metadata": {
    "collapsed": true
   },
   "outputs": [],
   "source": []
  },
  {
   "cell_type": "code",
   "execution_count": null,
   "metadata": {
    "collapsed": true
   },
   "outputs": [],
   "source": []
  }
 ],
 "metadata": {
  "anaconda-cloud": {},
  "kernelspec": {
   "display_name": "Python [dsci6007]",
   "language": "python",
   "name": "Python [dsci6007]"
  },
  "language_info": {
   "codemirror_mode": {
    "name": "ipython",
    "version": 2
   },
   "file_extension": ".py",
   "mimetype": "text/x-python",
   "name": "python",
   "nbconvert_exporter": "python",
   "pygments_lexer": "ipython2",
   "version": "2.7.13"
  }
 },
 "nbformat": 4,
 "nbformat_minor": 0
}
