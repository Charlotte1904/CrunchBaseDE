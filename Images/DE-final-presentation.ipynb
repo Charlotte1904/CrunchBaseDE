{
 "cells": [
  {
   "cell_type": "markdown",
   "metadata": {
    "slideshow": {
     "slide_type": "slide"
    }
   },
   "source": [
    "                                 Data Engineer Final Project \n",
    "----\n",
    "\n",
    "<center><img src=\"https://dzpp79ucibp5a.cloudfront.net/events_banners/12768_normal_1403512002_api-meetup-logo-600x200.png\" height=\"500\"/></center>"
   ]
  },
  {
   "cell_type": "markdown",
   "metadata": {
    "slideshow": {
     "slide_type": "slide"
    }
   },
   "source": [
    "# 3NF DataFrames\n",
    "-----\n",
    "\n",
    "<center><img src=\"http://www.ibm.com/developerworks/library/ba-augment-data-warehouse1/fig2.png\" height=\"500\"/></center>\n",
    "\n",
    "Groups \n",
    "----\n",
    "<center><img src=\"groups.png\" height=\"200\"/></center>\n",
    "\n",
    "Event\n",
    "----\n",
    "<center><img src=\"event.png\" height=\"200\"/></center>\n",
    "\n",
    "Topic\n",
    "----\n",
    "<center><img src=\"topics.png\" height=\"200\"/></center>\n",
    "\n",
    "RSVP\n",
    "----\n",
    "<center><img src=\"rsvp.png\" height=\"200\"/></center>\n"
   ]
  },
  {
   "cell_type": "markdown",
   "metadata": {
    "slideshow": {
     "slide_type": "slide"
    }
   },
   "source": [
    "Insights:\n",
    "----\n",
    "\n",
    "- Explore Tech communities in different cities/countries\n",
    "- Identify the rise of new technology\n",
    "- Understand how smaller tech topics inner-related together"
   ]
  },
  {
   "cell_type": "markdown",
   "metadata": {
    "slideshow": {
     "slide_type": "slide"
    }
   },
   "source": []
  },
  {
   "cell_type": "markdown",
   "metadata": {
    "slideshow": {
     "slide_type": "fragment"
    }
   },
   "source": [
    "Get a _feel_ for the data"
   ]
  },
  {
   "cell_type": "markdown",
   "metadata": {
    "slideshow": {
     "slide_type": "slide"
    }
   },
   "source": [
    "What is exploratory data analysis (EDA)?\n",
    "-----\n",
    "\n",
    "<center><img src=\"DataWarehouseWithMDMDQS2.png\" height=\"300\"/></center>\n",
    "\n",
    "- An approach/philosophy about how data analysis should be carried out\n",
    "- Summarizes the main characteristics of the data (often with visual methods)\n",
    "- Allow the data to reveal its underlying structure and inspire models\n",
    " \n",
    "\"Exploratory Data Analysis\" by John Tukey 1977"
   ]
  },
  {
   "cell_type": "markdown",
   "metadata": {
    "slideshow": {
     "slide_type": "slide"
    }
   },
   "source": [
    "Interactive analysis is the best way to really figure out what is going on in a data set.\n",
    "\n",
    "You need to make tables, plots, identify outliers, find missing data, and identify problems with the data. \n",
    "\n",
    "To do this you need to interact with the data quickly and easily,"
   ]
  },
  {
   "cell_type": "markdown",
   "metadata": {
    "slideshow": {
     "slide_type": "fragment"
    }
   },
   "source": [
    "that is why we use Python (a dynamic language)."
   ]
  },
  {
   "cell_type": "markdown",
   "metadata": {
    "slideshow": {
     "slide_type": "slide"
    }
   },
   "source": [
    "What are the general steps for EDA?\n",
    "-----\n",
    "\n",
    "1. Load data  \n",
    "2. Look at univariate variables  \n",
    "    - Visualizations\n",
    "    - Summary statistics\n",
    "3. Look at bivariate variables  \n",
    "4. Look at n-variate variables  "
   ]
  },
  {
   "cell_type": "markdown",
   "metadata": {
    "slideshow": {
     "slide_type": "slide"
    }
   },
   "source": [
    "5\\. Advanced attribute understanding\n",
    "\n",
    "- Unsupervised  \n",
    "    - Dimension reduction  \n",
    "    - Protip: Use Principal component analysis (PCA)\n",
    "- Supervised  \n",
    "    - Regression  \n",
    "    - Decision trees"
   ]
  },
  {
   "cell_type": "markdown",
   "metadata": {
    "collapsed": true,
    "slideshow": {
     "slide_type": "slide"
    }
   },
   "source": [
    "Data as a table\n",
    "-----\n",
    "Data should be formated as a 2 dimensional table (aka, matrix) with the rows as observations and the columns as attributes. "
   ]
  },
  {
   "cell_type": "markdown",
   "metadata": {
    "slideshow": {
     "slide_type": "fragment"
    }
   },
   "source": [
    "If the data is not in matrix or a well organized matrix, your first task is to __jam it into a matrix.__"
   ]
  },
  {
   "cell_type": "code",
   "execution_count": 1,
   "metadata": {
    "collapsed": false,
    "slideshow": {
     "slide_type": "slide"
    }
   },
   "outputs": [
    {
     "name": "stdout",
     "output_type": "stream",
     "text": [
      "\"id\",\"gender\",\"fsiq\",\"viq\",\"piq\",\"weight\",\"height\",\"mri_count\"\r\n",
      "\"1\",\"Female\",133,132,124,\"118\",\"64.5\",816932\r\n",
      "\"2\",\"Male\",139,123,150,\"143\",\"73.3\",1038437\r\n",
      "\"3\",\"Male\",140,150,124,\".\",\"72.5\",1001121\r\n",
      "\"4\",\"Male\",133,129,128,\"172\",\"68.8\",965353\r\n",
      "\"5\",\"Female\",137,132,134,\"147\",\"65.0\",951545\r\n",
      "\"6\",\"Female\",99,90,110,\"146\",\"69.0\",928799\r\n",
      "\"7\",\"Female\",138,136,131,\"138\",\"64.5\",991305\r\n",
      "\"8\",\"Female\",92,90,98,\"175\",\"66.0\",854258\r\n",
      "\"9\",\"Male\",89,93,84,\"134\",\"66.3\",904858\r\n"
     ]
    }
   ],
   "source": [
    "! head ../../data/brain_size.csv"
   ]
  },
  {
   "cell_type": "markdown",
   "metadata": {
    "slideshow": {
     "slide_type": "slide"
    }
   },
   "source": [
    "The Pandas DataFrame\n",
    "------\n",
    "\n",
    "We will store and manipulate this data in a pandas.DataFrame\n",
    "\n",
    "pandas is Excel on steroids.\n",
    "\n",
    "pandas.DataFrame is Python equivalent of the spreadsheet table. \n"
   ]
  },
  {
   "cell_type": "code",
   "execution_count": 2,
   "metadata": {
    "collapsed": false,
    "slideshow": {
     "slide_type": "slide"
    }
   },
   "outputs": [],
   "source": [
    "import pandas as pd\n",
    "\n",
    "brain_df = pd.read_csv('../../data/brain_size.csv')"
   ]
  },
  {
   "cell_type": "code",
   "execution_count": 3,
   "metadata": {
    "collapsed": false,
    "slideshow": {
     "slide_type": "fragment"
    }
   },
   "outputs": [
    {
     "data": {
      "text/html": [
       "<div>\n",
       "<table border=\"1\" class=\"dataframe\">\n",
       "  <thead>\n",
       "    <tr style=\"text-align: right;\">\n",
       "      <th></th>\n",
       "      <th>id</th>\n",
       "      <th>gender</th>\n",
       "      <th>fsiq</th>\n",
       "      <th>viq</th>\n",
       "      <th>piq</th>\n",
       "      <th>weight</th>\n",
       "      <th>height</th>\n",
       "      <th>mri_count</th>\n",
       "    </tr>\n",
       "  </thead>\n",
       "  <tbody>\n",
       "    <tr>\n",
       "      <th>0</th>\n",
       "      <td>1</td>\n",
       "      <td>Female</td>\n",
       "      <td>133</td>\n",
       "      <td>132</td>\n",
       "      <td>124</td>\n",
       "      <td>118</td>\n",
       "      <td>64.5</td>\n",
       "      <td>816932</td>\n",
       "    </tr>\n",
       "    <tr>\n",
       "      <th>1</th>\n",
       "      <td>2</td>\n",
       "      <td>Male</td>\n",
       "      <td>139</td>\n",
       "      <td>123</td>\n",
       "      <td>150</td>\n",
       "      <td>143</td>\n",
       "      <td>73.3</td>\n",
       "      <td>1038437</td>\n",
       "    </tr>\n",
       "  </tbody>\n",
       "</table>\n",
       "</div>"
      ],
      "text/plain": [
       "   id  gender  fsiq  viq  piq weight height  mri_count\n",
       "0   1  Female   133  132  124    118   64.5     816932\n",
       "1   2    Male   139  123  150    143   73.3    1038437"
      ]
     },
     "execution_count": 3,
     "metadata": {},
     "output_type": "execute_result"
    }
   ],
   "source": [
    "brain_df.head(n=2)"
   ]
  },
  {
   "cell_type": "markdown",
   "metadata": {
    "slideshow": {
     "slide_type": "slide"
    }
   },
   "source": [
    "Instance\n",
    "------\n",
    "\n",
    "A dataset is composed of a set of instances. The rows of the table are the instances.  \n",
    "\n",
    "The thing about which you want to understand and/or make a prediction. \n",
    "\n",
    "Statistics __assumes__: each instance is an individual and independent sample."
   ]
  },
  {
   "cell_type": "markdown",
   "metadata": {
    "slideshow": {
     "slide_type": "slide"
    }
   },
   "source": [
    "Features / Attributes\n",
    "----\n",
    "\n",
    "A property of an instance. \n",
    "\n",
    "The columns of the data table should be the features."
   ]
  },
  {
   "cell_type": "markdown",
   "metadata": {
    "slideshow": {
     "slide_type": "slide"
    }
   },
   "source": [
    "Label / Target\n",
    "-----\n",
    "\n",
    "The target value is a special feature, which is to be predicted or classified."
   ]
  },
  {
   "cell_type": "markdown",
   "metadata": {
    "slideshow": {
     "slide_type": "slide"
    }
   },
   "source": [
    "Example\n",
    "-----\n",
    "\n",
    "An instance (with its features) and a label."
   ]
  },
  {
   "cell_type": "markdown",
   "metadata": {
    "slideshow": {
     "slide_type": "slide"
    }
   },
   "source": [
    "Check for understanding\n",
    "-----\n",
    "\n",
    "What data is not inherently in table format?"
   ]
  },
  {
   "cell_type": "markdown",
   "metadata": {
    "slideshow": {
     "slide_type": "fragment"
    }
   },
   "source": [
    "\n",
    "- Images, Sound, and Videos\n",
    "- Text\n",
    "- Human thoughts and emotions\n",
    "- Tensors"
   ]
  },
  {
   "cell_type": "markdown",
   "metadata": {
    "slideshow": {
     "slide_type": "slide"
    }
   },
   "source": [
    "Data types (aka, levels of measurement)\n",
    "-----\n",
    "\n",
    "- Numerical\n",
    "- Nominal\n"
   ]
  },
  {
   "cell_type": "markdown",
   "metadata": {
    "slideshow": {
     "slide_type": "slide"
    }
   },
   "source": [
    "What are each?"
   ]
  },
  {
   "cell_type": "markdown",
   "metadata": {
    "slideshow": {
     "slide_type": "fragment"
    }
   },
   "source": [
    "Numeric attributes are either real or integer typed numbers.\n",
    "\n",
    "For example - temperature\n",
    "\n",
    "----\n",
    "\n",
    "Nominal attributes take on values in a finite set of possibilities.\n",
    "\n",
    "For example - Sunny ☀️, Overcast 🌥, and Rainy 🌧"
   ]
  },
  {
   "cell_type": "markdown",
   "metadata": {
    "slideshow": {
     "slide_type": "slide"
    }
   },
   "source": [
    "Types of Nominal\n",
    "----\n",
    "\n",
    "- Binary. What is an example of Binary typed data?"
   ]
  },
  {
   "cell_type": "markdown",
   "metadata": {
    "slideshow": {
     "slide_type": "fragment"
    }
   },
   "source": [
    "- Categorical / Nominal. What is an example of nominal typed data?"
   ]
  },
  {
   "cell_type": "markdown",
   "metadata": {
    "slideshow": {
     "slide_type": "fragment"
    }
   },
   "source": [
    "- Ordinal. What is an example of ordinal typed data?"
   ]
  },
  {
   "cell_type": "markdown",
   "metadata": {
    "slideshow": {
     "slide_type": "slide"
    }
   },
   "source": [
    "Levels of Measurement is a spectrum\n",
    "-----\n",
    "\n",
    "Unmeasurable --> Qualitive --> Binary/Nominal --> Ordinal --> Integer --> Real valued --> \"Ratio\""
   ]
  },
  {
   "cell_type": "markdown",
   "metadata": {
    "collapsed": true,
    "slideshow": {
     "slide_type": "slide"
    }
   },
   "source": [
    "EDA: Techniques\n",
    "----\n",
    "\n",
    "- Descriptive Statistics\n",
    "- Tables\n",
    "- Visualizations"
   ]
  },
  {
   "cell_type": "markdown",
   "metadata": {
    "collapsed": true,
    "slideshow": {
     "slide_type": "slide"
    }
   },
   "source": [
    "Descriptive Statistics\n",
    "-----\n",
    "\n",
    "- Measures of overall-ness\n",
    "- Measures of location / center\n",
    "- Measures of variation\n",
    "- Measures of the shape of the distribution\n",
    "- Measures of statistical dependence between variables"
   ]
  },
  {
   "cell_type": "markdown",
   "metadata": {
    "slideshow": {
     "slide_type": "slide"
    }
   },
   "source": [
    "Measures of overall-ness\n",
    "-----\n",
    "\n",
    "- Count\n",
    "- Ratio"
   ]
  },
  {
   "cell_type": "markdown",
   "metadata": {
    "slideshow": {
     "slide_type": "slide"
    }
   },
   "source": [
    "Data Science is mostly counting\n",
    "-----\n",
    "\n",
    "<center><img src=\"http://static.deathandtaxesmag.com/uploads/2014/12/the-count-pi.jpg\" height=\"500\"/></center>\n",
    "\n",
    "Count is the number of observations (Protip: You want a lot of counts)"
   ]
  },
  {
   "cell_type": "markdown",
   "metadata": {
    "slideshow": {
     "slide_type": "slide"
    }
   },
   "source": [
    "What is a ratio?\n",
    "------\n",
    "\n",
    "One count divided by another count, like 0.515\n",
    "\n",
    "It is very important to define your numerator and denominator. This elementary school but critical for businesses."
   ]
  },
  {
   "cell_type": "markdown",
   "metadata": {
    "slideshow": {
     "slide_type": "slide"
    }
   },
   "source": [
    "Summary Statistics\n",
    "-----\n",
    "\n",
    "Summary statistics are used for summarizing a sample. The most commonly used summary statistics describe the following characteristics of the data.\n",
    "\n",
    "- Measure of center\n",
    "- Measure of spread"
   ]
  },
  {
   "cell_type": "markdown",
   "metadata": {
    "collapsed": true,
    "slideshow": {
     "slide_type": "slide"
    }
   },
   "source": [
    "Measures of center (aka central tendencies)?\n",
    "-----\n",
    "\n",
    "Can you guess a couple?"
   ]
  },
  {
   "cell_type": "markdown",
   "metadata": {
    "slideshow": {
     "slide_type": "slide"
    }
   },
   "source": [
    "Measures of center (aka central tendencies)\n",
    "-----\n",
    "\n",
    "- Mean\n",
    "- Median \n",
    "- Mode"
   ]
  },
  {
   "cell_type": "markdown",
   "metadata": {
    "slideshow": {
     "slide_type": "slide"
    }
   },
   "source": [
    "<center><img src=\"images/average.jpg\" height=\"800\"/></center>"
   ]
  },
  {
   "cell_type": "markdown",
   "metadata": {
    "slideshow": {
     "slide_type": "slide"
    }
   },
   "source": [
    "Mean\n",
    "----\n",
    "\n",
    "The arithmetic average of the data values\n",
    "\n",
    "$$ \\bar{x} = \\frac{\\sum_{i=1}^n x_i}{n} = \\frac{x_1 + x_2 + \\ldots + x_n}{n} $$\n",
    "    where n is the size of the data\n",
    "    \n",
    "<center><img src=\"http://1.bp.blogspot.com/-so2EWw4rnaY/U2_aqMV4ZeI/AAAAAAAAAII/TRTXyEgTJO8/s1600/MeanVisual.gif\" height=\"300\"/></center>"
   ]
  },
  {
   "cell_type": "markdown",
   "metadata": {
    "slideshow": {
     "slide_type": "slide"
    }
   },
   "source": [
    "Mean\n",
    "----\n",
    "\n",
    "- The most common measure of center\n",
    "- Often does __not__ summarize data very well"
   ]
  },
  {
   "cell_type": "markdown",
   "metadata": {
    "slideshow": {
     "slide_type": "fragment"
    }
   },
   "source": [
    "<center><img src=\"http://web.stanford.edu/~savage/faculty/savage/FOA%20Index_files/image001.jpg\" height=\"500\"/></center>"
   ]
  },
  {
   "cell_type": "markdown",
   "metadata": {
    "slideshow": {
     "slide_type": "slide"
    }
   },
   "source": [
    "- Can be affected by extreme data values (outliers)\n",
    "\n",
    "<center><img src=\"images/mean.png\" height=\"500\"/></center>"
   ]
  },
  {
   "cell_type": "markdown",
   "metadata": {
    "slideshow": {
     "slide_type": "slide"
    }
   },
   "source": [
    "> Let’s say there are 7 people sitting in a bar. And they start taking about net worth...."
   ]
  },
  {
   "cell_type": "markdown",
   "metadata": {
    "slideshow": {
     "slide_type": "slide"
    }
   },
   "source": [
    "<center><img src=\"http://i0.wp.com/michelbaudin.com/wp-content/uploads/2014/03/Bill-Gates-in-terroir_bar-SF.png?resize=492%2C426\" height=\"500\"/></center>\n",
    "\n",
    "[Source](https://introductorystats.wordpress.com/2011/09/04/when-bill-gates-walks-into-a-bar/)"
   ]
  },
  {
   "cell_type": "code",
   "execution_count": 4,
   "metadata": {
    "collapsed": false,
    "slideshow": {
     "slide_type": "slide"
    }
   },
   "outputs": [],
   "source": [
    "data = list(range(100))\n",
    "\n",
    "def calculate_mean(data):\n",
    "    \"\"\"Calculate the arithmetic average of a list\"\"\"\n",
    "    pass"
   ]
  },
  {
   "cell_type": "code",
   "execution_count": 5,
   "metadata": {
    "collapsed": false,
    "slideshow": {
     "slide_type": "fragment"
    }
   },
   "outputs": [
    {
     "ename": "AssertionError",
     "evalue": "",
     "output_type": "error",
     "traceback": [
      "\u001b[0;31m---------------------------------------------------------------------------\u001b[0m",
      "\u001b[0;31mAssertionError\u001b[0m                            Traceback (most recent call last)",
      "\u001b[0;32m<ipython-input-5-8566e7ced92e>\u001b[0m in \u001b[0;36m<module>\u001b[0;34m()\u001b[0m\n\u001b[1;32m      1\u001b[0m \u001b[0;32mfrom\u001b[0m \u001b[0mstatistics\u001b[0m \u001b[0;32mimport\u001b[0m \u001b[0mmean\u001b[0m\u001b[0;34m\u001b[0m\u001b[0m\n\u001b[1;32m      2\u001b[0m \u001b[0;34m\u001b[0m\u001b[0m\n\u001b[0;32m----> 3\u001b[0;31m \u001b[0;32massert\u001b[0m \u001b[0mcalculate_mean\u001b[0m\u001b[0;34m(\u001b[0m\u001b[0mdata\u001b[0m\u001b[0;34m)\u001b[0m \u001b[0;34m==\u001b[0m \u001b[0mmean\u001b[0m\u001b[0;34m(\u001b[0m\u001b[0mdata\u001b[0m\u001b[0;34m)\u001b[0m\u001b[0;34m\u001b[0m\u001b[0m\n\u001b[0m",
      "\u001b[0;31mAssertionError\u001b[0m: "
     ]
    }
   ],
   "source": [
    "from statistics import mean\n",
    "\n",
    "assert calculate_mean(data) == mean(data)"
   ]
  },
  {
   "cell_type": "code",
   "execution_count": null,
   "metadata": {
    "collapsed": false,
    "slideshow": {
     "slide_type": "slide"
    }
   },
   "outputs": [],
   "source": [
    "def calculate_mean(data):\n",
    "    \"\"\"Calculate the arithmetic average of a list\"\"\"\n",
    "    return sum(data) / len(data)"
   ]
  },
  {
   "cell_type": "markdown",
   "metadata": {
    "slideshow": {
     "slide_type": "slide"
    }
   },
   "source": [
    "Median\n",
    "----\n",
    "\n",
    "The middle number when the data values are put in order\n",
    "\n",
    "<center><img src=\"http://3.bp.blogspot.com/-G43KSyi6Ch0/U29KLv6pDeI/AAAAAAAAAHo/c-kAVEDXZQk/s1600/MedianVisual.gif\" height=\"500\"/></center>"
   ]
  },
  {
   "cell_type": "markdown",
   "metadata": {
    "slideshow": {
     "slide_type": "slide"
    }
   },
   "source": [
    "<center><img src=\"images/median.png\" height=\"500\"/></center>\n",
    "\n",
    "Not affected by extreme values (outliers)"
   ]
  },
  {
   "cell_type": "markdown",
   "metadata": {
    "slideshow": {
     "slide_type": "slide"
    }
   },
   "source": [
    "Check for understanding\n",
    "-----\n",
    "\n",
    "What is the median if n is odd? What is the median if n is even?"
   ]
  },
  {
   "cell_type": "markdown",
   "metadata": {
    "slideshow": {
     "slide_type": "fragment"
    }
   },
   "source": [
    "<center><img src=\"http://askinmask.com/wp-content/uploads/2011/3/kak-vychislit-srednee-znachenie-medianu-modu_5_1.jpg\" height=\"250\"/></center>\n",
    "If n is odd, the median is exactly the middle number. \n",
    "\n",
    "If n is even, the median is the average of the two middle numbers."
   ]
  },
  {
   "cell_type": "code",
   "execution_count": null,
   "metadata": {
    "collapsed": false,
    "slideshow": {
     "slide_type": "slide"
    }
   },
   "outputs": [],
   "source": [
    "data_even = list(range(10))\n",
    "data_odd = list(range(11))\n",
    "\n",
    "def calculate_median(data):\n",
    "    \"\"\"Calculate the middle value of a list\"\"\"\n",
    "    pass\n",
    "\n",
    "# HINT:\n",
    "3//2"
   ]
  },
  {
   "cell_type": "code",
   "execution_count": null,
   "metadata": {
    "collapsed": false,
    "slideshow": {
     "slide_type": "fragment"
    }
   },
   "outputs": [],
   "source": [
    "from statistics import median\n",
    "\n",
    "assert calculate_median(data_even) == median(data_even)\n",
    "assert calculate_median(data_odd) == median(data_odd)"
   ]
  },
  {
   "cell_type": "code",
   "execution_count": null,
   "metadata": {
    "collapsed": true,
    "slideshow": {
     "slide_type": "slide"
    }
   },
   "outputs": [],
   "source": [
    "def calculate_median(data):\n",
    "    \"\"\"Calculate the middle value of a list\"\"\"\n",
    "    data = sorted(data)          # Sort data\n",
    "    index = (len(data) - 1) // 2 # Location of middle value\n",
    "    \n",
    "    if (len(data) % 2):          # If odd, use middle value\n",
    "        return data[index]\n",
    "    else:                        # If even, use average of middle values\n",
    "        return (data[index] + data[index + 1]) / 2"
   ]
  },
  {
   "cell_type": "markdown",
   "metadata": {
    "slideshow": {
     "slide_type": "slide"
    }
   },
   "source": [
    "Mode\n",
    "----\n",
    "\n",
    "The most frequently occurred value\n",
    "\n",
    "<center><img src=\"http://3.bp.blogspot.com/-b9EBpSbyRJk/U25QMGl8D0I/AAAAAAAAAG8/GU_EOKvBExc/s1600/Centr-ModeVisual.gif\" height=\"500\"/></center>\n",
    " \n",
    "[Source](http://statisticsbypeter.blogspot.com/2014/05/mode.html)"
   ]
  },
  {
   "cell_type": "markdown",
   "metadata": {
    "slideshow": {
     "slide_type": "fragment"
    }
   },
   "source": [
    "Mode is __NOT__ affected by extreme values (outliers)"
   ]
  },
  {
   "cell_type": "markdown",
   "metadata": {
    "slideshow": {
     "slide_type": "slide"
    }
   },
   "source": [
    "<center><img src=\"images/mode_nope.png\" height=\"500\"/></center>\n",
    "\n",
    "There may be __no__ mode or several modes"
   ]
  },
  {
   "cell_type": "code",
   "execution_count": null,
   "metadata": {
    "collapsed": false,
    "slideshow": {
     "slide_type": "slide"
    }
   },
   "outputs": [],
   "source": [
    "data = [2, 1, 0, 1, 1, 0]\n",
    "\n",
    "def calculate_mode(data):\n",
    "    \"\"\"Calculate the most common value of a list\"\"\"\n",
    "    pass\n",
    "\n",
    "from collections import Counter"
   ]
  },
  {
   "cell_type": "code",
   "execution_count": null,
   "metadata": {
    "collapsed": false,
    "slideshow": {
     "slide_type": "fragment"
    }
   },
   "outputs": [],
   "source": [
    "from statistics import mode\n",
    "\n",
    "assert calculate_mode(data) == mode(data)"
   ]
  },
  {
   "cell_type": "code",
   "execution_count": null,
   "metadata": {
    "collapsed": false,
    "slideshow": {
     "slide_type": "slide"
    }
   },
   "outputs": [],
   "source": [
    "from collections import Counter\n",
    "\n",
    "def calculate_mode(data):\n",
    "    \"\"\"Calculate the most common value of a list\"\"\"\n",
    "    return Counter(data).most_common(n=1)[0][0]"
   ]
  },
  {
   "cell_type": "markdown",
   "metadata": {
    "slideshow": {
     "slide_type": "slide"
    }
   },
   "source": [
    "<center><img src=\"https://upload.wikimedia.org/wikipedia/en/2/2a/Wikipedia_Edit_Frequency.png\" height=\"350\"/></center>\n",
    "\n",
    "What do these measures of central tendency tell us about Wikipedia edits? "
   ]
  },
  {
   "cell_type": "markdown",
   "metadata": {
    "slideshow": {
     "slide_type": "slide"
    }
   },
   "source": [
    "<center><img src=\"http://assets.amuniversal.com/a7479dd06cb801301d46001dd8b71c47\" height=\"600\"/></center>"
   ]
  },
  {
   "cell_type": "markdown",
   "metadata": {
    "slideshow": {
     "slide_type": "slide"
    }
   },
   "source": [
    "Measures of Spread\n",
    "-----\n",
    "\n",
    "Can you guess a couple?"
   ]
  },
  {
   "cell_type": "markdown",
   "metadata": {
    "slideshow": {
     "slide_type": "slide"
    }
   },
   "source": [
    "Measures of Spread\n",
    "------\n",
    "\n",
    "- Range\n",
    "- Median Absolute Deviation (MAD)\n",
    "- Variance\n",
    "- Standard Deviation"
   ]
  },
  {
   "cell_type": "markdown",
   "metadata": {
    "slideshow": {
     "slide_type": "slide"
    }
   },
   "source": [
    "Range\n",
    "-----\n",
    "\n",
    "$ Range = x_{maximum} - x_{minimum}$"
   ]
  },
  {
   "cell_type": "markdown",
   "metadata": {
    "slideshow": {
     "slide_type": "slide"
    }
   },
   "source": [
    "Median Absolute Deviation (MAD)\n",
    "-------\n",
    "\n",
    "A robust measure of the variability of a univariate sample of quantitative data. \n",
    "\n",
    "<center><img src=\"images/mad.png\" height=\"500\"/></center>\n",
    "\n",
    "[Why we should retire Standard Deviation](https://www.edge.org/response-detail/25401)\n",
    "\n",
    "(can also use mean instead of median)"
   ]
  },
  {
   "cell_type": "code",
   "execution_count": null,
   "metadata": {
    "collapsed": true,
    "slideshow": {
     "slide_type": "fragment"
    }
   },
   "outputs": [],
   "source": [
    "data = [2, 2, 3, 4, 14]\n",
    "\n",
    "def calculate_mad(data):\n",
    "    \"\"\"Calculate the Median Absolute Deviation of a list\"\"\"\n",
    "    pass\n",
    "\n",
    "# Hint\n",
    "abs?"
   ]
  },
  {
   "cell_type": "code",
   "execution_count": null,
   "metadata": {
    "collapsed": false,
    "slideshow": {
     "slide_type": "fragment"
    }
   },
   "outputs": [],
   "source": [
    "assert calculate_mad(data) == 1"
   ]
  },
  {
   "cell_type": "code",
   "execution_count": null,
   "metadata": {
    "collapsed": true,
    "slideshow": {
     "slide_type": "slide"
    }
   },
   "outputs": [],
   "source": [
    "from statistics import median\n",
    "\n",
    "def calculate_mad(data):\n",
    "    \"\"\"Calculate the Median Absolute Deviation of a list\"\"\"\n",
    "    median_value = median(data)\n",
    "\n",
    "    diff = []\n",
    "    for item in data:\n",
    "        diff.append(abs(item-median_value))\n",
    "\n",
    "    return median(diff)"
   ]
  },
  {
   "cell_type": "code",
   "execution_count": null,
   "metadata": {
    "collapsed": true,
    "slideshow": {
     "slide_type": "slide"
    }
   },
   "outputs": [],
   "source": [
    "def calculate_mad(data):\n",
    "    \"\"\"Calculate the Median Absolute Deviation of a list\"\"\"\n",
    "    return median(map(lambda x: abs(x-median(data)), data))"
   ]
  },
  {
   "cell_type": "markdown",
   "metadata": {
    "slideshow": {
     "slide_type": "slide"
    }
   },
   "source": [
    "Variance & Standard Deviation\n",
    "-----\n",
    "\n",
    "Variance & Standard Deviation are cousins\n",
    "\n",
    "Standard Deviation rougly describes how far way the typical observation is from the mean."
   ]
  },
  {
   "cell_type": "markdown",
   "metadata": {
    "slideshow": {
     "slide_type": "slide"
    }
   },
   "source": [
    "Variance\n",
    "-----\n",
    "\n",
    "$$ s^2_x = \\frac{1}{n-1} \\sum_{i=1}^n (x_i - \\bar{x})^2 $$\n"
   ]
  },
  {
   "cell_type": "markdown",
   "metadata": {
    "slideshow": {
     "slide_type": "fragment"
    }
   },
   "source": [
    "----\n",
    "Standard Deviation\n",
    "----\n",
    "\n",
    "$$ s_x = \\sqrt{\\frac{1}{n-1} \\sum_{i=1}^n (x_i - \\bar{x})^2} $$\n",
    "\n",
    "The version of the formulas for population are a little different. You don't have worry about them because you typically just observe samples."
   ]
  },
  {
   "cell_type": "code",
   "execution_count": null,
   "metadata": {
    "collapsed": true,
    "slideshow": {
     "slide_type": "slide"
    }
   },
   "outputs": [],
   "source": [
    "data = list(range(100))\n",
    "\n",
    "def calculate_stdev(data):\n",
    "    \"\"\"Calculate the Standard Deviation of a list\"\"\"\n",
    "    pass"
   ]
  },
  {
   "cell_type": "code",
   "execution_count": null,
   "metadata": {
    "collapsed": false,
    "slideshow": {
     "slide_type": "slide"
    }
   },
   "outputs": [],
   "source": [
    "from statistics import stdev\n",
    "\n",
    "assert calculate_stdev(data) == stdev(data)"
   ]
  },
  {
   "cell_type": "code",
   "execution_count": null,
   "metadata": {
    "collapsed": false,
    "slideshow": {
     "slide_type": "slide"
    }
   },
   "outputs": [],
   "source": [
    "from statistics import mean\n",
    "\n",
    "def calculate_stdev(data):\n",
    "    \"\"\"Calculate the Standard Deviation of a list\"\"\"\n",
    "    return (sum(map(lambda x: (x - mean(data)) ** 2, data)) / (len(data) - 1))**.5"
   ]
  },
  {
   "cell_type": "markdown",
   "metadata": {
    "slideshow": {
     "slide_type": "slide"
    }
   },
   "source": [
    "Summary\n",
    "-----\n",
    "\n",
    "- EDA is the process of understanding your data.\n",
    "- Data should be represented as a matrix or table.\n",
    "- The most important descriptive statistics measure center and variation.\n",
    "- Choose your descriptive statistics wisely"
   ]
  },
  {
   "cell_type": "markdown",
   "metadata": {
    "slideshow": {
     "slide_type": "slide"
    }
   },
   "source": [
    "<br>\n",
    "<br> \n",
    "<br>\n",
    "\n",
    "----"
   ]
  },
  {
   "cell_type": "markdown",
   "metadata": {
    "slideshow": {
     "slide_type": "slide"
    }
   },
   "source": [
    "Bonus Material\n",
    "-----"
   ]
  },
  {
   "cell_type": "markdown",
   "metadata": {
    "slideshow": {
     "slide_type": "slide"
    }
   },
   "source": [
    "Geometric mean\n",
    "----\n",
    "\n",
    "Indicates the central tendency or typical value of a set of numbers by using the product of their values \n",
    "(as opposed to the arithmetic mean which uses their sum)\n",
    "\n",
    "<center><img src=\"https://wikimedia.org/api/rest_v1/media/math/render/svg/78e45b0076a1c2c6935c0d1ddb849000afe2b5f5\" height=\"500\"/></center>\n",
    "\n",
    "Useful when comparing different items on different numerical scales"
   ]
  },
  {
   "cell_type": "markdown",
   "metadata": {
    "slideshow": {
     "slide_type": "slide"
    }
   },
   "source": [
    "Winsorized mean\n",
    "-------\n",
    "\n",
    "the calculation of the mean after replacing given parts of a probability distribution or sample at the high and low end with the most extreme remaining values\n",
    "\n",
    "<center><img src=\"images/win.png\" height=\"500\"/></center>\n",
    "\n",
    "typically doing so for an equal amount of both extremes\n",
    "\n",
    "often 10 to 25 percent of the ends are replaced.\n",
    "    "
   ]
  },
  {
   "cell_type": "markdown",
   "metadata": {
    "slideshow": {
     "slide_type": "slide"
    }
   },
   "source": [
    "Percentile\n",
    "-----\n",
    "\n",
    "The $p^{th}$ percentile - $p\\%$ of the values in the data are less than or equal to this value ($0 \\leq p \\leq 100$)\n",
    "\n",
    "<center><img src=\"https://s-media-cache-ak0.pinimg.com/564x/94/39/fb/9439fb82998c209a35146093422007e6.jpg\" height=\"500\"/></center>\n",
    "\n",
    "Quartile\n",
    "-----\n",
    "- $1^{st}$ quartile = $25^{th}$ percentile\n",
    "- $2^{nd}$ quartile = $50^{th}$ percentile = __median__\n",
    "- $3^{rd}$ quartile = $75^{th}$ percentile\n",
    "\n",
    "<img src=\"images/quartile.png\" width=\"500\">"
   ]
  },
  {
   "cell_type": "markdown",
   "metadata": {
    "collapsed": true,
    "slideshow": {
     "slide_type": "slide"
    }
   },
   "source": [
    "<br>\n",
    "<br> \n",
    "<br>\n",
    "\n",
    "----"
   ]
  }
 ],
 "metadata": {
  "anaconda-cloud": {},
  "celltoolbar": "Slideshow",
  "kernelspec": {
   "display_name": "Python [Root]",
   "language": "python",
   "name": "Python [Root]"
  },
  "language_info": {
   "codemirror_mode": {
    "name": "ipython",
    "version": 3
   },
   "file_extension": ".py",
   "mimetype": "text/x-python",
   "name": "python",
   "nbconvert_exporter": "python",
   "pygments_lexer": "ipython3",
   "version": "3.5.2"
  }
 },
 "nbformat": 4,
 "nbformat_minor": 0
}
